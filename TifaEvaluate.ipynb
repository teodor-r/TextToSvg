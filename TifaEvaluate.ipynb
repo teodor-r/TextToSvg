{
 "cells": [
  {
   "cell_type": "code",
   "id": "initial_id",
   "metadata": {
    "collapsed": true,
    "ExecuteTime": {
     "end_time": "2025-06-18T18:42:17.923881Z",
     "start_time": "2025-06-18T18:42:11.475297Z"
    }
   },
   "source": [
    "import clip\n",
    "print(clip.__file__)\n",
    "from transformers import AutoModelForCausalLM, AutoTokenizer\n",
    "import numpy as np\n",
    "import pandas as pd\n",
    "from multiprocessing import cpu_count\n",
    "from multiproc_converter_to_png import convert_svgs_to_pngs_parallel, load_images_parallel\n",
    "from tqdm.notebook import tqdm\n",
    "from datasets import Dataset\n",
    "from transformers import AutoModelForCausalLM, AutoTokenizer\n",
    "from torch.utils.data import DataLoader\n",
    "import os\n",
    "from tifa.tifascore import tifa_score_benchmark\n",
    "from configs.config_util import *\n",
    "import json\n",
    "cur_path = os.getcwd()\n",
    "cur_path"
   ],
   "outputs": [
    {
     "name": "stdout",
     "output_type": "stream",
     "text": [
      "/home/student/kuzin/python_project/TextToSvg_MLCUP/.venv/lib/python3.10/site-packages/clip/__init__.py\n"
     ]
    },
    {
     "name": "stderr",
     "output_type": "stream",
     "text": [
      "/home/student/kuzin/python_project/TextToSvg_MLCUP/.venv/lib/python3.10/site-packages/fairscale/experimental/nn/offload.py:19: FutureWarning: `torch.cuda.amp.custom_fwd(args...)` is deprecated. Please use `torch.amp.custom_fwd(args..., device_type='cuda')` instead.\n",
      "  return torch.cuda.amp.custom_fwd(orig_func)  # type: ignore\n",
      "/home/student/kuzin/python_project/TextToSvg_MLCUP/.venv/lib/python3.10/site-packages/fairscale/experimental/nn/offload.py:30: FutureWarning: `torch.cuda.amp.custom_bwd(args...)` is deprecated. Please use `torch.amp.custom_bwd(args..., device_type='cuda')` instead.\n",
      "  return torch.cuda.amp.custom_bwd(orig_func)  # type: ignore\n",
      "/home/student/kuzin/python_project/TextToSvg_MLCUP/.venv/lib/python3.10/site-packages/fairseq/modules/multihead_attention.py:15: FutureWarning: xformers.components is deprecated and is not maintained anymore. It might be removed in a future version of xFormers \n",
      "  from xformers.components.attention import build_attention\n",
      "/home/student/kuzin/python_project/TextToSvg_MLCUP/.venv/lib/python3.10/site-packages/timm/models/hub.py:4: FutureWarning: Importing from timm.models.hub is deprecated, please import via timm.models\n",
      "  warnings.warn(f\"Importing from {__name__} is deprecated, please import via timm.models\", FutureWarning)\n",
      "/home/student/kuzin/python_project/TextToSvg_MLCUP/.venv/lib/python3.10/site-packages/timm/models/registry.py:4: FutureWarning: Importing from timm.models.registry is deprecated, please import via timm.models\n",
      "  warnings.warn(f\"Importing from {__name__} is deprecated, please import via timm.models\", FutureWarning)\n",
      "/home/student/kuzin/python_project/TextToSvg_MLCUP/.venv/lib/python3.10/site-packages/timm/models/layers/__init__.py:48: FutureWarning: Importing from timm.models.layers is deprecated, please import via timm.layers\n",
      "  warnings.warn(f\"Importing from {__name__} is deprecated, please import via timm.layers\", FutureWarning)\n",
      "/home/student/kuzin/python_project/TextToSvg_MLCUP/.venv/lib/python3.10/site-packages/timm/models/helpers.py:7: FutureWarning: Importing from timm.models.helpers is deprecated, please import via timm.models\n",
      "  warnings.warn(f\"Importing from {__name__} is deprecated, please import via timm.models\", FutureWarning)\n"
     ]
    },
    {
     "data": {
      "text/plain": [
       "'/home/student/kuzin/python_project/TextToSvg_MLCUP'"
      ]
     },
     "execution_count": 1,
     "metadata": {},
     "output_type": "execute_result"
    }
   ],
   "execution_count": 1
  },
  {
   "metadata": {
    "ExecuteTime": {
     "end_time": "2025-06-18T18:42:17.951636Z",
     "start_time": "2025-06-18T18:42:17.947784Z"
    }
   },
   "cell_type": "code",
   "source": [
    "config_path = os.path.join(cur_path, 'configs',\"Qwen3_0_6B.yaml\")\n",
    "print(config_path)\n",
    "config = load_config(config_path)\n",
    "print(config)"
   ],
   "id": "6698f9f408f15b0b",
   "outputs": [
    {
     "name": "stdout",
     "output_type": "stream",
     "text": [
      "/home/student/kuzin/python_project/TextToSvg_MLCUP/configs/Qwen3_0_6B.yaml\n",
      "ModelConfig(path='Qwen/Qwen3-0.6B', max_new_tokens=1500, enable_thinking=False, torch_dtype='bfloat16', device_map='cuda', attn_implementation='flash_attention_2')\n"
     ]
    }
   ],
   "execution_count": 2
  },
  {
   "metadata": {
    "ExecuteTime": {
     "end_time": "2025-06-18T18:42:20.197953Z",
     "start_time": "2025-06-18T18:42:18.145256Z"
    }
   },
   "cell_type": "code",
   "source": [
    "model = AutoModelForCausalLM.from_pretrained(config.path, device_map = config.device_map, torch_dtype = config.torch_dtype,attn_implementation = config.attn_implementation)\n",
    "tokenizer = AutoTokenizer.from_pretrained(config.path)\n",
    "model.bfloat16()\n",
    "tokenizer.padding_side  = 'left'"
   ],
   "id": "113afd06c72b0b4e",
   "outputs": [],
   "execution_count": 3
  },
  {
   "metadata": {},
   "cell_type": "markdown",
   "source": "### Sanity check correct model upload",
   "id": "d47fa6ea373adabb"
  },
  {
   "metadata": {
    "ExecuteTime": {
     "end_time": "2025-06-18T18:42:26.952739Z",
     "start_time": "2025-06-18T18:42:20.260960Z"
    }
   },
   "cell_type": "code",
   "source": [
    "messages = [\n",
    " {\"role\": \"user\", \"content\": \"Generate SVG image from description: 'On a gray day a surfer carrying a white board walks on a beach' .The SVG scene should be of the following dimensions 256*256. First, think about the scene, about the objects on the stage and their characteristics. Draw simple. Make sure that all tags are closed and the svg is correct!\"}\n",
    "]\n",
    "text = tokenizer.apply_chat_template(\n",
    "    messages,\n",
    "    tokenize = False,\n",
    "    add_generation_prompt = True, # Must add for generation\n",
    "    temperature = 0.7, top_p = 0.8, top_k = 20, # For non thinking\n",
    "    repetition_penalty=10,  # немного штрафует за повторы\n",
    "    enable_thinking = config.enable_thinking, # Disable thinking\n",
    ")\n",
    "\n",
    "from transformers import TextStreamer\n",
    "_ = model.generate(\n",
    "    **tokenizer(text, return_tensors = \"pt\").to(\"cuda\"),\n",
    "    max_new_tokens = config.max_new_tokens, # Increase for longer outputs!\n",
    "    streamer = TextStreamer(tokenizer, skip_prompt = True),\n",
    ")"
   ],
   "id": "c254b9b40f4ae1f2",
   "outputs": [
    {
     "name": "stdout",
     "output_type": "stream",
     "text": [
      "Sure! Below is an SVG image based on the description:\n",
      "\n",
      "```xml\n",
      "<svg width=\"256\" height=\"256\" xmlns=\"http://www.w3.org/2000/svg\">\n",
      "  <!-- Background (gray) -->\n",
      "  <rect width=\"256\" height=\"256\" fill=\"gray\" />\n",
      "\n",
      "  <!-- Surfer and white board -->\n",
      "  <rect x=\"100\" y=\"100\" width=\"100\" height=\"100\" fill=\"white\" />\n",
      "</svg>\n",
      "```\n",
      "\n",
      "### Notes:\n",
      "- The SVG is 256x256 pixels.\n",
      "- The surfer is centered at `(100, 100)`.\n",
      "- The white board is drawn as a rectangle of 100x100 pixels.\n",
      "- The background is a gray rectangle covering the entire canvas.\n",
      "\n",
      "Let me know if you'd like to add more details!<|im_end|>\n"
     ]
    }
   ],
   "execution_count": 4
  },
  {
   "metadata": {
    "ExecuteTime": {
     "end_time": "2025-06-18T18:42:26.967173Z",
     "start_time": "2025-06-18T18:42:26.963692Z"
    }
   },
   "cell_type": "code",
   "source": [
    "### want\n",
    "\"\"\"\n",
    "data/\n",
    "    Qwen/\n",
    "        model_name/\n",
    "            tifa_generation.json : {\"coco_301091\": \"./src/coco_301091.jpg\", ..., }\n",
    "            src/\n",
    "                coco_301091.jpg\n",
    "    tifa_eval_dataset.csv : {\"coco_301091\": \"Desciption in words\", ..., }\n",
    "\"\"\"\n"
   ],
   "id": "8e0099840d115110",
   "outputs": [
    {
     "data": {
      "text/plain": [
       "'\\ndata/\\n    Qwen/\\n        model_name/\\n            tifa_generation.json : {\"coco_301091\": \"./src/coco_301091.jpg\", ..., }\\n            src/\\n                coco_301091.jpg\\n    tifa_eval_dataset.csv : {\"coco_301091\": \"Desciption in words\", ..., }\\n'"
      ]
     },
     "execution_count": 5,
     "metadata": {},
     "output_type": "execute_result"
    }
   ],
   "execution_count": 5
  },
  {
   "metadata": {},
   "cell_type": "markdown",
   "source": "### Create  tifa_eval_dataset.csv",
   "id": "ab820cfbc5b32fcf"
  },
  {
   "metadata": {
    "ExecuteTime": {
     "end_time": "2025-06-18T18:42:27.040002Z",
     "start_time": "2025-06-18T18:42:27.018926Z"
    }
   },
   "cell_type": "code",
   "source": [
    "import pandas as pd\n",
    "df = pd.read_json('./tifa/tifa_v1.0/tifa_v1.0_text_inputs.json')\n",
    "df.to_csv(\"./data/tifa_eval_dataset.csv\")\n",
    "eval_dataset = df"
   ],
   "id": "d1e5bae806b1222c",
   "outputs": [],
   "execution_count": 6
  },
  {
   "metadata": {
    "ExecuteTime": {
     "end_time": "2025-06-18T18:42:27.090003Z",
     "start_time": "2025-06-18T18:42:27.075825Z"
    }
   },
   "cell_type": "code",
   "source": [
    "import pandas as pd\n",
    "df = pd.read_json('./tifa/tifa_v1.0/tifa_v1.0_text_inputs.json')\n",
    "print(f\"Количество записей: {len(df)}\")\n",
    "print(f\"Колонки: {df.columns.tolist()}\")\n",
    "print(\"\\nПервые 5 строк:\")\n",
    "df.head()"
   ],
   "id": "d2d83d27e2ee0846",
   "outputs": [
    {
     "name": "stdout",
     "output_type": "stream",
     "text": [
      "Количество записей: 4081\n",
      "Колонки: ['id', 'caption', 'coco_val_id']\n",
      "\n",
      "Первые 5 строк:\n"
     ]
    },
    {
     "data": {
      "text/plain": [
       "            id                                            caption  coco_val_id\n",
       "0  coco_301091  On a gray day a surfer carrying a white board ...     380711.0\n",
       "1  coco_421933  A person sitting on a horse in air over gate i...     260106.0\n",
       "2   coco_55404  A small room with a futon couch, a sewing mach...      39477.0\n",
       "3  coco_738534           A pile of orange sitting in a blue bowl.     290081.0\n",
       "4  coco_788027              A horse and several cows feed on hay.      61171.0"
      ],
      "text/html": [
       "<div>\n",
       "<style scoped>\n",
       "    .dataframe tbody tr th:only-of-type {\n",
       "        vertical-align: middle;\n",
       "    }\n",
       "\n",
       "    .dataframe tbody tr th {\n",
       "        vertical-align: top;\n",
       "    }\n",
       "\n",
       "    .dataframe thead th {\n",
       "        text-align: right;\n",
       "    }\n",
       "</style>\n",
       "<table border=\"1\" class=\"dataframe\">\n",
       "  <thead>\n",
       "    <tr style=\"text-align: right;\">\n",
       "      <th></th>\n",
       "      <th>id</th>\n",
       "      <th>caption</th>\n",
       "      <th>coco_val_id</th>\n",
       "    </tr>\n",
       "  </thead>\n",
       "  <tbody>\n",
       "    <tr>\n",
       "      <th>0</th>\n",
       "      <td>coco_301091</td>\n",
       "      <td>On a gray day a surfer carrying a white board ...</td>\n",
       "      <td>380711.0</td>\n",
       "    </tr>\n",
       "    <tr>\n",
       "      <th>1</th>\n",
       "      <td>coco_421933</td>\n",
       "      <td>A person sitting on a horse in air over gate i...</td>\n",
       "      <td>260106.0</td>\n",
       "    </tr>\n",
       "    <tr>\n",
       "      <th>2</th>\n",
       "      <td>coco_55404</td>\n",
       "      <td>A small room with a futon couch, a sewing mach...</td>\n",
       "      <td>39477.0</td>\n",
       "    </tr>\n",
       "    <tr>\n",
       "      <th>3</th>\n",
       "      <td>coco_738534</td>\n",
       "      <td>A pile of orange sitting in a blue bowl.</td>\n",
       "      <td>290081.0</td>\n",
       "    </tr>\n",
       "    <tr>\n",
       "      <th>4</th>\n",
       "      <td>coco_788027</td>\n",
       "      <td>A horse and several cows feed on hay.</td>\n",
       "      <td>61171.0</td>\n",
       "    </tr>\n",
       "  </tbody>\n",
       "</table>\n",
       "</div>"
      ]
     },
     "execution_count": 7,
     "metadata": {},
     "output_type": "execute_result"
    }
   ],
   "execution_count": 7
  },
  {
   "metadata": {
    "ExecuteTime": {
     "end_time": "2025-06-18T18:42:27.198076Z",
     "start_time": "2025-06-18T18:42:27.164609Z"
    }
   },
   "cell_type": "code",
   "source": [
    "optional_prompt = \"The SVG scene should be of the following dimensions 256*256. First, think about the scene, about the objects on the stage and their characteristics. Make sure that all tags are closed and the svg is correct! Answer is only SVG without comments!\"\n",
    "def get_sample(row):\n",
    "    user_content_prompt = f\"Generate SVG image from description <{row.caption[:-1]}>. {optional_prompt}\"\n",
    "    return [{\"role\": \"user\", \"content\": user_content_prompt}]\n",
    "\n",
    "\n",
    "eval_dataset[\"eval_data\"] = eval_dataset.apply(get_sample, axis=1)\n",
    "eval_dataset.eval_data[1:3]"
   ],
   "id": "fb32c1c4e2fd644b",
   "outputs": [
    {
     "data": {
      "text/plain": [
       "1    [{'role': 'user', 'content': 'Generate SVG ima...\n",
       "2    [{'role': 'user', 'content': 'Generate SVG ima...\n",
       "Name: eval_data, dtype: object"
      ]
     },
     "execution_count": 8,
     "metadata": {},
     "output_type": "execute_result"
    }
   ],
   "execution_count": 8
  },
  {
   "metadata": {
    "ExecuteTime": {
     "end_time": "2025-06-18T18:42:27.240530Z",
     "start_time": "2025-06-18T18:42:27.221131Z"
    }
   },
   "cell_type": "code",
   "source": [
    "dataset = Dataset.from_dict({\"query\": list(eval_dataset[\"eval_data\"])})\n",
    "dataset[1]['query']"
   ],
   "id": "2bdb1407d4b6fee2",
   "outputs": [
    {
     "data": {
      "text/plain": [
       "[{'content': 'Generate SVG image from description <A person sitting on a horse in air over gate in grass with people and trees in background>. The SVG scene should be of the following dimensions 256*256. First, think about the scene, about the objects on the stage and their characteristics. Make sure that all tags are closed and the svg is correct! Answer is only SVG without comments!',\n",
       "  'role': 'user'}]"
      ]
     },
     "execution_count": 9,
     "metadata": {},
     "output_type": "execute_result"
    }
   ],
   "execution_count": 9
  },
  {
   "metadata": {
    "ExecuteTime": {
     "end_time": "2025-06-18T18:42:27.886048Z",
     "start_time": "2025-06-18T18:42:27.324666Z"
    }
   },
   "cell_type": "code",
   "source": "dataset = dataset.map(lambda x: {\"formatted_query\": tokenizer.apply_chat_template(x[\"query\"], tokenize=False, add_generation_prompt=True, enable_thinking=False)}, remove_columns=[\"query\"])",
   "id": "6e750b9d2f667b79",
   "outputs": [
    {
     "data": {
      "text/plain": [
       "Map:   0%|          | 0/4081 [00:00<?, ? examples/s]"
      ],
      "application/vnd.jupyter.widget-view+json": {
       "version_major": 2,
       "version_minor": 0,
       "model_id": "ae7b86e5258241f4a4cb34aa59f17a67"
      }
     },
     "metadata": {},
     "output_type": "display_data"
    }
   ],
   "execution_count": 10
  },
  {
   "metadata": {
    "ExecuteTime": {
     "end_time": "2025-06-18T18:42:27.915916Z",
     "start_time": "2025-06-18T18:42:27.909244Z"
    }
   },
   "cell_type": "code",
   "source": "print(dataset['formatted_query'][0])",
   "id": "22a0c9ba90495777",
   "outputs": [
    {
     "name": "stdout",
     "output_type": "stream",
     "text": [
      "<|im_start|>user\n",
      "Generate SVG image from description <On a gray day a surfer carrying a white board walks on a beach>. The SVG scene should be of the following dimensions 256*256. First, think about the scene, about the objects on the stage and their characteristics. Make sure that all tags are closed and the svg is correct! Answer is only SVG without comments!<|im_end|>\n",
      "<|im_start|>assistant\n",
      "<think>\n",
      "\n",
      "</think>\n",
      "\n",
      "\n"
     ]
    }
   ],
   "execution_count": 11
  },
  {
   "metadata": {
    "ExecuteTime": {
     "end_time": "2025-06-18T18:42:28.093400Z",
     "start_time": "2025-06-18T18:42:27.954821Z"
    }
   },
   "cell_type": "code",
   "source": [
    "plug_prompt =  \"Okay, I think I have finished thinking\"\n",
    "import re\n",
    "\n",
    "def insert_text_between_think_tags(original_text):\n",
    "    original_text = original_text[\"formatted_query\"]\n",
    "    return {\n",
    "        \"formatted_query\":\n",
    "        re.sub(\n",
    "        r'(<think>).*?(</think>)',\n",
    "        r'\\1{}\\2'.format(plug_prompt),\n",
    "        original_text,\n",
    "        flags=re.DOTALL\n",
    "    )\n",
    "    }\n",
    "dataset = dataset.map(insert_text_between_think_tags)\n",
    "print(dataset), dataset[0]"
   ],
   "id": "419d901f8dce52f7",
   "outputs": [
    {
     "data": {
      "text/plain": [
       "Map:   0%|          | 0/4081 [00:00<?, ? examples/s]"
      ],
      "application/vnd.jupyter.widget-view+json": {
       "version_major": 2,
       "version_minor": 0,
       "model_id": "12173d7a687c41f0a34ded898acb06ba"
      }
     },
     "metadata": {},
     "output_type": "display_data"
    },
    {
     "name": "stdout",
     "output_type": "stream",
     "text": [
      "Dataset({\n",
      "    features: ['formatted_query'],\n",
      "    num_rows: 4081\n",
      "})\n"
     ]
    },
    {
     "data": {
      "text/plain": [
       "(None,\n",
       " {'formatted_query': '<|im_start|>user\\nGenerate SVG image from description <On a gray day a surfer carrying a white board walks on a beach>. The SVG scene should be of the following dimensions 256*256. First, think about the scene, about the objects on the stage and their characteristics. Make sure that all tags are closed and the svg is correct! Answer is only SVG without comments!<|im_end|>\\n<|im_start|>assistant\\n<think>Okay, I think I have finished thinking</think>\\n\\n'})"
      ]
     },
     "execution_count": 12,
     "metadata": {},
     "output_type": "execute_result"
    }
   ],
   "execution_count": 12
  },
  {
   "metadata": {
    "ExecuteTime": {
     "end_time": "2025-06-18T18:42:28.879805Z",
     "start_time": "2025-06-18T18:42:28.148884Z"
    }
   },
   "cell_type": "code",
   "source": [
    "def preprocess_function(examples):\n",
    "    return tokenizer(examples[\"formatted_query\"], padding=False, truncation=False)\n",
    "tokenized_dataset = dataset.map(\n",
    "    preprocess_function,\n",
    "    batched=True,\n",
    "    num_proc=4,\n",
    "    remove_columns=[\"formatted_query\"]\n",
    ")"
   ],
   "id": "f80b1a727589b9ba",
   "outputs": [
    {
     "data": {
      "text/plain": [
       "Map (num_proc=4):   0%|          | 0/4081 [00:00<?, ? examples/s]"
      ],
      "application/vnd.jupyter.widget-view+json": {
       "version_major": 2,
       "version_minor": 0,
       "model_id": "5b5c4a0a580a4a3bacbc1efcff429457"
      }
     },
     "metadata": {},
     "output_type": "display_data"
    }
   ],
   "execution_count": 13
  },
  {
   "metadata": {
    "ExecuteTime": {
     "end_time": "2025-06-18T18:42:28.895887Z",
     "start_time": "2025-06-18T18:42:28.892098Z"
    }
   },
   "cell_type": "code",
   "source": "print(tokenizer.batch_decode(tokenized_dataset[0]['input_ids'], skip_special_tokens=True))",
   "id": "8d4becd35ca0b0ad",
   "outputs": [
    {
     "name": "stdout",
     "output_type": "stream",
     "text": [
      "['', 'user', '\\n', 'Generate', ' SVG', ' image', ' from', ' description', ' <', 'On', ' a', ' gray', ' day', ' a', ' sur', 'fer', ' carrying', ' a', ' white', ' board', ' walks', ' on', ' a', ' beach', '>.', ' The', ' SVG', ' scene', ' should', ' be', ' of', ' the', ' following', ' dimensions', ' ', '2', '5', '6', '*', '2', '5', '6', '.', ' First', ',', ' think', ' about', ' the', ' scene', ',', ' about', ' the', ' objects', ' on', ' the', ' stage', ' and', ' their', ' characteristics', '.', ' Make', ' sure', ' that', ' all', ' tags', ' are', ' closed', ' and', ' the', ' svg', ' is', ' correct', '!', ' Answer', ' is', ' only', ' SVG', ' without', ' comments', '!', '', '\\n', '', 'assistant', '\\n', '<think>', 'Okay', ',', ' I', ' think', ' I', ' have', ' finished', ' thinking', '</think>', '\\n\\n']\n"
     ]
    }
   ],
   "execution_count": 14
  },
  {
   "metadata": {
    "ExecuteTime": {
     "end_time": "2025-06-18T18:42:28.965489Z",
     "start_time": "2025-06-18T18:42:28.951466Z"
    }
   },
   "cell_type": "code",
   "source": [
    "from transformers import DataCollatorWithPadding\n",
    "data_collator = DataCollatorWithPadding(tokenizer=tokenizer)\n",
    "\n",
    "# Создаем DataLoader\n",
    "dataloader = DataLoader(\n",
    "    tokenized_dataset,\n",
    "    batch_size=64,\n",
    "    shuffle=False,\n",
    "    collate_fn=data_collator,\n",
    ")\n",
    "model.eval()"
   ],
   "id": "96e801c2b872afd6",
   "outputs": [
    {
     "data": {
      "text/plain": [
       "Qwen3ForCausalLM(\n",
       "  (model): Qwen3Model(\n",
       "    (embed_tokens): Embedding(151936, 1024)\n",
       "    (layers): ModuleList(\n",
       "      (0-27): 28 x Qwen3DecoderLayer(\n",
       "        (self_attn): Qwen3Attention(\n",
       "          (q_proj): Linear(in_features=1024, out_features=2048, bias=False)\n",
       "          (k_proj): Linear(in_features=1024, out_features=1024, bias=False)\n",
       "          (v_proj): Linear(in_features=1024, out_features=1024, bias=False)\n",
       "          (o_proj): Linear(in_features=2048, out_features=1024, bias=False)\n",
       "          (q_norm): Qwen3RMSNorm((128,), eps=1e-06)\n",
       "          (k_norm): Qwen3RMSNorm((128,), eps=1e-06)\n",
       "        )\n",
       "        (mlp): Qwen3MLP(\n",
       "          (gate_proj): Linear(in_features=1024, out_features=3072, bias=False)\n",
       "          (up_proj): Linear(in_features=1024, out_features=3072, bias=False)\n",
       "          (down_proj): Linear(in_features=3072, out_features=1024, bias=False)\n",
       "          (act_fn): SiLU()\n",
       "        )\n",
       "        (input_layernorm): Qwen3RMSNorm((1024,), eps=1e-06)\n",
       "        (post_attention_layernorm): Qwen3RMSNorm((1024,), eps=1e-06)\n",
       "      )\n",
       "    )\n",
       "    (norm): Qwen3RMSNorm((1024,), eps=1e-06)\n",
       "    (rotary_emb): Qwen3RotaryEmbedding()\n",
       "  )\n",
       "  (lm_head): Linear(in_features=1024, out_features=151936, bias=False)\n",
       ")"
      ]
     },
     "execution_count": 15,
     "metadata": {},
     "output_type": "execute_result"
    }
   ],
   "execution_count": 15
  },
  {
   "metadata": {
    "ExecuteTime": {
     "end_time": "2025-06-18T20:36:40.767675Z",
     "start_time": "2025-06-18T18:42:29.008840Z"
    }
   },
   "cell_type": "code",
   "source": [
    "once_checked= False\n",
    "svg_answers = []\n",
    "for batch in tqdm(dataloader, desc=\"Генерация SVG\"):\n",
    "    batch = {k: v.to(\"cuda\") for k, v in batch.items()}\n",
    "    with torch.no_grad():\n",
    "        print()\n",
    "        outputs = model.generate(\n",
    "            input_ids=batch[\"input_ids\"],\n",
    "            attention_mask=batch[\"attention_mask\"],\n",
    "            max_new_tokens=config.max_new_tokens,\n",
    "            use_cache = True,\n",
    "            length_penalty=1.1,\n",
    "        )\n",
    "        input_ids = batch[\"input_ids\"].cpu()\n",
    "        outputs =  outputs.cpu()\n",
    "        batch_output_ids = [\n",
    "            outputs[i][len(input_ids[i]):].tolist()\n",
    "            for i in range(input_ids.size(0))\n",
    "        ]\n",
    "    decoded_responses= tokenizer.batch_decode(batch_output_ids, skip_special_tokens=True)\n",
    "    if once_checked == False:\n",
    "        once_checked = True\n",
    "        print(\"simple check\")\n",
    "        print(decoded_responses)\n",
    "    svg_answers+=decoded_responses"
   ],
   "id": "2dafbed3d5ffec6a",
   "outputs": [
    {
     "data": {
      "text/plain": [
       "Генерация SVG:   0%|          | 0/64 [00:00<?, ?it/s]"
      ],
      "application/vnd.jupyter.widget-view+json": {
       "version_major": 2,
       "version_minor": 0,
       "model_id": "1c51e3705c7e4c0580ed87ee48aaa9ea"
      }
     },
     "metadata": {},
     "output_type": "display_data"
    },
    {
     "name": "stdout",
     "output_type": "stream",
     "text": [
      "\n",
      "simple check\n",
      "['<svg width=\"256\" height=\"256\" xmlns=\"http://www.w3.org/2000/svg\">\\n  <!-- The surfer and the white board -->\\n  <rect x=\"100\" y=\"100\" width=\"156\" height=\"156\" fill=\"white\" />\\n  <rect x=\"200\" y=\"100\" width=\"156\" height=\"156\" fill=\"gray\" />\\n  <rect x=\"150\" y=\"150\" width=\"100\" height=\"100\" fill=\"white\" />\\n  <rect x=\"150\" y=\"150\" width=\"100\" height=\"100\" fill=\"black\" />\\n</svg>', '<svg width=\"256\" height=\"256\" xmlns=\"http://www.w3.org/2000/svg\">\\n  <rect width=\"256\" height=\"256\" fill=\"white\"/>\\n  <polygon points=\"128,0 192,128 192,224 0,224 0,0\" fill=\"white\"/>\\n  <rect width=\"128\" height=\"224\" fill=\"white\"/>\\n  <polygon points=\"128,0 192,128 192,224 0,224 0,0\" fill=\"white\"/>\\n  <circle cx=\"128\" cy=\"128\" r=\"10\"/>\\n  <circle cx=\"192\" cy=\"128\" r=\"10\"/>\\n  <circle cx=\"192\" cy=\"224\" r=\"10\"/>\\n  <circle cx=\"0\" cy=\"224\" r=\"10\"/>\\n  <circle cx=\"0\" cy=\"0\" r=\"10\"/>\\n  <path d=\"M 128 0 L 128 224\" fill=\"white\"/>\\n  <path d=\"M 192 0 L 192 224\" fill=\"white\"/>\\n  <path d=\"M 0 128 L 0 224\" fill=\"white\"/>\\n  <path d=\"M 0 0 L 128 0\" fill=\"white\"/>\\n  <path d=\"M 0 0 L 192 0\" fill=\"white\"/>\\n  <path d=\"M 0 0 L 0 128\" fill=\"white\"/>\\n  <path d=\"M 0 0 L 0 224\" fill=\"white\"/>\\n  <path d=\"M 0 0 L 128 0\" fill=\"white\"/>\\n</svg>', '<svg width=\"256\" height=\"256\" xmlns=\"http://www.w3.org/2000/svg\">\\n  <!-- Room with futon couch, sewing machine, and flatscreen TV -->\\n  <rect width=\"256\" height=\"256\" fill=\"white\"/>\\n  <!-- Futon couch -->\\n  <rect x=\"100\" y=\"100\" width=\"100\" height=\"100\" fill=\"lightblue\"/>\\n  <!-- Sewing machine on table -->\\n  <rect x=\"150\" y=\"150\" width=\"50\" height=\"50\" fill=\"red\"/>\\n  <!-- Flatscreen TV -->\\n  <rect x=\"200\" y=\"200\" width=\"100\" height=\"100\" fill=\"blue\"/>\\n</svg>', '<svg width=\"256\" height=\"256\" xmlns=\"http://www.w3.org/2000/svg\">\\n  <rect width=\"256\" height=\"256\" fill=\"white\"/>\\n  <rect x=\"20\" y=\"20\" width=\"226\" height=\"226\" fill=\"orange\"/>\\n  <rect x=\"20\" y=\"20\" width=\"226\" height=\"226\" fill=\"blue\"/>\\n</svg>', '<svg width=\"256\" height=\"256\" xmlns=\"http://www.w3.org/2000/svg\">\\n  <!-- Horse -->\\n  <rect width=\"100\" height=\"50\" x=\"100\" y=\"100\" fill=\"white\"/>\\n  <line x1=\"100\" y1=\"100\" x2=\"150\" y2=\"100\" stroke=\"black\" stroke-width=\"2\"/>\\n  <text x=\"120\" y=\"120\" font-size=\"24\" font-family=\"Arial\" fill=\"black\">Horse</text>\\n\\n  <!-- Cows -->\\n  <rect width=\"30\" height=\"20\" x=\"150\" y=\"120\" fill=\"white\"/>\\n  <rect width=\"30\" height=\"20\" x=\"180\" y=\"140\" fill=\"white\"/>\\n  <rect width=\"30\" height=\"20\" x=\"210\" y=\"160\" fill=\"white\"/>\\n\\n  <!-- Hay -->\\n  <rect width=\"20\" height=\"10\" x=\"180\" y=\"140\" fill=\"white\"/>\\n  <rect width=\"20\" height=\"10\" x=\"210\" y=\"160\" fill=\"white\"/>\\n  <rect width=\"20\" height=\"10\" x=\"240\" y=\"180\" fill=\"white\"/>\\n</svg>', '<svg width=\"256\" height=\"256\" xmlns=\"http://www.w3.org/2000/svg\">\\n  <rect width=\"256\" height=\"256\" fill=\"white\"/>\\n  <circle cx=\"128\" cy=\"128\" r=\"64\" fill=\"white\"/>\\n  <rect x=\"0\" y=\"0\" width=\"256\" height=\"256\" fill=\"white\"/>\\n  <circle cx=\"128\" cy=\"128\" r=\"64\" fill=\"white\"/>\\n</svg>', '<svg width=\"256\" height=\"256\" xmlns=\"http://www.w3.org/2000/svg\">\\n  <!-- Background -->\\n  <rect width=\"256\" height=\"256\" fill=\"white\"/>\\n\\n  <!-- People in red -->\\n  <polygon points=\"0,0 128,0 128,128 0,128\" fill=\"red\"/>\\n  <polygon points=\"128,0 256,0 256,128 128,128\" fill=\"red\"/>\\n\\n  <!-- A group of people standing -->\\n  <polygon points=\"100,100 150,100 150,150 100,150\" fill=\"black\"/>\\n\\n  <!-- A group of people with arms raised -->\\n  <polygon points=\"100,160 150,160 150,170 100,170\" fill=\"black\"/>\\n\\n  <!-- A group of people with hands on their heads -->\\n  <polygon points=\"100,180 150,180 150,190 100,190\" fill=\"black\"/>\\n\\n  <!-- A group of people in black -->\\n  <polygon points=\"100,200 150,200 150,210 100,210\" fill=\"black\"/>\\n</svg>', '<svg width=\"256\" height=\"256\" xmlns=\"http://www.w3.org/2000/svg\">\\n  <rect width=\"256\" height=\"256\" fill=\"white\"/>\\n  <g>\\n    <circle cx=\"128\" cy=\"128\" r=\"24\" fill=\"orange\"/>\\n    <circle cx=\"160\" cy=\"128\" r=\"24\" fill=\"orange\"/>\\n    <circle cx=\"192\" cy=\"128\" r=\"24\" fill=\"orange\"/>\\n    <circle cx=\"128\" cy=\"192\" r=\"24\" fill=\"orange\"/>\\n    <circle cx=\"160\" cy=\"192\" r=\"24\" fill=\"orange\"/>\\n    <circle cx=\"192\" cy=\"192\" r=\"24\" fill=\"orange\"/>\\n  </g>\\n</svg>', '<svg width=\"256\" height=\"256\" xmlns=\"http://www.w3.org/2000/svg\">\\n  <rect width=\"256\" height=\"256\" fill=\"white\"/>\\n  <circle cx=\"128\" cy=\"128\" r=\"64\" fill=\"black\"/>\\n  <rect x=\"128\" y=\"128\" width=\"128\" height=\"128\" fill=\"white\"/>\\n  <rect x=\"192\" y=\"192\" width=\"128\" height=\"128\" fill=\"white\"/>\\n  <circle cx=\"256\" cy=\"256\" r=\"64\" fill=\"black\"/>\\n</svg>', '<svg width=\"256\" height=\"256\" xmlns=\"http://www.w3.org/2000/svg\">\\n  <rect width=\"256\" height=\"256\" fill=\"white\"/>\\n  <rect width=\"128\" height=\"128\" fill=\"blue\"/>\\n  <rect width=\"128\" height=\"128\" fill=\"red\"/>\\n  <rect width=\"128\" height=\"128\" fill=\"green\"/>\\n  <rect width=\"128\" height=\"128\" fill=\"yellow\"/>\\n  <rect width=\"128\" height=\"128\" fill=\"orange\"/>\\n</svg>', '<svg width=\"256\" height=\"256\" xmlns=\"http://www.w3.org/2000/svg\">\\n  <!-- Motorcycle -->\\n  <rect x=\"10\" y=\"10\" width=\"236\" height=\"236\" fill=\"white\"/>\\n  <!-- Other cars -->\\n  <rect x=\"100\" y=\"60\" width=\"100\" height=\"100\" fill=\"black\"/>\\n  <rect x=\"150\" y=\"60\" width=\"50\" height=\"50\" fill=\"black\"/>\\n  <rect x=\"200\" y=\"60\" width=\"40\" height=\"40\" fill=\"black\"/>\\n  <rect x=\"250\" y=\"60\" width=\"30\" height=\"30\" fill=\"black\"/>\\n</svg>', '<svg width=\"256\" height=\"256\" xmlns=\"http://www.w3.org/2000/svg\">\\n  <rect width=\"256\" height=\"256\" fill=\"white\"/>\\n  <rect x=\"0\" y=\"0\" width=\"256\" height=\"256\" fill=\"white\"/>\\n  <rect x=\"0\" y=\"0\" width=\"256\" height=\"256\" fill=\"white\"/>\\n</svg>', '<svg width=\"256\" height=\"256\" xmlns=\"http://www.w3.org/2000/svg\">\\n  <rect width=\"256\" height=\"256\" fill=\"white\"/>\\n  <g>\\n    <!-- Man -->\\n    <rect x=\"100\" y=\"100\" width=\"100\" height=\"100\" fill=\"white\"/>\\n    <rect x=\"150\" y=\"150\" width=\"50\" height=\"50\" fill=\"white\"/>\\n    <circle cx=\"160\" cy=\"160\" r=\"10\" fill=\"white\"/>\\n    <circle cx=\"180\" cy=\"180\" r=\"20\" fill=\"white\"/>\\n    <line x1=\"160\" y1=\"160\" x2=\"180\" y2=\"180\" stroke=\"black\" stroke-width=\"2\"/>\\n    <line x1=\"150\" y1=\"150\" x2=\"170\" y2=\"170\" stroke=\"black\" stroke-width=\"2\"/>\\n    <line x1=\"100\" y1=\"100\" x2=\"120\" y2=\"120\" stroke=\"black\" stroke-width=\"2\"/>\\n    \\n    <!-- Baby -->\\n    <circle cx=\"120\" cy=\"120\" r=\"20\" fill=\"white\"/>\\n    <circle cx=\"130\" cy=\"130\" r=\"30\" fill=\"white\"/>\\n    \\n    <!-- Horse -->\\n    <circle cx=\"170\" cy=\"170\" r=\"30\" fill=\"white\"/>\\n    <circle cx=\"180\" cy=\"180\" r=\"40\" fill=\"white\"/>\\n    <line x1=\"170\" y1=\"170\" x2=\"180\" y2=\"180\" stroke=\"black\" stroke-width=\"2\"/>\\n  </g>\\n</svg>', '<svg width=\"256\" height=\"256\" xmlns=\"http://www.w3.org/2000/svg\">\\n  <!-- Party Bus -->\\n  <rect width=\"256\" height=\"256\" fill=\"white\" />\\n  <!-- People -->\\n  <circle cx=\"128\" cy=\"128\" r=\"20\" fill=\"white\" />\\n  <circle cx=\"160\" cy=\"128\" r=\"20\" fill=\"white\" />\\n  <circle cx=\"192\" cy=\"128\" r=\"20\" fill=\"white\" />\\n  <circle cx=\"128\" cy=\"192\" r=\"20\" fill=\"white\" />\\n  <circle cx=\"160\" cy=\"192\" r=\"20\" fill=\"white\" />\\n  <circle cx=\"192\" cy=\"192\" r=\"20\" fill=\"white\" />\\n</svg>', '<svg width=\"256\" height=\"256\" xmlns=\"http://www.w3.org/2000/svg\">\\n  <rect width=\"256\" height=\"256\" fill=\"white\"/>\\n  <rect x=\"10\" y=\"10\" width=\"246\" height=\"246\" fill=\"white\"/>\\n  <rect x=\"10\" y=\"10\" width=\"246\" height=\"246\" fill=\"white\"/>\\n  <rect x=\"10\" y=\"10\" width=\"246\" height=\"246\" fill=\"white\"/>\\n  <rect x=\"10\" y=\"10\" width=\"246\" height=\"246\" fill=\"white\"/>\\n</svg>', '<svg width=\"256\" height=\"256\" xmlns=\"http://www.w3.org/2000/svg\">\\n  <!-- Stop sign -->\\n  <rect width=\"128\" height=\"64\" x=\"16\" y=\"16\" fill=\"white\" />\\n  <!-- Metal column -->\\n  <rect width=\"128\" height=\"64\" x=\"16\" y=\"100\" fill=\"black\" />\\n  <!-- Background -->\\n  <rect width=\"256\" height=\"256\" fill=\"white\" />\\n</svg>', '<svg width=\"256\" height=\"256\" xmlns=\"http://www.w3.org/2000/svg\">\\n  <rect width=\"256\" height=\"256\" fill=\"white\"/>\\n  <rect x=\"100\" y=\"100\" width=\"156\" height=\"156\" fill=\"url(#bg)\" />\\n  <rect x=\"100\" y=\"100\" width=\"156\" height=\"156\" fill=\"url(#bg)\" />\\n  <rect x=\"100\" y=\"100\" width=\"156\" height=\"156\" fill=\"url(#bg)\" />\\n  <rect x=\"100\" y=\"100\" width=\"156\" height=\"156\" fill=\"url(#bg)\" />\\n  <rect x=\"100\" y=\"100\" width=\"156\" height=\"156\" fill=\"url(#bg)\" />\\n  <rect x=\"100\" y=\"100\" width=\"156\" height=\"156\" fill=\"url(#bg)\" />\\n  <rect x=\"100\" y=\"100\" width=\"156\" height=\"156\" fill=\"url(#bg)\" />\\n  <rect x=\"100\" y=\"100\" width=\"156\" height=\"156\" fill=\"url(#bg)\" />\\n  <rect x=\"100\" y=\"100\" width=\"156\" height=\"156\" fill=\"url(#bg)\" />\\n  <rect x=\"100\" y=\"100\" width=\"156\" height=\"156\" fill=\"url(#bg)\" />\\n  <rect x=\"100\" y=\"100\" width=\"156\" height=\"156\" fill=\"url(#bg)\" />\\n  <rect x=\"100\" y=\"100\" width=\"156\" height=\"156\" fill=\"url(#bg)\" />\\n  <rect x=\"100\" y=\"100\" width=\"156\" height=\"156\" fill=\"url(#bg)\" />\\n  <rect x=\"100\" y=\"100\" width=\"156\" height=\"156\" fill=\"url(#bg)\" />\\n  <rect x=\"100\" y=\"100\" width=\"156\" height=\"156\" fill=\"url(#bg)\" />\\n  <rect x=\"100\" y=\"100\" width=\"156\" height=\"156\" fill=\"url(#bg)\" />\\n  <rect x=\"100\" y=\"100\" width=\"156\" height=\"156\" fill=\"url(#bg)\" />\\n  <rect x=\"100\" y=\"100\" width=\"156\" height=\"156\" fill=\"url(#bg)\" />\\n  <rect x=\"100\" y=\"100\" width=\"156\" height=\"156\" fill=\"url(#bg)\" />\\n  <rect x=\"100\" y=\"100\" width=\"156\" height=\"156\" fill=\"url(#bg)\" />\\n  <rect x=\"100\" y=\"100\" width=\"156\" height=\"156\" fill=\"url(#bg)\" />\\n  <rect x=\"100\" y=\"100\" width=\"156\" height=\"156\" fill=\"url(#bg)\" />\\n  <rect x=\"100\" y=\"100\" width=\"156\" height=\"156\" fill=\"url(#bg)\" />\\n  <rect x=\"100\" y=\"100\" width=\"156\" height=\"156\" fill=\"url(#bg)\" />\\n  <rect x=\"100\" y=\"100\" width=\"156\" height=\"156\" fill=\"url(#bg)\" />\\n  <rect x=\"100\" y=\"100\" width=\"156\" height=\"156\" fill=\"url(#bg)\" />\\n  <rect x=\"100\" y=\"100\" width=\"156\" height=\"156\" fill=\"url(#bg)\" />\\n  <rect x=\"100\" y=\"100\" width=\"156\" height=\"156\" fill=\"url(#bg)\" />\\n  <rect x=\"100\" y=\"100\" width=\"156\" height=\"156\" fill=\"url(#bg)\" />\\n  <rect x=\"100\" y=\"100\" width=\"156\" height=\"156\" fill=\"url(#bg)\" />\\n  <rect x=\"100\" y=\"100\" width=\"156\" height=\"156\" fill=\"url(#bg)\" />\\n  <rect x=\"100\" y=\"100\" width=\"156\" height=\"156\" fill=\"url(#bg)\" />\\n  <rect x=\"100\" y=\"100\" width=\"156\" height=\"156\" fill=\"url(#bg)\" />\\n  <rect x=\"100\" y=\"100\" width=\"156\" height=\"156\" fill=\"url(#bg)\" />\\n  <rect x=\"100\" y=\"100\" width=\"156\" height=\"156\" fill=\"url(#bg)\" />\\n  <rect x=\"100\" y=\"100\" width=\"156\" height=\"156\" fill=\"url(#bg)\" />\\n  <rect x=\"100\" y=\"100\" width=\"156\" height=\"156\" fill=\"url(#bg)\" />\\n  <rect x=\"100\" y=\"100\" width=\"156\" height=\"156\" fill=\"url(#bg)\" />\\n  <rect x=\"100\" y=\"100\" width=\"156\" height=\"156\" fill=\"url(#bg)\" />\\n  <rect x=\"100\" y=\"100\" width=\"156\" height=\"156\" fill=\"url(#bg)\" />\\n  <rect x=\"100\" y=\"100\" width=\"156\" height=\"156\" fill=\"url(#bg)\" />\\n  <rect x=\"100\" y=\"100\" width=\"156\" height=\"156\" fill=\"url(#bg)\" />\\n  <rect x=\"100\" y=\"100\" width=\"156\" height=\"1', '<svg width=\"256\" height=\"256\" xmlns=\"http://www.w3.org/2000/svg\">\\n  <rect width=\"256\" height=\"256\" fill=\"white\"/>\\n  <g>\\n    <path d=\"M 0 0 L 256 0 L 256 256 L 0 256 Z\" fill=\"none\"/>\\n    <rect x=\"0\" y=\"0\" width=\"256\" height=\"256\" fill=\"white\"/>\\n    <g>\\n      <circle cx=\"128\" cy=\"128\" r=\"64\" fill=\"white\"/>\\n      <circle cx=\"128\" cy=\"128\" r=\"128\" fill=\"white\"/>\\n      <circle cx=\"128\" cy=\"128\" r=\"192\" fill=\"white\"/>\\n      <circle cx=\"128\" cy=\"128\" r=\"256\" fill=\"white\"/>\\n      <circle cx=\"128\" cy=\"128\" r=\"320\" fill=\"white\"/>\\n      <circle cx=\"128\" cy=\"128\" r=\"384\" fill=\"white\"/>\\n      <circle cx=\"128\" cy=\"128\" r=\"448\" fill=\"white\"/>\\n      <circle cx=\"128\" cy=\"128\" r=\"512\" fill=\"white\"/>\\n      <circle cx=\"128\" cy=\"128\" r=\"576\" fill=\"white\"/>\\n    </g>\\n  </g>\\n</svg>', '<svg width=\"256\" height=\"256\" xmlns=\"http://www.w3.org/2000/svg\">\\n  <rect width=\"256\" height=\"256\" fill=\"white\"/>\\n  <rect x=\"100\" y=\"100\" width=\"100\" height=\"100\" fill=\"khaki\"/>\\n  <rect x=\"100\" y=\"150\" width=\"100\" height=\"50\" fill=\"brown\"/>\\n  <rect x=\"200\" y=\"100\" width=\"100\" height=\"50\" fill=\"white\"/>\\n  <rect x=\"150\" y=\"150\" width=\"100\" height=\"50\" fill=\"khaki\"/>\\n  <rect x=\"150\" y=\"200\" width=\"100\" height=\"50\" fill=\"brown\"/>\\n  <rect x=\"100\" y=\"250\" width=\"100\" height=\"50\" fill=\"khaki\"/>\\n  <rect x=\"150\" y=\"250\" width=\"100\" height=\"50\" fill=\"brown\"/>\\n</svg>', '<svg width=\"256\" height=\"256\" xmlns=\"http://www.w3.org/2000/svg\">\\n  <rect width=\"256\" height=\"256\" fill=\"white\"/>\\n  <rect x=\"100\" y=\"100\" width=\"156\" height=\"156\" fill=\"orange\"/>\\n  <rect x=\"100\" y=\"100\" width=\"156\" height=\"156\" fill=\"blue\"/>\\n</svg>', '<svg width=\"256\" height=\"256\" xmlns=\"http://www.w3.org/2000/svg\">\\n  <rect width=\"256\" height=\"256\" fill=\"white\"/>\\n  <g>\\n    <rect x=\"10\" y=\"10\" width=\"200\" height=\"100\" fill=\"white\"/>\\n    <rect x=\"10\" y=\"100\" width=\"100\" height=\"50\" fill=\"white\"/>\\n    <rect x=\"200\" y=\"10\" width=\"50\" height=\"50\" fill=\"white\"/>\\n    <rect x=\"200\" y=\"100\" width=\"50\" height=\"50\" fill=\"white\"/>\\n  </g>\\n</svg>', '<svg width=\"256\" height=\"256\" xmlns=\"http://www.w3.org/2000/svg\">\\n  <rect width=\"256\" height=\"256\" fill=\"white\"/>\\n  <circle cx=\"128\" cy=\"128\" r=\"64\" fill=\"white\"/>\\n  <rect x=\"128\" y=\"128\" width=\"128\" height=\"128\" fill=\"white\"/>\\n  <rect x=\"0\" y=\"0\" width=\"256\" height=\"256\" fill=\"white\"/>\\n  <circle cx=\"128\" cy=\"128\" r=\"64\" fill=\"white\"/>\\n</svg>', '<svg width=\"256\" height=\"256\" xmlns=\"http://www.w3.org/2000/svg\">\\n  <rect width=\"256\" height=\"256\" fill=\"white\"/>\\n  <rect x=\"20\" y=\"20\" width=\"226\" height=\"226\" fill=\"white\"/>\\n  <rect x=\"120\" y=\"120\" width=\"100\" height=\"100\" fill=\"white\"/>\\n  <rect x=\"100\" y=\"100\" width=\"100\" height=\"100\" fill=\"white\"/>\\n  <rect x=\"20\" y=\"20\" width=\"226\" height=\"226\" fill=\"white\"/>\\n  <rect x=\"120\" y=\"120\" width=\"100\" height=\"100\" fill=\"white\"/>\\n  <rect x=\"100\" y=\"100\" width=\"100\" height=\"100\" fill=\"white\"/>\\n</svg>', '<svg width=\"256\" height=\"256\" xmlns=\"http://www.w3.org/2000/svg\">\\n  <!-- Big Ben clock tower -->\\n  <rect width=\"256\" height=\"256\" fill=\"white\" />\\n  <!-- Background -->\\n  <rect x=\"0\" y=\"0\" width=\"256\" height=\"256\" fill=\"white\" />\\n  <!-- Clock tower -->\\n  <polygon points=\"200,100 180,120 100,100 120,200\" fill=\"black\" />\\n  <!-- Tower base -->\\n  <rect x=\"100\" y=\"100\" width=\"50\" height=\"50\" fill=\"white\" />\\n  <!-- Tower top -->\\n  <polygon points=\"120,200 200,100 200,120\" fill=\"black\" />\\n  <!-- Hour hand -->\\n  <polygon points=\"150,150 170,160 130,140\" fill=\"blue\" />\\n  <!-- Minute hand -->\\n  <polygon points=\"170,160 150,150 190,170\" fill=\"red\" />\\n  <!-- Second hand -->\\n  <polygon points=\"190,170 170,160 150,150\" fill=\"green\" />\\n  <!-- Time label -->\\n  <text x=\"120\" y=\"100\" font-size=\"32\" fill=\"black\">1:00</text>\\n</svg>', '<svg width=\"256\" height=\"256\" xmlns=\"http://www.w3.org/2000/svg\">\\n  <!-- Smiling jet -->\\n  <rect width=\"256\" height=\"256\" fill=\"white\" />\\n  <!-- Jet\\'s body -->\\n  <polygon points=\"128,128 160,128 160,160 128,160\" fill=\"blue\" />\\n  <!-- Jet\\'s tail -->\\n  <polygon points=\"128,160 160,160 160,128\" fill=\"green\" />\\n</svg>', '<svg width=\"256\" height=\"256\" xmlns=\"http://www.w3.org/2000/svg\">\\n  <!-- Batting line up pinned on the fridge -->\\n  <!-- The scene is 256x256 pixels -->\\n  <!-- All tags must be closed -->\\n</svg>', '<svg width=\"256\" height=\"256\" xmlns=\"http://www.w3.org/2000/svg\">\\n  <!-- Group of people posing for a photograph at a black tie event -->\\n  <rect width=\"256\" height=\"256\" fill=\"white\"/>\\n  <rect x=\"24\" y=\"24\" width=\"224\" height=\"224\" fill=\"white\"/>\\n  <rect x=\"0\" y=\"0\" width=\"24\" height=\"24\" fill=\"white\"/>\\n  <rect x=\"0\" y=\"0\" width=\"24\" height=\"24\" fill=\"white\"/>\\n  <rect x=\"0\" y=\"0\" width=\"24\" height=\"24\" fill=\"white\"/>\\n  <rect x=\"0\" y=\"0\" width=\"24\" height=\"24\" fill=\"white\"/>\\n  <rect x=\"0\" y=\"0\" width=\"24\" height=\"24\" fill=\"white\"/>\\n</svg>', '<svg width=\"256\" height=\"256\" xmlns=\"http://www.w3.org/2000/svg\">\\n  <!-- Wave on top of surfboard -->\\n  <rect width=\"256\" height=\"256\" fill=\"white\"/>\\n  <rect x=\"10\" y=\"10\" width=\"236\" height=\"100\" fill=\"url(#wave)\"/>\\n</svg>', '<svg width=\"256\" height=\"256\" xmlns=\"http://www.w3.org/2000/svg\">\\n  <rect width=\"256\" height=\"256\" fill=\"white\"/>\\n  <rect x=\"100\" y=\"100\" width=\"100\" height=\"100\" fill=\"green\"/>\\n  <rect x=\"150\" y=\"150\" width=\"50\" height=\"50\" fill=\"orange\"/>\\n  <rect x=\"200\" y=\"200\" width=\"50\" height=\"50\" fill=\"blue\"/>\\n</svg>', '<svg width=\"256\" height=\"256\" xmlns=\"http://www.w3.org/2000/svg\">\\n  <rect width=\"256\" height=\"256\" fill=\"white\"/>\\n  <rect x=\"100\" y=\"100\" width=\"100\" height=\"100\" fill=\"lightblue\"/>\\n  <rect x=\"120\" y=\"120\" width=\"20\" height=\"20\" fill=\"white\"/>\\n  <rect x=\"140\" y=\"140\" width=\"20\" height=\"20\" fill=\"white\"/>\\n  <rect x=\"160\" y=\"160\" width=\"20\" height=\"20\" fill=\"white\"/>\\n</svg>', '<svg width=\"256\" height=\"256\" xmlns=\"http://www.w3.org/2000/svg\">\\n  <!-- Laptop sitting on a table -->\\n  <rect width=\"256\" height=\"256\" fill=\"white\"/>\\n  <rect x=\"20\" y=\"20\" width=\"226\" height=\"226\" fill=\"black\"/>\\n  <rect x=\"20\" y=\"20\" width=\"20\" height=\"20\" fill=\"black\"/>\\n</svg>', '<svg width=\"256\" height=\"256\" xmlns=\"http://www.w3.org/2000/svg\">\\n  <rect width=\"256\" height=\"256\" fill=\"white\"/>\\n  <circle cx=\"128\" cy=\"128\" r=\"64\" fill=\"green\"/>\\n  <circle cx=\"160\" cy=\"160\" r=\"64\" fill=\"red\"/>\\n</svg>', '<svg width=\"256\" height=\"256\" xmlns=\"http://www.w3.org/2000/svg\">\\n  <rect width=\"256\" height=\"256\" fill=\"white\"/>\\n  <rect x=\"10\" y=\"10\" width=\"246\" height=\"246\" fill=\"red\" />\\n  <rect x=\"10\" y=\"10\" width=\"246\" height=\"246\" fill=\"blue\" />\\n  <rect x=\"10\" y=\"10\" width=\"246\" height=\"246\" fill=\"yellow\" />\\n  <rect x=\"10\" y=\"10\" width=\"246\" height=\"246\" fill=\"white\" />\\n  <rect x=\"10\" y=\"10\" width=\"246\" height=\"246\" fill=\"white\" />\\n</svg>', '<svg width=\"256\" height=\"256\" xmlns=\"http://www.w3.org/2000/svg\">\\n  <rect width=\"256\" height=\"256\" fill=\"white\" />\\n  <rect x=\"20\" y=\"20\" width=\"226\" height=\"226\" fill=\"brown\" />\\n  <rect x=\"100\" y=\"100\" width=\"120\" height=\"120\" fill=\"white\" />\\n  <rect x=\"140\" y=\"140\" width=\"40\" height=\"40\" fill=\"white\" />\\n  <rect x=\"160\" y=\"160\" width=\"40\" height=\"40\" fill=\"white\" />\\n  <rect x=\"180\" y=\"180\" width=\"40\" height=\"40\" fill=\"white\" />\\n  <rect x=\"200\" y=\"200\" width=\"40\" height=\"40\" fill=\"white\" />\\n  <rect x=\"220\" y=\"220\" width=\"40\" height=\"40\" fill=\"white\" />\\n  <rect x=\"240\" y=\"240\" width=\"40\" height=\"40\" fill=\"white\" />\\n  <rect x=\"260\" y=\"260\" width=\"40\" height=\"40\" fill=\"white\" />\\n  <rect x=\"280\" y=\"280\" width=\"40\" height=\"40\" fill=\"white\" />\\n  <rect x=\"300\" y=\"300\" width=\"40\" height=\"40\" fill=\"white\" />\\n  <rect x=\"320\" y=\"320\" width=\"40\" height=\"40\" fill=\"white\" />\\n  <rect x=\"340\" y=\"340\" width=\"40\" height=\"40\" fill=\"white\" />\\n  <rect x=\"360\" y=\"360\" width=\"40\" height=\"40\" fill=\"white\" />\\n  <rect x=\"380\" y=\"380\" width=\"40\" height=\"40\" fill=\"white\" />\\n  <rect x=\"400\" y=\"400\" width=\"40\" height=\"40\" fill=\"white\" />\\n  <rect x=\"420\" y=\"420\" width=\"40\" height=\"40\" fill=\"white\" />\\n  <rect x=\"440\" y=\"440\" width=\"40\" height=\"40\" fill=\"white\" />\\n  <rect x=\"460\" y=\"460\" width=\"40\" height=\"40\" fill=\"white\" />\\n  <rect x=\"480\" y=\"480\" width=\"40\" height=\"40\" fill=\"white\" />\\n  <rect x=\"500\" y=\"500\" width=\"40\" height=\"40\" fill=\"white\" />\\n</svg>', '<svg width=\"256\" height=\"256\" xmlns=\"http://www.w3.org/2000/svg\">\\n  <!-- Background -->\\n  <rect width=\"256\" height=\"256\" fill=\"white\" />\\n  <!-- Zebra pattern -->\\n  <polygon points=\"0,0 256,0 256,256 0,256\" fill=\"rgb(255,232,0)\" />\\n  <!-- Two zebra standing next to each other -->\\n  <rect x=\"0\" y=\"0\" width=\"256\" height=\"256\" fill=\"white\" />\\n</svg>', '<svg width=\"256\" height=\"256\" xmlns=\"http://www.w3.org/2000/svg\">\\n  <!-- Movie screen -->\\n  <rect x=\"0\" y=\"0\" width=\"256\" height=\"256\" fill=\"white\"/>\\n  <!-- Gravitational graffiti -->\\n  <polygon points=\"100,100 150,120 180,140 120,160\" fill=\"black\"/>\\n  <!-- Additional graffiti -->\\n  <polygon points=\"200,100 250,120 280,140 220,160\" fill=\"black\"/>\\n  <polygon points=\"130,150 180,180 210,200 160,190\" fill=\"black\"/>\\n</svg>', '<svg width=\"256\" height=\"256\" xmlns=\"http://www.w3.org/2000/svg\">\\n  <!-- White chamber with various devices and doors -->\\n  <rect width=\"256\" height=\"256\" fill=\"white\" />\\n  <!-- Devices and doors -->\\n  <rect x=\"100\" y=\"100\" width=\"150\" height=\"50\" fill=\"black\" />\\n  <rect x=\"180\" y=\"100\" width=\"50\" height=\"50\" fill=\"black\" />\\n  <rect x=\"200\" y=\"120\" width=\"100\" height=\"50\" fill=\"black\" />\\n  <rect x=\"140\" y=\"160\" width=\"50\" height=\"50\" fill=\"black\" />\\n  <rect x=\"120\" y=\"180\" width=\"100\" height=\"50\" fill=\"black\" />\\n  <rect x=\"180\" y=\"200\" width=\"50\" height=\"50\" fill=\"black\" />\\n  <rect x=\"160\" y=\"220\" width=\"100\" height=\"50\" fill=\"black\" />\\n  <rect x=\"100\" y=\"240\" width=\"50\" height=\"50\" fill=\"black\" />\\n  <rect x=\"180\" y=\"260\" width=\"50\" height=\"50\" fill=\"black\" />\\n</svg>', '<svg width=\"256\" height=\"256\" xmlns=\"http://www.w3.org/2000/svg\">\\n  <rect width=\"256\" height=\"256\" fill=\"white\"/>\\n  <rect width=\"128\" height=\"128\" fill=\"white\"/>\\n  <rect x=\"128\" y=\"128\" width=\"128\" height=\"128\" fill=\"white\"/>\\n  <rect x=\"0\" y=\"0\" width=\"256\" height=\"256\" fill=\"white\"/>\\n  <rect width=\"128\" height=\"128\" fill=\"white\"/>\\n  <rect x=\"0\" y=\"0\" width=\"256\" height=\"256\" fill=\"white\"/>\\n</svg>', '<svg width=\"256\" height=\"256\" xmlns=\"http://www.w3.org/2000/svg\">\\n  <!-- Cat sitting on top of the desk -->\\n  <rect width=\"256\" height=\"256\" fill=\"white\"/>\\n  <rect x=\"100\" y=\"100\" width=\"156\" height=\"156\" fill=\"black\"/>\\n  <rect x=\"200\" y=\"150\" width=\"156\" height=\"156\" fill=\"white\"/>\\n  <rect x=\"100\" y=\"200\" width=\"156\" height=\"156\" fill=\"black\"/>\\n</svg>', '<svg width=\"256\" height=\"256\" xmlns=\"http://www.w3.org/2000/svg\">\\n  <rect width=\"256\" height=\"256\" fill=\"white\"/>\\n  <g>\\n    <rect x=\"0\" y=\"0\" width=\"256\" height=\"256\" fill=\"white\"/>\\n    <rect x=\"0\" y=\"0\" width=\"256\" height=\"256\" fill=\"white\"/>\\n    <rect x=\"0\" y=\"0\" width=\"256\" height=\"256\" fill=\"white\"/>\\n    <rect x=\"0\" y=\"0\" width=\"256\" height=\"256\" fill=\"white\"/>\\n  </g>\\n</svg>', '<svg width=\"256\" height=\"256\" xmlns=\"http://www.w3.org/2000/svg\">\\n  <!-- Street sign with flags and a building -->\\n  <rect width=\"256\" height=\"256\" fill=\"white\" />\\n  <rect width=\"100\" height=\"60\" fill=\"black\" x=\"100\" y=\"100\" />\\n  <rect width=\"20\" height=\"40\" fill=\"red\" x=\"130\" y=\"140\" />\\n  <rect width=\"10\" height=\"20\" fill=\"blue\" x=\"160\" y=\"180\" />\\n  <rect width=\"20\" height=\"40\" fill=\"green\" x=\"190\" y=\"220\" />\\n  <rect width=\"10\" height=\"20\" fill=\"yellow\" x=\"220\" y=\"260\" />\\n  <rect width=\"20\" height=\"40\" fill=\"orange\" x=\"250\" y=\"300\" />\\n  <rect width=\"10\" height=\"20\" fill=\"purple\" x=\"280\" y=\"340\" />\\n  <rect width=\"20\" height=\"40\" fill=\"magenta\" x=\"310\" y=\"380\" />\\n  <rect width=\"10\" height=\"20\" fill=\"cyan\" x=\"340\" y=\"420\" />\\n  <rect width=\"20\" height=\"40\" fill=\"brown\" x=\"370\" y=\"460\" />\\n  <rect width=\"10\" height=\"20\" fill=\"gray\" x=\"400\" y=\"500\" />\\n  <rect width=\"20\" height=\"40\" fill=\"white\" x=\"430\" y=\"540\" />\\n  <rect width=\"10\" height=\"20\" fill=\"black\" x=\"460\" y=\"580\" />\\n</svg>', '<svg width=\"256\" height=\"256\" xmlns=\"http://www.w3.org/2000/svg\">\\n  <rect width=\"256\" height=\"256\" fill=\"white\"/>\\n  <rect width=\"256\" height=\"256\" fill=\"green\" />\\n  <rect width=\"256\" height=\"256\" fill=\"green\" />\\n  <circle cx=\"100\" cy=\"100\" r=\"50\" fill=\"green\"/>\\n</svg>', '<svg width=\"256\" height=\"256\" xmlns=\"http://www.w3.org/2000/svg\">\\n  <rect width=\"256\" height=\"256\" fill=\"white\"/>\\n  <circle cx=\"128\" cy=\"128\" r=\"64\" fill=\"pink\" />\\n  <circle cx=\"192\" cy=\"128\" r=\"64\" fill=\"none\"/>\\n  <circle cx=\"128\" cy=\"256\" r=\"64\" fill=\"none\"/>\\n  <circle cx=\"256\" cy=\"256\" r=\"64\" fill=\"none\"/>\\n</svg>', '<svg width=\"256\" height=\"256\" xmlns=\"http://www.w3.org/2000/svg\">\\n  <rect width=\"256\" height=\"256\" fill=\"white\" />\\n  <g>\\n    <!-- Bus -->\\n    <polygon points=\"0,0 256,0 256,256 0,256\" fill=\"black\" />\\n    <!-- Bus body -->\\n    <polygon points=\"128,128 128,256 256,256 256,128\" fill=\"white\" />\\n    <!-- Bus wheels -->\\n    <circle cx=\"128\" cy=\"128\" r=\"10\" fill=\"black\" />\\n    <circle cx=\"128\" cy=\"256\" r=\"10\" fill=\"black\" />\\n    <circle cx=\"256\" cy=\"128\" r=\"10\" fill=\"black\" />\\n    <circle cx=\"256\" cy=\"256\" r=\"10\" fill=\"black\" />\\n  </g>\\n</svg>', '<svg width=\"256\" height=\"256\" xmlns=\"http://www.w3.org/2000/svg\">\\n  <rect width=\"256\" height=\"256\" fill=\"white\"/>\\n  <polygon points=\"100,100 150,50 100,100 150,150\" fill=\"lightblue\"/>\\n  <circle cx=\"120\" cy=\"120\" r=\"20\" fill=\"green\"/>\\n  <circle cx=\"180\" cy=\"120\" r=\"20\" fill=\"red\"/>\\n</svg>', '<svg width=\"256\" height=\"256\" xmlns=\"http://www.w3.org/2000/svg\">\\n  <rect width=\"256\" height=\"256\" fill=\"white\"/>\\n  <rect x=\"50\" y=\"50\" width=\"100\" height=\"100\" fill=\"white\"/>\\n  <rect x=\"150\" y=\"150\" width=\"100\" height=\"100\" fill=\"white\"/>\\n  <rect x=\"200\" y=\"200\" width=\"100\" height=\"100\" fill=\"white\"/>\\n  <rect x=\"250\" y=\"250\" width=\"100\" height=\"100\" fill=\"white\"/>\\n  <rect x=\"50\" y=\"250\" width=\"100\" height=\"100\" fill=\"white\"/>\\n  <rect x=\"150\" y=\"250\" width=\"100\" height=\"100\" fill=\"white\"/>\\n  <rect x=\"200\" y=\"250\" width=\"100\" height=\"100\" fill=\"white\"/>\\n  <rect x=\"250\" y=\"250\" width=\"100\" height=\"100\" fill=\"white\"/>\\n  <rect x=\"50\" y=\"50\" width=\"100\" height=\"100\" fill=\"white\"/>\\n  <rect x=\"150\" y=\"50\" width=\"100\" height=\"100\" fill=\"white\"/>\\n  <rect x=\"200\" y=\"50\" width=\"100\" height=\"100\" fill=\"white\"/>\\n  <rect x=\"250\" y=\"50\" width=\"100\" height=\"100\" fill=\"white\"/>\\n  <rect x=\"50\" y=\"250\" width=\"100\" height=\"100\" fill=\"white\"/>\\n  <rect x=\"150\" y=\"250\" width=\"100\" height=\"100\" fill=\"white\"/>\\n  <rect x=\"200\" y=\"250\" width=\"100\" height=\"100\" fill=\"white\"/>\\n  <rect x=\"250\" y=\"250\" width=\"100\" height=\"100\" fill=\"white\"/>\\n  <rect x=\"50\" y=\"50\" width=\"100\" height=\"100\" fill=\"white\"/>\\n  <rect x=\"150\" y=\"50\" width=\"100\" height=\"100\" fill=\"white\"/>\\n  <rect x=\"200\" y=\"50\" width=\"100\" height=\"100\" fill=\"white\"/>\\n  <rect x=\"250\" y=\"50\" width=\"100\" height=\"100\" fill=\"white\"/>\\n  <rect x=\"50\" y=\"250\" width=\"100\" height=\"100\" fill=\"white\"/>\\n  <rect x=\"150\" y=\"250\" width=\"100\" height=\"100\" fill=\"white\"/>\\n  <rect x=\"200\" y=\"250\" width=\"100\" height=\"100\" fill=\"white\"/>\\n  <rect x=\"250\" y=\"250\" width=\"100\" height=\"100\" fill=\"white\"/>\\n</svg>', '<svg width=\"256\" height=\"256\" xmlns=\"http://www.w3.org/2000/svg\">\\n  <!-- Glass plate with some food -->\\n  <rect width=\"256\" height=\"256\" fill=\"white\"/>\\n  <circle cx=\"128\" cy=\"128\" r=\"10\" fill=\"green\"/>\\n  <circle cx=\"128\" cy=\"128\" r=\"10\" fill=\"red\"/>\\n</svg>', '<svg width=\"256\" height=\"256\" xmlns=\"http://www.w3.org/2000/svg\">\\n  <!-- Stop sign with dirty edges at a cross walk of a street -->\\n  <!-- The stop sign is a rectangle with some dirty edges -->\\n  <!-- The cross walk has a street with a crosswalk -->\\n  <!-- The stop sign is positioned at the crosswalk -->\\n  <!-- The stop sign is a rectangle with a circular edge -->\\n  <!-- The crosswalk is a rectangle with a crosswalk -->\\n  <!-- The stop sign is placed at the crosswalk -->\\n  <!-- The crosswalk is a rectangle with a crosswalk -->\\n  <!-- The stop sign is a rectangle with some dirty edges -->\\n  <!-- The crosswalk is a rectangle with a crosswalk -->\\n</svg>', '<svg width=\"256\" height=\"256\" xmlns=\"http://www.w3.org/2000/svg\">\\n  <rect width=\"256\" height=\"256\" fill=\"white\"/>\\n  <g>\\n    <rect x=\"0\" y=\"0\" width=\"100\" height=\"100\" fill=\"orange\"/>\\n    <rect x=\"100\" y=\"0\" width=\"50\" height=\"50\" fill=\"red\"/>\\n    <rect x=\"150\" y=\"0\" width=\"100\" height=\"100\" fill=\"green\"/>\\n    <rect x=\"200\" y=\"0\" width=\"50\" height=\"50\" fill=\"blue\"/>\\n    <rect x=\"250\" y=\"0\" width=\"100\" height=\"100\" fill=\"yellow\"/>\\n    <rect x=\"300\" y=\"0\" width=\"50\" height=\"50\" fill=\"purple\"/>\\n  </g>\\n</svg>', '<svg width=\"256\" height=\"256\" xmlns=\"http://www.w3.org/2000/svg\">\\n  <rect width=\"256\" height=\"256\" fill=\"white\"/>\\n  <circle cx=\"128\" cy=\"128\" r=\"64\" fill=\"white\"/>\\n  <text x=\"256\" y=\"256\" font-size=\"48\" fill=\"white\">PRO MELK</text>\\n</svg>', '<svg width=\"256\" height=\"256\" xmlns=\"http://www.w3.org/2000/svg\">\\n  <rect width=\"256\" height=\"256\" fill=\"white\"/>\\n  <line x1=\"0\" y1=\"0\" x2=\"256\" y2=\"0\"/>\\n  <line x1=\"0\" y1=\"256\" x2=\"256\" y2=\"256\"/>\\n  <polygon points=\"0,0 256,0 0,256 256,256\" fill=\"black\"/>\\n</svg>', '<svg width=\"256\" height=\"256\" xmlns=\"http://www.w3.org/2000/svg\">\\n  <rect width=\"256\" height=\"256\" fill=\"white\"/>\\n  <g transform=\"translate(128, 128)\">\\n    <rect width=\"64\" height=\"64\" fill=\"white\"/>\\n    <rect width=\"128\" height=\"64\" fill=\"white\"/>\\n    <rect width=\"64\" height=\"128\" fill=\"white\"/>\\n    <rect width=\"160\" height=\"64\" fill=\"white\"/>\\n    <rect width=\"128\" height=\"160\" fill=\"white\"/>\\n    <rect width=\"160\" height=\"128\" fill=\"white\"/>\\n  </g>\\n</svg>', '<svg width=\"256\" height=\"256\" xmlns=\"http://www.w3.org/2000/svg\">\\n  <rect width=\"256\" height=\"256\" fill=\"white\"/>\\n  <rect x=\"20\" y=\"20\" width=\"226\" height=\"226\" fill=\"yellow\"/>\\n  <rect x=\"100\" y=\"100\" width=\"80\" height=\"80\" fill=\"yellow\"/>\\n  <rect x=\"200\" y=\"100\" width=\"100\" height=\"100\" fill=\"yellow\"/>\\n</svg>', '<svg width=\"256\" height=\"256\" xmlns=\"http://www.w3.org/2000/svg\">\\n  <!-- Chocolate cake on a plate with a fork -->\\n  <rect width=\"256\" height=\"256\" fill=\"white\"/>\\n  <circle cx=\"128\" cy=\"128\" r=\"64\" fill=\"black\"/>\\n  <circle cx=\"160\" cy=\"192\" r=\"32\" fill=\"white\"/>\\n  <circle cx=\"256\" cy=\"192\" r=\"32\" fill=\"white\"/>\\n  <rect x=\"0\" y=\"0\" width=\"256\" height=\"256\" fill=\"white\"/>\\n  <rect x=\"0\" y=\"256\" width=\"256\" height=\"256\" fill=\"white\"/>\\n  <rect x=\"128\" y=\"0\" width=\"256\" height=\"256\" fill=\"white\"/>\\n  <rect x=\"160\" y=\"192\" width=\"256\" height=\"256\" fill=\"white\"/>\\n  <rect x=\"256\" y=\"192\" width=\"256\" height=\"256\" fill=\"white\"/>\\n  <rect x=\"0\" y=\"128\" width=\"256\" height=\"256\" fill=\"white\"/>\\n  <rect x=\"160\" y=\"0\" width=\"256\" height=\"256\" fill=\"white\"/>\\n  <rect x=\"256\" y=\"0\" width=\"256\" height=\"256\" fill=\"white\"/>\\n  <rect x=\"0\" y=\"256\" width=\"256\" height=\"256\" fill=\"white\"/>\\n  <rect x=\"128\" y=\"256\" width=\"256\" height=\"256\" fill=\"white\"/>\\n  <rect x=\"160\" y=\"256\" width=\"256\" height=\"256\" fill=\"white\"/>\\n  <rect x=\"256\" y=\"256\" width=\"256\" height=\"256\" fill=\"white\"/>\\n</svg>', '<svg width=\"256\" height=\"256\" xmlns=\"http://www.w3.org/2000/svg\">\\n  <rect width=\"256\" height=\"256\" fill=\"white\"/>\\n  <rect x=\"0\" y=\"0\" width=\"256\" height=\"256\" fill=\"white\"/>\\n</svg>', '<svg width=\"256\" height=\"256\" xmlns=\"http://www.w3.org/2000/svg\">\\n  <!-- Overhead lights -->\\n  <rect width=\"256\" height=\"256\" fill=\"white\" />\\n  <!-- Kitchen area -->\\n  <rect x=\"0\" y=\"0\" width=\"256\" height=\"256\" fill=\"white\" />\\n  <!-- Cupboard -->\\n  <rect x=\"100\" y=\"100\" width=\"156\" height=\"156\" fill=\"white\" />\\n  <!-- Lights -->\\n  <rect x=\"50\" y=\"50\" width=\"100\" height=\"100\" fill=\"white\" />\\n</svg>', '<svg width=\"256\" height=\"256\" xmlns=\"http://www.w3.org/2000/svg\">\\n  <!-- Man riding skateboard -->\\n  <rect x=\"50\" y=\"100\" width=\"150\" height=\"50\" fill=\"white\"/>\\n  <!-- Another man lighting the spray -->\\n  <rect x=\"100\" y=\"150\" width=\"100\" height=\"50\" fill=\"white\"/>\\n  <!-- Small ledge -->\\n  <rect x=\"50\" y=\"50\" width=\"100\" height=\"20\" fill=\"white\"/>\\n  <!-- Skating board -->\\n  <circle cx=\"150\" cy=\"120\" r=\"20\" fill=\"white\"/>\\n</svg>', '<svg width=\"256\" height=\"256\" xmlns=\"http://www.w3.org/2000/svg\">\\n  <!-- Woman smiling near a large clock on the wall -->\\n  <rect width=\"256\" height=\"256\" fill=\"white\"/>\\n  <circle cx=\"128\" cy=\"128\" r=\"64\" fill=\"red\"/>\\n  <text x=\"128\" y=\"128\" font-family=\"Arial\" font-size=\"48\" fill=\"white\">Clock</text>\\n  <circle cx=\"160\" cy=\"160\" r=\"32\" fill=\"black\"/>\\n  <text x=\"160\" y=\"160\" font-family=\"Arial\" font-size=\"24\" fill=\"white\">Woman</text>\\n</svg>', '<svg width=\"256\" height=\"256\" xmlns=\"http://www.w3.org/2000/svg\">\\n  <rect width=\"256\" height=\"256\" fill=\"white\"/>\\n  <g>\\n    <rect width=\"24\" height=\"24\" fill=\"white\"/>\\n    <rect x=\"24\" y=\"24\" width=\"24\" height=\"24\" fill=\"white\"/>\\n    <rect x=\"48\" y=\"48\" width=\"24\" height=\"24\" fill=\"white\"/>\\n    <rect x=\"72\" y=\"72\" width=\"24\" height=\"24\" fill=\"white\"/>\\n    <rect x=\"96\" y=\"96\" width=\"24\" height=\"24\" fill=\"white\"/>\\n    <rect x=\"120\" y=\"120\" width=\"24\" height=\"24\" fill=\"white\"/>\\n    <rect x=\"144\" y=\"144\" width=\"24\" height=\"24\" fill=\"white\"/>\\n    <rect x=\"168\" y=\"168\" width=\"24\" height=\"24\" fill=\"white\"/>\\n    <rect x=\"192\" y=\"192\" width=\"24\" height=\"24\" fill=\"white\"/>\\n    <rect x=\"216\" y=\"216\" width=\"24\" height=\"24\" fill=\"white\"/>\\n    <rect x=\"240\" y=\"240\" width=\"24\" height=\"24\" fill=\"white\"/>\\n    <rect x=\"264\" y=\"264\" width=\"24\" height=\"24\" fill=\"white\"/>\\n    <rect x=\"288\" y=\"288\" width=\"24\" height=\"24\" fill=\"white\"/>\\n    <rect x=\"312\" y=\"312\" width=\"24\" height=\"24\" fill=\"white\"/>\\n    <rect x=\"336\" y=\"336\" width=\"24\" height=\"24\" fill=\"white\"/>\\n    <rect x=\"360\" y=\"360\" width=\"24\" height=\"24\" fill=\"white\"/>\\n    <rect x=\"384\" y=\"384\" width=\"24\" height=\"24\" fill=\"white\"/>\\n    <rect x=\"408\" y=\"408\" width=\"24\" height=\"24\" fill=\"white\"/>\\n    <rect x=\"432\" y=\"432\" width=\"24\" height=\"24\" fill=\"white\"/>\\n    <rect x=\"456\" y=\"456\" width=\"24\" height=\"24\" fill=\"white\"/>\\n    <rect x=\"480\" y=\"480\" width=\"24\" height=\"24\" fill=\"white\"/>\\n    <rect x=\"504\" y=\"504\" width=\"24\" height=\"24\" fill=\"white\"/>\\n    <rect x=\"528\" y=\"528\" width=\"24\" height=\"24\" fill=\"white\"/>\\n    <rect x=\"552\" y=\"552\" width=\"24\" height=\"24\" fill=\"white\"/>\\n    <rect x=\"576\" y=\"576\" width=\"24\" height=\"24\" fill=\"white\"/>\\n  </g>\\n</svg>', '<svg width=\"256\" height=\"256\" xmlns=\"http://www.w3.org/2000/svg\">\\n  <rect width=\"256\" height=\"256\" fill=\"white\"/>\\n  <circle cx=\"128\" cy=\"128\" r=\"100\" fill=\"red\"/>\\n  <circle cx=\"256\" cy=\"128\" r=\"64\" fill=\"red\"/>\\n  <circle cx=\"128\" cy=\"256\" r=\"64\" fill=\"red\"/>\\n  <circle cx=\"128\" cy=\"128\" r=\"40\" fill=\"red\"/>\\n</svg>', '<svg width=\"256\" height=\"256\" xmlns=\"http://www.w3.org/2000/svg\">\\n  <!-- Silver sports car parked beside horse droppings -->\\n  <rect width=\"256\" height=\"256\" fill=\"silver\" />\\n  <!-- Horse droppings -->\\n  <rect x=\"100\" y=\"100\" width=\"100\" height=\"50\" fill=\"white\" />\\n</svg>', '<svg width=\"256\" height=\"256\" xmlns=\"http://www.w3.org/2000/svg\">\\n  <!-- Picture 1: Pizza -->\\n  <rect width=\"256\" height=\"256\" fill=\"white\"/>\\n  <circle cx=\"128\" cy=\"128\" r=\"64\" fill=\"orange\"/>\\n  <text x=\"128\" y=\"128\" font-size=\"32\" fill=\"black\">Pizza</text>\\n\\n  <!-- Picture 2: Apple -->\\n  <rect width=\"256\" height=\"256\" fill=\"white\"/>\\n  <circle cx=\"128\" cy=\"128\" r=\"64\" fill=\"red\"/>\\n  <text x=\"128\" y=\"128\" font-size=\"32\" fill=\"black\">Apple</text>\\n\\n  <!-- Picture 3: Salmon -->\\n  <rect width=\"256\" height=\"256\" fill=\"white\"/>\\n  <circle cx=\"128\" cy=\"128\" r=\"64\" fill=\"green\"/>\\n  <text x=\"128\" y=\"128\" font-size=\"32\" fill=\"black\">Salmon</text>\\n\\n  <!-- Picture 4: Chicken -->\\n  <rect width=\"256\" height=\"256\" fill=\"white\"/>\\n  <circle cx=\"128\" cy=\"128\" r=\"64\" fill=\"blue\"/>\\n  <text x=\"128\" y=\"128\" font-size=\"32\" fill=\"black\">Chicken</text>\\n</svg>', '<svg width=\"256\" height=\"256\" xmlns=\"http://www.w3.org/2000/svg\">\\n  <rect width=\"256\" height=\"256\" fill=\"white\"/>\\n  <rect x=\"0\" y=\"0\" width=\"256\" height=\"256\" fill=\"white\"/>\\n  <rect x=\"100\" y=\"100\" width=\"100\" height=\"100\" fill=\"black\"/>\\n  <rect x=\"50\" y=\"50\" width=\"50\" height=\"50\" fill=\"black\"/>\\n  <rect x=\"100\" y=\"100\" width=\"100\" height=\"100\" fill=\"white\"/>\\n  <rect x=\"150\" y=\"150\" width=\"100\" height=\"100\" fill=\"black\"/>\\n</svg>', '<svg width=\"256\" height=\"256\" xmlns=\"http://www.w3.org/2000/svg\">\\n  <rect width=\"256\" height=\"256\" fill=\"white\"/>\\n  <g>\\n    <rect x=\"20\" y=\"20\" width=\"180\" height=\"180\" fill=\"white\"/>\\n    <rect x=\"120\" y=\"120\" width=\"180\" height=\"180\" fill=\"white\"/>\\n    <circle cx=\"100\" cy=\"100\" r=\"50\" fill=\"black\"/>\\n  </g>\\n</svg>']\n",
      "\n",
      "\n",
      "\n",
      "\n",
      "\n",
      "\n",
      "\n",
      "\n",
      "\n",
      "\n",
      "\n",
      "\n",
      "\n",
      "\n",
      "\n",
      "\n",
      "\n",
      "\n",
      "\n",
      "\n",
      "\n",
      "\n",
      "\n",
      "\n",
      "\n",
      "\n",
      "\n",
      "\n",
      "\n",
      "\n",
      "\n",
      "\n",
      "\n",
      "\n",
      "\n",
      "\n",
      "\n",
      "\n",
      "\n",
      "\n",
      "\n",
      "\n",
      "\n",
      "\n",
      "\n",
      "\n",
      "\n",
      "\n",
      "\n",
      "\n",
      "\n",
      "\n",
      "\n",
      "\n",
      "\n",
      "\n",
      "\n",
      "\n",
      "\n",
      "\n",
      "\n",
      "\n",
      "\n"
     ]
    }
   ],
   "execution_count": 16
  },
  {
   "metadata": {
    "ExecuteTime": {
     "end_time": "2025-06-18T21:35:27.620705Z",
     "start_time": "2025-06-18T21:35:27.617987Z"
    }
   },
   "cell_type": "code",
   "source": [
    "dir_path_for_res = os.path.join(cur_path,\"data\", config.path)\n",
    "print(dir_path_for_res)\n",
    "file_path = os.path.join(dir_path_for_res, \"tifa_outputs_model.csv\")"
   ],
   "id": "82cfbf108371703",
   "outputs": [
    {
     "name": "stdout",
     "output_type": "stream",
     "text": [
      "/home/student/kuzin/python_project/TextToSvg_MLCUP/data/Qwen/Qwen3-0.6B\n"
     ]
    }
   ],
   "execution_count": 32
  },
  {
   "metadata": {
    "ExecuteTime": {
     "end_time": "2025-06-18T20:36:40.947441Z",
     "start_time": "2025-06-18T20:36:40.916808Z"
    }
   },
   "cell_type": "code",
   "source": [
    "os.makedirs(os.path.dirname(file_path), exist_ok=True)\n",
    "temp = pd.DataFrame(svg_answers)\n",
    "temp.to_csv(file_path,index = False)"
   ],
   "id": "1ef83c6392a3ffbd",
   "outputs": [],
   "execution_count": 18
  },
  {
   "metadata": {
    "ExecuteTime": {
     "end_time": "2025-06-18T20:36:40.975101Z",
     "start_time": "2025-06-18T20:36:40.972127Z"
    }
   },
   "cell_type": "code",
   "source": "dir_path_for_res",
   "id": "7bc8dd2b7be26d01",
   "outputs": [
    {
     "data": {
      "text/plain": [
       "'/home/student/kuzin/python_project/TextToSvg_MLCUP/data/Qwen/Qwen3-0.6B'"
      ]
     },
     "execution_count": 19,
     "metadata": {},
     "output_type": "execute_result"
    }
   ],
   "execution_count": 19
  },
  {
   "metadata": {
    "ExecuteTime": {
     "end_time": "2025-06-18T20:36:41.021680Z",
     "start_time": "2025-06-18T20:36:40.996076Z"
    }
   },
   "cell_type": "code",
   "source": [
    "output_model = pd.read_csv(file_path)\n",
    "eval_dataset[\"svg_code\"] = output_model\n",
    "eval_dataset[\"wrong_gen\"] = 1"
   ],
   "id": "4a06b46422454273",
   "outputs": [],
   "execution_count": 20
  },
  {
   "metadata": {
    "ExecuteTime": {
     "end_time": "2025-06-18T20:36:41.047799Z",
     "start_time": "2025-06-18T20:36:41.045664Z"
    }
   },
   "cell_type": "code",
   "source": "output_folder = os.path.join(dir_path_for_res, \"src\")",
   "id": "7d3ef18e95fdcea2",
   "outputs": [],
   "execution_count": 21
  },
  {
   "metadata": {
    "ExecuteTime": {
     "end_time": "2025-06-18T20:39:52.988953Z",
     "start_time": "2025-06-18T20:36:41.098512Z"
    }
   },
   "cell_type": "code",
   "source": [
    "for_path_columns = []\n",
    "num_processes= 32\n",
    "for i in tqdm(range(0, len(eval_dataset), num_processes), \n",
    "              total=len(range(0, len(eval_dataset), num_processes)), \n",
    "              desc=\"Processing batches\"):\n",
    "    start_i = i\n",
    "    end_i = i+ num_processes\n",
    "    batch = eval_dataset.iloc[start_i:end_i].set_index('id')['svg_code'].to_dict()\n",
    "    res = convert_svgs_to_pngs_parallel(batch,output_folder,num_processes)\n",
    "    # res return {'coco_301091': True, 'coco_421933': False} True if correct gen\n",
    "    mapping = {k: (1 if v else 0) for k, v in res.items()}\n",
    "    \n",
    "    # Обновляем только те строки, где caption есть в res\n",
    "    eval_dataset.loc[eval_dataset['id'].isin(mapping.keys()), 'wrong_gen'] = \\\n",
    "        eval_dataset['id'].map(mapping)"
   ],
   "id": "2f96c5dce1ea52df",
   "outputs": [
    {
     "data": {
      "text/plain": [
       "Processing batches:   0%|          | 0/128 [00:00<?, ?it/s]"
      ],
      "application/vnd.jupyter.widget-view+json": {
       "version_major": 2,
       "version_minor": 0,
       "model_id": "2d962997e30b4da4a6eb59c490fc5f81"
      }
     },
     "metadata": {},
     "output_type": "display_data"
    },
    {
     "name": "stdout",
     "output_type": "stream",
     "text": [
      "Запуск обработки на 32 процессах...\n",
      "Заменяю на заглушку coco_317050: unclosed token: line 45, column 2\n",
      "Запуск обработки на 32 процессах...\n",
      "Запуск обработки на 32 процессах...\n",
      "Заменяю на заглушку coco_461808: unclosed token: line 56, column 2\n",
      "Заменяю на заглушку coco_148563: unclosed token: line 75, column 2\n",
      "Запуск обработки на 32 процессах...\n",
      "Заменяю на заглушку coco_379749: unclosed token: line 54, column 4\n",
      "Запуск обработки на 32 процессах...\n",
      "Заменяю на заглушку coco_182098: unclosed token: line 40, column 2\n",
      "Запуск обработки на 32 процессах...\n",
      "Запуск обработки на 32 процессах...\n",
      "Заменяю на заглушку coco_579942: no element found: line 53, column 0Заменяю на заглушку coco_381963: unclosed token: line 48, column 2\n",
      "\n",
      "Запуск обработки на 32 процессах...\n",
      "Заменяю на заглушку coco_492798: unclosed token: line 48, column 2\n",
      "Заменяю на заглушку coco_637420: unclosed token: line 53, column 2Заменяю на заглушку coco_55863: unclosed token: line 79, column 2\n",
      "\n",
      "Запуск обработки на 32 процессах...\n",
      "Заменяю на заглушку coco_542456: unclosed token: line 56, column 2\n",
      "Запуск обработки на 32 процессах...\n",
      "Заменяю на заглушку coco_168394: unclosed token: line 57, column 4\n",
      "Заменяю на заглушку coco_633626: unclosed token: line 79, column 4\n",
      "Запуск обработки на 32 процессах...\n",
      "Заменяю на заглушку coco_742663: unclosed token: line 56, column 2\n",
      "Запуск обработки на 32 процессах...\n",
      "Заменяю на заглушку coco_529747: unclosed token: line 53, column 2\n",
      "Запуск обработки на 32 процессах...\n",
      "Заменяю на заглушку coco_137083: not well-formed (invalid token): line 1, column 0\n",
      "Запуск обработки на 32 процессах...\n",
      "Запуск обработки на 32 процессах...\n",
      "Заменяю на заглушку coco_107400: unclosed token: line 53, column 2Заменяю на заглушку coco_801967: unclosed token: line 52, column 2\n",
      "\n",
      "Запуск обработки на 32 процессах...\n",
      "Заменяю на заглушку coco_123688: unclosed token: line 53, column 2\n",
      "Запуск обработки на 32 процессах...\n",
      "Заменяю на заглушку coco_235807: no element found: line 68, column 0\n",
      "Заменяю на заглушку coco_700284: unclosed token: line 47, column 2\n",
      "Запуск обработки на 32 процессах...\n",
      "Запуск обработки на 32 процессах...\n",
      "Запуск обработки на 32 процессах...\n",
      "Заменяю на заглушку coco_707239: unclosed token: line 56, column 2\n",
      "Заменяю на заглушку coco_688140: unclosed token: line 53, column 2\n",
      "Запуск обработки на 32 процессах...\n",
      "Заменяю на заглушку coco_651488: unclosed token: line 79, column 2\n",
      "Запуск обработки на 32 процессах...\n",
      "Заменяю на заглушку coco_615920: unclosed token: line 48, column 2Заменяю на заглушку coco_479824: not well-formed (invalid token): line 1, column 0\n",
      "\n",
      "Заменяю на заглушку coco_636080: unclosed token: line 53, column 2\n",
      "Запуск обработки на 32 процессах...\n",
      "Запуск обработки на 32 процессах...\n",
      "Заменяю на заглушку coco_217357: unclosed token: line 55, column 4\n",
      "Запуск обработки на 32 процессах...\n",
      "Заменяю на заглушку coco_442767: unclosed token: line 78, column 2Заменяю на заглушку coco_379316: unclosed token: line 49, column 2\n",
      "\n",
      "Запуск обработки на 32 процессах...\n",
      "Заменяю на заглушку coco_500775: unclosed token: line 56, column 2\n",
      "Заменяю на заглушку coco_412481: no element found: line 50, column 0\n",
      "Запуск обработки на 32 процессах...\n",
      "Заменяю на заглушку coco_33862: unclosed token: line 53, column 2\n",
      "Запуск обработки на 32 процессах...\n",
      "Запуск обработки на 32 процессах...\n",
      "Запуск обработки на 32 процессах...\n",
      "Заменяю на заглушку coco_803360: unclosed token: line 49, column 2\n",
      "Заменяю на заглушку coco_444643: unclosed token: line 42, column 4\n",
      "Запуск обработки на 32 процессах...\n",
      "Запуск обработки на 32 процессах...\n",
      "Заменяю на заглушку coco_789797: no element found: line 47, column 0\n",
      "Заменяю на заглушку coco_392335: unclosed token: line 56, column 2\n",
      "Запуск обработки на 32 процессах...\n",
      "Заменяю на заглушку coco_808847: unclosed token: line 46, column 4\n",
      "Заменяю на заглушку coco_120671: unclosed token: line 45, column 2\n",
      "Запуск обработки на 32 процессах...\n",
      "Запуск обработки на 32 процессах...\n",
      "Заменяю на заглушку coco_22967: no element found: line 298, column 64\n",
      "Запуск обработки на 32 процессах...\n",
      "Заменяю на заглушку coco_384308: unclosed token: line 48, column 2\n",
      "Запуск обработки на 32 процессах...\n",
      "Заменяю на заглушку coco_97290: unclosed token: line 52, column 2Заменяю на заглушку coco_127248: unclosed token: line 53, column 2\n",
      "\n",
      "Запуск обработки на 32 процессах...\n",
      "Запуск обработки на 32 процессах...\n",
      "Заменяю на заглушку coco_782929: unclosed token: line 51, column 4\n",
      "Запуск обработки на 32 процессах...\n",
      "Заменяю на заглушку coco_530062: unclosed token: line 45, column 2\n",
      "Заменяю на заглушку coco_139046: no element found: line 66, column 1\n",
      "Запуск обработки на 32 процессах...\n",
      "Заменяю на заглушку coco_508392: unclosed token: line 88, column 4\n",
      "Заменяю на заглушку coco_185423: unclosed token: line 42, column 4\n",
      "Запуск обработки на 32 процессах...\n",
      "Заменяю на заглушку coco_804823: unclosed token: line 40, column 2Заменяю на заглушку coco_322217: unclosed token: line 34, column 2\n",
      "\n",
      "Заменяю на заглушку coco_349581: unclosed token: line 53, column 2Заменяю на заглушку coco_757189: unclosed token: line 54, column 4\n",
      "\n",
      "Запуск обработки на 32 процессах...\n",
      "Заменяю на заглушку coco_442588: unclosed token: line 56, column 2\n",
      "Заменяю на заглушку coco_208343: unclosed token: line 52, column 2\n",
      "Запуск обработки на 32 процессах...\n",
      "Заменяю на заглушку coco_220395: unclosed token: line 56, column 2\n",
      "Заменяю на заглушку coco_798524: unclosed token: line 56, column 2\n",
      "Запуск обработки на 32 процессах...\n",
      "Запуск обработки на 32 процессах...\n",
      "Заменяю на заглушку coco_485304: unclosed token: line 79, column 2\n",
      "Заменяю на заглушку coco_211063: unclosed token: line 56, column 2\n",
      "Запуск обработки на 32 процессах...\n",
      "Запуск обработки на 32 процессах...\n",
      "Запуск обработки на 32 процессах...\n",
      "Заменяю на заглушку coco_304637: unclosed token: line 56, column 2Заменяю на заглушку coco_532401: not well-formed (invalid token): line 1, column 0\n",
      "\n",
      "Запуск обработки на 32 процессах...\n",
      "Заменяю на заглушку coco_820128: not well-formed (invalid token): line 1, column 0\n",
      "Запуск обработки на 32 процессах...\n",
      "Заменяю на заглушку coco_760158: unclosed token: line 41, column 2\n",
      "Заменяю на заглушку coco_526781: unclosed token: line 48, column 2\n",
      "Запуск обработки на 32 процессах...\n",
      "Запуск обработки на 32 процессах...\n",
      "Заменяю на заглушку coco_799972: unclosed token: line 56, column 2\n",
      "Заменяю на заглушку coco_415389: unclosed token: line 79, column 2\n",
      "Запуск обработки на 32 процессах...\n",
      "Запуск обработки на 32 процессах...\n",
      "Заменяю на заглушку coco_592637: unclosed token: line 42, column 2\n",
      "Запуск обработки на 32 процессах...\n",
      "Заменяю на заглушку coco_657288: not well-formed (invalid token): line 1, column 0\n",
      "Запуск обработки на 32 процессах...\n",
      "Заменяю на заглушку coco_100790: no element found: line 47, column 0\n",
      "Запуск обработки на 32 процессах...\n",
      "Заменяю на заглушку coco_58389: unclosed token: line 52, column 2\n",
      "Запуск обработки на 32 процессах...\n",
      "Запуск обработки на 32 процессах...\n",
      "Заменяю на заглушку coco_380064: unclosed token: line 88, column 4\n",
      "Запуск обработки на 32 процессах...\n",
      "Запуск обработки на 32 процессах...\n",
      "Заменяю на заглушку coco_718194: unclosed token: line 79, column 2\n",
      "Запуск обработки на 32 процессах...\n",
      "Заменяю на заглушку coco_739595: unclosed token: line 57, column 4\n",
      "Запуск обработки на 32 процессах...\n",
      "Запуск обработки на 32 процессах...\n",
      "Заменяю на заглушку drawbench_48: unclosed token: line 56, column 2\n",
      "Запуск обработки на 32 процессах...\n",
      "Запуск обработки на 32 процессах...\n",
      "Заменяю на заглушку drawbench_129: unclosed token: line 39, column 4\n",
      "Заменяю на заглушку drawbench_135: unclosed token: line 66, column 4\n",
      "Запуск обработки на 32 процессах...\n",
      "Запуск обработки на 32 процессах...\n",
      "Запуск обработки на 32 процессах...\n",
      "Заменяю на заглушку partiprompt_76: unclosed token: line 54, column 4\n",
      "Запуск обработки на 32 процессах...\n",
      "Заменяю на заглушку partiprompt_81: unclosed token: line 88, column 4\n",
      "Заменяю на заглушку partiprompt_93: unclosed token: line 56, column 4Заменяю на заглушку partiprompt_87: mismatched tag: line 61, column 22Заменяю на заглушку partiprompt_95: unclosed token: line 33, column 4\n",
      "\n",
      "Заменяю на заглушку partiprompt_97: unclosed token: line 53, column 2Заменяю на заглушку partiprompt_99: unclosed token: line 49, column 4Заменяю на заглушку partiprompt_100: unclosed token: line 38, column 2\n",
      "\n",
      "\n",
      "\n",
      "Запуск обработки на 32 процессах...\n",
      "Заменяю на заглушку partiprompt_115: no element found: line 50, column 0\n",
      "Запуск обработки на 32 процессах...\n",
      "Заменяю на заглушку partiprompt_166: unclosed token: line 42, column 2\n",
      "Запуск обработки на 32 процессах...\n",
      "Заменяю на заглушку partiprompt_202: unclosed token: line 91, column 4\n",
      "Запуск обработки на 32 процессах...\n",
      "Заменяю на заглушку partiprompt_214: unclosed token: line 42, column 2Заменяю на заглушку partiprompt_222: unclosed token: line 79, column 2\n",
      "\n",
      "Заменяю на заглушку partiprompt_230: no element found: line 47, column 0\n",
      "Запуск обработки на 32 процессах...\n",
      "Заменяю на заглушку partiprompt_266: unclosed token: line 75, column 4\n",
      "Запуск обработки на 32 процессах...\n",
      "Заменяю на заглушку partiprompt_291: unclosed token: line 88, column 2\n",
      "Запуск обработки на 32 процессах...\n",
      "Заменяю на заглушку partiprompt_326: unclosed token: line 86, column 2\n",
      "Запуск обработки на 32 процессах...\n",
      "Запуск обработки на 32 процессах...\n",
      "Заменяю на заглушку partiprompt_392: unclosed token: line 56, column 2\n",
      "Запуск обработки на 32 процессах...\n",
      "Заменяю на заглушку partiprompt_402: unclosed token: line 47, column 4\n",
      "Заменяю на заглушку partiprompt_422: unclosed token: line 54, column 4\n",
      "Запуск обработки на 32 процессах...\n",
      "Заменяю на заглушку partiprompt_446: unclosed token: line 46, column 4\n",
      "Запуск обработки на 32 процессах...\n",
      "Запуск обработки на 32 процессах...\n",
      "Заменяю на заглушку partiprompt_501: no element found: line 47, column 0Заменяю на заглушку partiprompt_503: no element found: line 39, column 0\n",
      "\n",
      "Заменяю на заглушку partiprompt_515: unclosed token: line 57, column 4\n",
      "Запуск обработки на 32 процессах...\n",
      "Заменяю на заглушку partiprompt_535: no element found: line 66, column 3\n",
      "Заменяю на заглушку partiprompt_546: unclosed token: line 53, column 2\n",
      "Запуск обработки на 32 процессах...\n",
      "Заменяю на заглушку partiprompt_561: unclosed token: line 52, column 4\n",
      "Запуск обработки на 32 процессах...\n",
      "Запуск обработки на 32 процессах...\n",
      "Заменяю на заглушку partiprompt_623: unclosed token: line 50, column 4\n",
      "Запуск обработки на 32 процессах...\n",
      "Запуск обработки на 32 процессах...\n",
      "Заменяю на заглушку partiprompt_693: unclosed token: line 39, column 4\n",
      "Заменяю на заглушку partiprompt_710: not well-formed (invalid token): line 1, column 0\n",
      "Запуск обработки на 32 процессах...\n",
      "Заменяю на заглушку partiprompt_724: unclosed token: line 40, column 4\n",
      "Заменяю на заглушку partiprompt_736: unclosed token: line 38, column 2\n",
      "Запуск обработки на 32 процессах...\n",
      "Заменяю на заглушку partiprompt_759: unclosed token: line 38, column 2\n",
      "Заменяю на заглушку partiprompt_782: unclosed token: line 52, column 2\n",
      "Запуск обработки на 32 процессах...\n",
      "Запуск обработки на 32 процессах...\n",
      "Запуск обработки на 32 процессах...\n",
      "Заменяю на заглушку partiprompt_857: unclosed token: line 56, column 2\n",
      "Заменяю на заглушку partiprompt_877: unclosed token: line 54, column 2\n",
      "Запуск обработки на 32 процессах...\n",
      "Заменяю на заглушку partiprompt_894: unclosed token: line 57, column 2\n",
      "Заменяю на заглушку partiprompt_904: unclosed token: line 79, column 2\n",
      "Запуск обработки на 32 процессах...\n",
      "Заменяю на заглушку partiprompt_942: unclosed token: line 39, column 4\n",
      "Запуск обработки на 32 процессах...\n",
      "Запуск обработки на 32 процессах...\n",
      "Запуск обработки на 32 процессах...\n",
      "Запуск обработки на 32 процессах...\n",
      "Запуск обработки на 32 процессах...\n",
      "Заменяю на заглушку partiprompt_1088: unclosed token: line 57, column 4\n",
      "Запуск обработки на 32 процессах...\n",
      "Запуск обработки на 32 процессах...\n",
      "Заменяю на заглушку partiprompt_1136: no element found: line 41, column 1\n",
      "Запуск обработки на 32 процессах...\n",
      "Заменяю на заглушку partiprompt_1172: mismatched tag: line 5, column 6\n",
      "Заменяю на заглушку partiprompt_1180: unclosed token: line 77, column 4\n",
      "Запуск обработки на 32 процессах...\n",
      "Заменяю на заглушку partiprompt_1204: unclosed token: line 48, column 2\n",
      "Заменяю на заглушку partiprompt_1221: unclosed token: line 49, column 2\n",
      "Заменяю на заглушку partiprompt_1228: unclosed token: line 41, column 2\n",
      "Запуск обработки на 32 процессах...\n",
      "Запуск обработки на 32 процессах...\n",
      "Запуск обработки на 32 процессах...\n",
      "Заменяю на заглушку partiprompt_1324: unclosed token: line 79, column 4\n",
      "Запуск обработки на 32 процессах...\n",
      "Запуск обработки на 32 процессах...\n",
      "Заменяю на заглушку partiprompt_1359: unclosed token: line 50, column 4Заменяю на заглушку partiprompt_1372: unclosed token: line 79, column 2\n",
      "\n",
      "Запуск обработки на 32 процессах...\n",
      "Заменяю на заглушку paintskill_1: unclosed token: line 53, column 2\n",
      "Запуск обработки на 32 процессах...\n",
      "Запуск обработки на 32 процессах...\n",
      "Заменяю на заглушку paintskill_51: unclosed token: line 56, column 2\n",
      "Заменяю на заглушку paintskill_59: not well-formed (invalid token): line 1, column 0Заменяю на заглушку paintskill_66: not well-formed (invalid token): line 1, column 0\n",
      "\n",
      "Запуск обработки на 32 процессах...\n",
      "Заменяю на заглушку paintskill_79: not well-formed (invalid token): line 1, column 0\n",
      "Заменяю на заглушку paintskill_89: not well-formed (invalid token): line 1, column 0\n",
      "Запуск обработки на 32 процессах...\n",
      "Заменяю на заглушку paintskill_102: not well-formed (invalid token): line 1, column 0\n",
      "Запуск обработки на 32 процессах...\n",
      "Заменяю на заглушку paintskill_145: unclosed token: line 53, column 2\n",
      "Заменяю на заглушку paintskill_157: unclosed token: line 44, column 2\n",
      "Запуск обработки на 32 процессах...\n",
      "Заменяю на заглушку paintskill_182: not well-formed (invalid token): line 1, column 0\n",
      "Запуск обработки на 32 процессах...\n",
      "Заменяю на заглушку paintskill_202: not well-formed (invalid token): line 1, column 0Заменяю на заглушку paintskill_204: not well-formed (invalid token): line 1, column 0Заменяю на заглушку paintskill_215: not well-formed (invalid token): line 1, column 0\n",
      "\n",
      "\n",
      "Запуск обработки на 32 процессах...\n",
      "Заменяю на заглушку paintskill_249: not well-formed (invalid token): line 1, column 0\n",
      "Запуск обработки на 32 процессах...\n",
      "Заменяю на заглушку paintskill_265: not well-formed (invalid token): line 1, column 0Заменяю на заглушку paintskill_268: not well-formed (invalid token): line 1, column 0\n",
      "\n",
      "Заменяю на заглушку paintskill_290: not well-formed (invalid token): line 1, column 0\n",
      "Запуск обработки на 32 процессах...\n",
      "Заменяю на заглушку paintskill_310: no element found: line 62, column 1\n",
      "Запуск обработки на 32 процессах...\n",
      "Заменяю на заглушку paintskill_329: not well-formed (invalid token): line 1, column 0Заменяю на заглушку paintskill_325: not well-formed (invalid token): line 1, column 0\n",
      "\n",
      "Заменяю на заглушку paintskill_333: not well-formed (invalid token): line 1, column 0\n",
      "Запуск обработки на 32 процессах...\n",
      "Заменяю на заглушку paintskill_362: not well-formed (invalid token): line 1, column 0\n",
      "Заменяю на заглушку paintskill_378: not well-formed (invalid token): line 1, column 0\n",
      "Запуск обработки на 32 процессах...\n",
      "Заменяю на заглушку paintskill_416: not well-formed (invalid token): line 1, column 0Заменяю на заглушку paintskill_408: not well-formed (invalid token): line 1, column 0Заменяю на заглушку paintskill_411: unclosed token: line 51, column 2\n",
      "\n",
      "\n",
      "Запуск обработки на 32 процессах...\n",
      "Заменяю на заглушку paintskill_423: unclosed token: line 53, column 2\n",
      "Заменяю на заглушку paintskill_444: not well-formed (invalid token): line 1, column 0\n",
      "Запуск обработки на 32 процессах...\n",
      "Заменяю на заглушку paintskill_468: not well-formed (invalid token): line 1, column 0\n",
      "Заменяю на заглушку paintskill_481: unclosed token: line 37, column 2\n",
      "Запуск обработки на 32 процессах...\n"
     ]
    }
   ],
   "execution_count": 22
  },
  {
   "metadata": {
    "ExecuteTime": {
     "end_time": "2025-06-18T20:39:53.077310Z",
     "start_time": "2025-06-18T20:39:53.028656Z"
    }
   },
   "cell_type": "code",
   "source": "eval_dataset[\"paths\"] = eval_dataset.apply(lambda sample: {sample.id: os.path.join(output_folder, f\"{sample.id}.png\" )}  ,axis=1)",
   "id": "3e625e188d99fffe",
   "outputs": [],
   "execution_count": 23
  },
  {
   "metadata": {
    "ExecuteTime": {
     "end_time": "2025-06-18T20:39:53.103837Z",
     "start_time": "2025-06-18T20:39:53.099569Z"
    }
   },
   "cell_type": "code",
   "source": "eval_dataset.paths.head(5)",
   "id": "f57d822871a70276",
   "outputs": [
    {
     "data": {
      "text/plain": [
       "0    {'coco_301091': '/home/student/kuzin/python_pr...\n",
       "1    {'coco_421933': '/home/student/kuzin/python_pr...\n",
       "2    {'coco_55404': '/home/student/kuzin/python_pro...\n",
       "3    {'coco_738534': '/home/student/kuzin/python_pr...\n",
       "4    {'coco_788027': '/home/student/kuzin/python_pr...\n",
       "Name: paths, dtype: object"
      ]
     },
     "execution_count": 24,
     "metadata": {},
     "output_type": "execute_result"
    }
   ],
   "execution_count": 24
  },
  {
   "metadata": {
    "ExecuteTime": {
     "end_time": "2025-06-18T20:39:53.177721Z",
     "start_time": "2025-06-18T20:39:53.173683Z"
    }
   },
   "cell_type": "code",
   "source": "len(eval_dataset[eval_dataset.wrong_gen==1])",
   "id": "83e7eb8c08c8278b",
   "outputs": [
    {
     "data": {
      "text/plain": [
       "3927"
      ]
     },
     "execution_count": 25,
     "metadata": {},
     "output_type": "execute_result"
    }
   ],
   "execution_count": 25
  },
  {
   "metadata": {
    "ExecuteTime": {
     "end_time": "2025-06-18T20:39:53.224725Z",
     "start_time": "2025-06-18T20:39:53.222667Z"
    }
   },
   "cell_type": "code",
   "source": "merged_dict = {}",
   "id": "f5dd832f5a01c72b",
   "outputs": [],
   "execution_count": 26
  },
  {
   "metadata": {
    "ExecuteTime": {
     "end_time": "2025-06-18T20:39:53.301407Z",
     "start_time": "2025-06-18T20:39:53.298086Z"
    }
   },
   "cell_type": "code",
   "source": [
    "# Если ключи уникальны и можно просто обновлять словарь\n",
    "for d in eval_dataset['paths']:\n",
    "    if isinstance(d, dict):  \n",
    "        merged_dict.update(d)"
   ],
   "id": "30b9278b08823a41",
   "outputs": [],
   "execution_count": 27
  },
  {
   "metadata": {
    "ExecuteTime": {
     "end_time": "2025-06-18T20:39:53.413862Z",
     "start_time": "2025-06-18T20:39:53.410796Z"
    }
   },
   "cell_type": "code",
   "source": [
    "output_dir = os.path.join(dir_path_for_res, 'mapping_for_tifa_banch.json')\n",
    "output_dir"
   ],
   "id": "c1bfbb4db1b43cd3",
   "outputs": [
    {
     "data": {
      "text/plain": [
       "'/home/student/kuzin/python_project/TextToSvg_MLCUP/data/Qwen/Qwen3-0.6B/mapping_for_tifa_banch.json'"
      ]
     },
     "execution_count": 28,
     "metadata": {},
     "output_type": "execute_result"
    }
   ],
   "execution_count": 28
  },
  {
   "metadata": {
    "ExecuteTime": {
     "end_time": "2025-06-18T20:39:53.501346Z",
     "start_time": "2025-06-18T20:39:53.494555Z"
    }
   },
   "cell_type": "code",
   "source": [
    "if merged_dict:\n",
    "    with open(output_dir, 'w', encoding='utf-8') as f:\n",
    "        json.dump(dict(merged_dict), f, ensure_ascii=False, indent=4)"
   ],
   "id": "3dff000f13e59608",
   "outputs": [],
   "execution_count": 29
  },
  {
   "metadata": {
    "ExecuteTime": {
     "end_time": "2025-06-18T20:39:53.542507Z",
     "start_time": "2025-06-18T20:39:53.540419Z"
    }
   },
   "cell_type": "code",
   "source": [
    "from timm.data import ImageNetInfo\n",
    "#!!  pip install timm==1.0.13  версия на которой заводится"
   ],
   "id": "2776b1cc1152948e",
   "outputs": [],
   "execution_count": 30
  },
  {
   "metadata": {
    "ExecuteTime": {
     "end_time": "2025-06-18T21:35:27.499182Z",
     "start_time": "2025-06-18T20:39:53.567754Z"
    }
   },
   "cell_type": "code",
   "source": [
    "results = tifa_score_benchmark(\"mplug-large\", \"tifa/tifa_v1.0/tifa_v1.0_question_answers.json\",output_dir)\n",
    "\n",
    "# save the results\n",
    "with open(os.path.join(dir_path_for_res ,'tifa_metrics.json'), \"w\") as f:\n",
    "    json.dump(results, f, indent=4)"
   ],
   "id": "33681faf1fa752fc",
   "outputs": [
    {
     "name": "stdout",
     "output_type": "stream",
     "text": [
      "Loading mplug-large...\n"
     ]
    },
    {
     "name": "stderr",
     "output_type": "stream",
     "text": [
      "2025-06-18 20:39:56,316 - modelscope - WARNING - Model revision not specified, use revision: v1.0.0\n"
     ]
    },
    {
     "name": "stdout",
     "output_type": "stream",
     "text": [
      "Downloading Model from https://www.modelscope.cn to directory: /home/student/.cache/modelscope/hub/models/damo/mplug_visual-question-answering_coco_large_en\n"
     ]
    },
    {
     "name": "stderr",
     "output_type": "stream",
     "text": [
      "2025-06-18 20:40:00,265 - modelscope - WARNING - Model revision not specified, use revision: v1.0.0\n",
      "2025-06-18 20:40:00,729 - modelscope - INFO - initiate model from /home/student/.cache/modelscope/hub/models/damo/mplug_visual-question-answering_coco_large_en\n",
      "2025-06-18 20:40:00,729 - modelscope - INFO - initiate model from location /home/student/.cache/modelscope/hub/models/damo/mplug_visual-question-answering_coco_large_en.\n",
      "2025-06-18 20:40:00,731 - modelscope - INFO - initialize model from /home/student/.cache/modelscope/hub/models/damo/mplug_visual-question-answering_coco_large_en\n",
      "/home/student/kuzin/python_project/TextToSvg_MLCUP/.venv/lib/python3.10/site-packages/transformers/tokenization_utils_base.py:1894: FutureWarning: Calling BertTokenizer.from_pretrained() with the path to a single file or url is deprecated and won't be possible anymore in v5. Use a model identifier or the path to a directory instead.\n",
      "  warnings.warn(\n"
     ]
    },
    {
     "name": "stdout",
     "output_type": "stream",
     "text": [
      "load checkpoint from /home/student/.cache/modelscope/hub/models/damo/mplug_visual-question-answering_coco_large_en/pytorch_model.bin\n",
      "<All keys matched successfully>\n",
      "Finish loading mplug-large\n",
      "Using SBERT on GPU\n"
     ]
    },
    {
     "name": "stderr",
     "output_type": "stream",
     "text": [
      "  0%|          | 0/25829 [00:00<?, ?it/s]/home/student/kuzin/python_project/TextToSvg_MLCUP/.venv/lib/python3.10/site-packages/torch/_dynamo/eval_frame.py:838: UserWarning: torch.utils.checkpoint: the use_reentrant parameter should be passed explicitly. In version 2.5 we will raise an exception if use_reentrant is not passed. use_reentrant=False is recommended, but if you need to preserve the current default behavior, you can pass use_reentrant=True. Refer to docs for more details on the differences between the two variants.\n",
      "  return fn(*args, **kwargs)\n",
      "/home/student/kuzin/python_project/TextToSvg_MLCUP/.venv/lib/python3.10/site-packages/torch/utils/checkpoint.py:86: UserWarning: None of the inputs have requires_grad=True. Gradients will be None\n",
      "  warnings.warn(\n",
      "100%|██████████| 25829/25829 [55:09<00:00,  7.80it/s] \n"
     ]
    },
    {
     "name": "stdout",
     "output_type": "stream",
     "text": [
      "Average TIFA is 0.22188441806569073\n"
     ]
    }
   ],
   "execution_count": 31
  },
  {
   "metadata": {
    "ExecuteTime": {
     "end_time": "2025-06-18T21:35:27.566983Z",
     "start_time": "2025-06-18T21:35:27.565350Z"
    }
   },
   "cell_type": "code",
   "source": "",
   "id": "484de3dea037c2d5",
   "outputs": [],
   "execution_count": null
  }
 ],
 "metadata": {
  "kernelspec": {
   "display_name": "Python 3",
   "language": "python",
   "name": "python3"
  },
  "language_info": {
   "codemirror_mode": {
    "name": "ipython",
    "version": 2
   },
   "file_extension": ".py",
   "mimetype": "text/x-python",
   "name": "python",
   "nbconvert_exporter": "python",
   "pygments_lexer": "ipython2",
   "version": "2.7.6"
  }
 },
 "nbformat": 4,
 "nbformat_minor": 5
}
