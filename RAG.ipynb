{
 "cells": [
  {
   "cell_type": "code",
   "id": "initial_id",
   "metadata": {
    "collapsed": true,
    "ExecuteTime": {
     "end_time": "2025-05-19T22:44:40.161807Z",
     "start_time": "2025-05-19T22:44:40.149168Z"
    }
   },
   "source": [
    "from langchain_core.documents import Document\n",
    "from langchain_community.document_loaders import PyPDFLoader\n",
    "from langchain_text_splitters import RecursiveCharacterTextSplitter\n",
    "from langchain.embeddings import HuggingFaceEmbeddings\n",
    "from langchain.vectorstores import Chroma\n",
    "import os\n",
    "import re\n",
    "from prompt_toolkit.key_binding.bindings.page_navigation import load_emacs_page_navigation_bindings\n",
    "from rank_bm25 import BM25Okapi\n",
    "from nltk.tokenize import word_tokenize\n",
    "import nltk\n",
    "nltk.download('punkt')\n",
    "nltk.download('punkt_tab')"
   ],
   "outputs": [
    {
     "ename": "ModuleNotFoundError",
     "evalue": "No module named 'langchain_core'",
     "output_type": "error",
     "traceback": [
      "\u001B[0;31m---------------------------------------------------------------------------\u001B[0m",
      "\u001B[0;31mModuleNotFoundError\u001B[0m                       Traceback (most recent call last)",
      "Cell \u001B[0;32mIn[2], line 1\u001B[0m\n\u001B[0;32m----> 1\u001B[0m \u001B[38;5;28;01mfrom\u001B[39;00m\u001B[38;5;250m \u001B[39m\u001B[38;5;21;01mlangchain_core\u001B[39;00m\u001B[38;5;21;01m.\u001B[39;00m\u001B[38;5;21;01mdocuments\u001B[39;00m\u001B[38;5;250m \u001B[39m\u001B[38;5;28;01mimport\u001B[39;00m Document\n\u001B[1;32m      2\u001B[0m \u001B[38;5;28;01mfrom\u001B[39;00m\u001B[38;5;250m \u001B[39m\u001B[38;5;21;01mlangchain_community\u001B[39;00m\u001B[38;5;21;01m.\u001B[39;00m\u001B[38;5;21;01mdocument_loaders\u001B[39;00m\u001B[38;5;250m \u001B[39m\u001B[38;5;28;01mimport\u001B[39;00m PyPDFLoader\n\u001B[1;32m      3\u001B[0m \u001B[38;5;28;01mfrom\u001B[39;00m\u001B[38;5;250m \u001B[39m\u001B[38;5;21;01mlangchain_text_splitters\u001B[39;00m\u001B[38;5;250m \u001B[39m\u001B[38;5;28;01mimport\u001B[39;00m RecursiveCharacterTextSplitter\n",
      "\u001B[0;31mModuleNotFoundError\u001B[0m: No module named 'langchain_core'"
     ]
    }
   ],
   "execution_count": 2
  },
  {
   "metadata": {
    "ExecuteTime": {
     "end_time": "2025-05-19T22:44:39.512194600Z",
     "start_time": "2025-05-19T09:27:52.421212Z"
    }
   },
   "cell_type": "code",
   "source": [
    "import seaborn as sns\n",
    "import numpy as np"
   ],
   "id": "57a8285ea0ae7054",
   "outputs": [],
   "execution_count": 2
  },
  {
   "metadata": {
    "ExecuteTime": {
     "end_time": "2025-05-19T22:44:39.512194600Z",
     "start_time": "2025-05-19T09:27:52.722382Z"
    }
   },
   "cell_type": "code",
   "source": [
    "from transformers import AutoTokenizer, AutoModel\n",
    "import torch.nn.functional as F\n",
    "import torch\n",
    "from tqdm import tqdm"
   ],
   "id": "35fb4d3526514246",
   "outputs": [
    {
     "name": "stderr",
     "output_type": "stream",
     "text": [
      "/home/student/kuzin/python_project/RAG/.venv/lib/python3.10/site-packages/tqdm/auto.py:21: TqdmWarning: IProgress not found. Please update jupyter and ipywidgets. See https://ipywidgets.readthedocs.io/en/stable/user_install.html\n",
      "  from .autonotebook import tqdm as notebook_tqdm\n"
     ]
    }
   ],
   "execution_count": 3
  },
  {
   "metadata": {
    "ExecuteTime": {
     "end_time": "2025-05-19T22:44:39.512194600Z",
     "start_time": "2025-05-19T09:27:54.372324Z"
    }
   },
   "cell_type": "code",
   "source": "tokenizer = AutoTokenizer.from_pretrained(\"intfloat/multilingual-e5-large\")",
   "id": "e29e3183837ce2d1",
   "outputs": [],
   "execution_count": 4
  },
  {
   "metadata": {
    "ExecuteTime": {
     "end_time": "2025-05-19T22:44:39.512194600Z",
     "start_time": "2025-05-19T09:27:55.673252Z"
    }
   },
   "cell_type": "code",
   "source": [
    "import torch\n",
    "print(torch.__version__)  # Должно показать версию PyTorch\n",
    "print(torch.cuda.is_available())  # Проверка поддержки GPU (True/False)"
   ],
   "id": "b733b7e80630305f",
   "outputs": [
    {
     "name": "stdout",
     "output_type": "stream",
     "text": [
      "2.6.0+cu124\n",
      "True\n"
     ]
    }
   ],
   "execution_count": 5
  },
  {
   "metadata": {
    "ExecuteTime": {
     "end_time": "2025-05-19T22:44:39.512194600Z",
     "start_time": "2025-05-19T09:27:55.727515Z"
    }
   },
   "cell_type": "code",
   "source": [
    "model_name = \"intfloat/multilingual-e5-large\"\n",
    "embedding_model = HuggingFaceEmbeddings(\n",
    "    model_name=model_name,\n",
    "    model_kwargs={'device': 'cuda'},  # Используем GPU\n",
    "    encode_kwargs={'normalize_embeddings': True}\n",
    ")"
   ],
   "id": "f56ffa2f537d83af",
   "outputs": [
    {
     "name": "stderr",
     "output_type": "stream",
     "text": [
      "/tmp/ipykernel_664565/952453841.py:2: LangChainDeprecationWarning: The class `HuggingFaceEmbeddings` was deprecated in LangChain 0.2.2 and will be removed in 1.0. An updated version of the class exists in the :class:`~langchain-huggingface package and should be used instead. To use it run `pip install -U :class:`~langchain-huggingface` and import as `from :class:`~langchain_huggingface import HuggingFaceEmbeddings``.\n",
      "  embedding_model = HuggingFaceEmbeddings(\n"
     ]
    }
   ],
   "execution_count": 6
  },
  {
   "metadata": {
    "ExecuteTime": {
     "end_time": "2025-05-19T22:44:39.512194600Z",
     "start_time": "2025-05-19T09:28:00.785428Z"
    }
   },
   "cell_type": "code",
   "source": [
    "def find_pdf_files(folder_path):\n",
    "    pdf_files_paths = []\n",
    "    \n",
    "    for root, dirs, files in os.walk(folder_path):\n",
    "        for file in files:\n",
    "            if file.lower().endswith('.pdf'):\n",
    "                full_path = os.path.join(root, file)\n",
    "                pdf_files_paths.append(full_path)\n",
    "    \n",
    "    return pdf_files_paths"
   ],
   "id": "d188f6b4a4d9d990",
   "outputs": [],
   "execution_count": 7
  },
  {
   "metadata": {
    "ExecuteTime": {
     "end_time": "2025-05-19T22:44:39.512194600Z",
     "start_time": "2025-05-19T09:49:02.192179Z"
    }
   },
   "cell_type": "code",
   "source": "",
   "id": "5ac163c01efe8607",
   "outputs": [
    {
     "name": "stdout",
     "output_type": "stream",
     "text": [
      "Текст между тегами\n"
     ]
    }
   ],
   "execution_count": 46
  },
  {
   "metadata": {
    "ExecuteTime": {
     "end_time": "2025-05-19T22:44:39.512194600Z",
     "start_time": "2025-05-19T09:49:44.278969Z"
    }
   },
   "cell_type": "code",
   "source": [
    "def supply_func(text: str):   \n",
    "    end_first = text.find('>')  # Индекс первого '>'\n",
    "    start_second = text.find('<', end_first + 1)  # Следующий '<' после первого '>'\n",
    "    \n",
    "    if end_first != -1 and start_second != -1 and end_first < start_second:\n",
    "        return text[end_first + 1 : start_second].strip()\n",
    "    return text"
   ],
   "id": "84df8fa7a5c5682a",
   "outputs": [],
   "execution_count": 47
  },
  {
   "metadata": {
    "ExecuteTime": {
     "end_time": "2025-05-19T22:44:39.512194600Z",
     "start_time": "2025-05-19T09:49:44.818116Z"
    }
   },
   "cell_type": "code",
   "source": [
    "def clean_text(text: str,  supply_func = None ) -> str:\n",
    "    # Сначала склеиваем слова с мягкими переносами\n",
    "    text = re.sub(r'(\\w+)\\xad\\n(\\w+)', r'\\1\\2', text)  # Склеиваем перенесённые слова\n",
    "    \n",
    "    # Затем удаляем оставшиеся мягкие переносы\n",
    "    text = text.replace('\\xad', '')\n",
    "    \n",
    "    # Остальная очистка\n",
    "    text = re.sub(r'(?<!\\n)\\n(?!\\n)', ' ', text)  # Одинарные \\n в пробелы\n",
    "    text = re.sub(r'\\n+', '\\n\\n', text)  # Нормализуем переносы строк\n",
    "    text = re.sub(r' +', ' ', text)  # Удаляем лишние пробелы\n",
    "    if  supply_func is not None:\n",
    "        text = supply_func(text)\n",
    "    return text.strip()"
   ],
   "id": "c819a3f16a130898",
   "outputs": [],
   "execution_count": 48
  },
  {
   "metadata": {
    "ExecuteTime": {
     "end_time": "2025-05-19T22:44:39.512194600Z",
     "start_time": "2025-05-19T09:49:45.538646Z"
    }
   },
   "cell_type": "code",
   "source": [
    "folder_path = './data/referat_3'\n",
    "pdf_files_paths = find_pdf_files(folder_path)\n",
    "pdf_files_paths"
   ],
   "id": "c2c3dcff59f838ce",
   "outputs": [
    {
     "data": {
      "text/plain": [
       "['./data/referat_3/Victor Davis Hanson - Warfare and Agriculture in Classical Greece, Revised edition (Biblioteca Di Studi Antichi, 40) (1998).pdf']"
      ]
     },
     "execution_count": 49,
     "metadata": {},
     "output_type": "execute_result"
    }
   ],
   "execution_count": 49
  },
  {
   "metadata": {
    "ExecuteTime": {
     "end_time": "2025-05-19T22:44:39.512194600Z",
     "start_time": "2025-05-19T09:49:46.412736Z"
    }
   },
   "cell_type": "code",
   "source": [
    "all_chunks = []\n",
    "text_splitter = RecursiveCharacterTextSplitter(\n",
    "    chunk_size=2200, chunk_overlap=200, add_start_index=True, separators=[\"\\n\\n\", \"\\n\", \" \", \"\"]\n",
    ")\n",
    "docs = {}\n",
    "for file_path in tqdm(pdf_files_paths, desc=\"Сплиттинг документов\"):\n",
    "    loader = PyPDFLoader(file_path)\n",
    "    doc = loader.load()\n",
    "    docs.update({file_path: doc})\n",
    "    chunks = text_splitter.split_documents(doc)\n",
    "    for chunk in chunks:\n",
    "        chunk.page_content = f\"passage: {clean_text(chunk.page_content, supply_func = supply_func)}\"\n",
    "    all_chunks.extend(chunks)"
   ],
   "id": "d5ba69acc392c340",
   "outputs": [
    {
     "name": "stderr",
     "output_type": "stream",
     "text": [
      "Сплиттинг документов: 100%|██████████| 1/1 [00:03<00:00,  3.19s/it]\n"
     ]
    }
   ],
   "execution_count": 50
  },
  {
   "metadata": {
    "ExecuteTime": {
     "end_time": "2025-05-19T22:44:39.512194600Z",
     "start_time": "2025-05-19T09:52:28.498358Z"
    }
   },
   "cell_type": "code",
   "source": "all_chunks[0].page_content",
   "id": "fc5c70e0c75fcd55",
   "outputs": [
    {
     "data": {
      "text/plain": [
       "'passage: cover cover next page > title : Warfare and Agriculture in Classical Greece author : Hanson, Victor Davis. publisher : University of California Press isbn10 | asin : 0520215966 print isbn13 : 9780520215962 ebook isbn13 : 9780585154855 language : English subject Agriculture--Defense measures--Greece--History, War damage, Industrial--Greece--History, Attike (Greece)-- History, Greece--History--Peloponnesian War, 431-404 B.C. publication date : 1998 lcc : UA929.95.A35H27 1998eb ddc : 338.1/4 subject : Agriculture--Defense measures--Greece--History, War damage, Industrial--Greece--History, Attike (Greece)-- History, Greece--History--Peloponnesian War, 431-404 B.C. cover next page > file:///C|/Documents%20and%20Settings/Nidia%20Santo...ntos/NUNO-BOOKS/scanear/0520215966/files/cover.html [10-02-2009 20:40:00]'"
      ]
     },
     "execution_count": 62,
     "metadata": {},
     "output_type": "execute_result"
    }
   ],
   "execution_count": 62
  },
  {
   "metadata": {
    "ExecuteTime": {
     "end_time": "2025-05-19T22:44:39.512194600Z",
     "start_time": "2025-05-19T09:51:13.352300Z"
    }
   },
   "cell_type": "code",
   "source": [
    "load_chunks = []\n",
    "for chunk in all_chunks:\n",
    "    load_chunks.append(len(chunk.page_content.split(\" \")))"
   ],
   "id": "e34528e68d875e12",
   "outputs": [],
   "execution_count": 58
  },
  {
   "metadata": {
    "ExecuteTime": {
     "end_time": "2025-05-19T22:44:39.512194600Z",
     "start_time": "2025-05-19T09:51:14.115903Z"
    }
   },
   "cell_type": "code",
   "source": "sns.histplot(np.array(load_chunks))",
   "id": "c5c43175c6c014fb",
   "outputs": [
    {
     "data": {
      "text/plain": [
       "<Axes: ylabel='Count'>"
      ]
     },
     "execution_count": 59,
     "metadata": {},
     "output_type": "execute_result"
    },
    {
     "data": {
      "text/plain": [
       "<Figure size 640x480 with 1 Axes>"
      ],
      "image/png": "[encoded data removed]"
     },
     "metadata": {},
     "output_type": "display_data"
    }
   ],
   "execution_count": 59
  },
  {
   "metadata": {
    "ExecuteTime": {
     "end_time": "2025-05-19T22:44:39.531361300Z",
     "start_time": "2025-05-19T09:51:19.871066Z"
    }
   },
   "cell_type": "code",
   "source": "len(all_chunks)",
   "id": "1dfe90ccd2f5d21f",
   "outputs": [
    {
     "data": {
      "text/plain": [
       "559"
      ]
     },
     "execution_count": 60,
     "metadata": {},
     "output_type": "execute_result"
    }
   ],
   "execution_count": 60
  },
  {
   "metadata": {
    "ExecuteTime": {
     "end_time": "2025-05-19T22:44:39.531361300Z",
     "start_time": "2025-05-19T10:25:56.897859Z"
    }
   },
   "cell_type": "code",
   "source": [
    "tokenized_corpus = [word_tokenize(doc.page_content.lower()) for doc in all_chunks]\n",
    "bm25 = BM25Okapi(tokenized_corpus)\n",
    "query = \"The role of agriculture in shaping military strategies of ancient societies according to Hanson\"\n",
    "tokenized_query = word_tokenize(query.lower())\n",
    "doc_scores = bm25.get_scores(tokenized_query)\n",
    "best_doc_index = doc_scores.argmax()\n",
    "print(\"Лучший документ:\", all_chunks[best_doc_index])"
   ],
   "id": "f24653157e58dfdf",
   "outputs": [
    {
     "name": "stdout",
     "output_type": "stream",
     "text": [
      "Лучший документ: page_content='passage: page_9 < previous page page_9 next page > Page 9 The primacy of land both as an object of attack and as grounds for infantry defense holds true for a good many Greek states in the classical period and serves well as a model against which exceptions can be illustrated. Some backward societies in mountainous areas in Crete and Aetolia, where the agrarian polis was less developed, for example, made exclusive use of light-armed troops in attacking the enemy in border passes. Effective cavalry overshadowed infantry in Thessaly and anywhere else where wide plains made their use attractive and where agriculture was practiced under different cultural and legal protocols, which emphasized aristocracy and monarchy rather than broad-based oligarchy and timocracy. We hear, too, of occasional ingenious sieges at Plataia and later at Mantineia, as the Peloponnesian War and subsequent fighting illustrated the sometime artificial and static nature of war framed solely by decisive infantry battle. Athens, of course, as Miletus before, weighed carefully the advantages of not risking its growing urban citizenry to meet the challenge of enemy invaders on Attic soil, and so chose not to fight in pitched hoplite battle to protect its agriculture. And from the fourth century B.C. on, the widespread use of mercenaries, peltasts, artillery, slaves and freed slaves, and new emphasis on fortification changed military practice altogether: the old idea of war as solely decisive battle, and decisive battle solely as a single collision of hoplite farmers on level ground became often irrelevant. But if ravaging farmland alone no longer determined the nature of warfare in Greece, and if it was no longer integral to the rituals of hoplite fighting, it still continued to play a key role throughout Hellenistic and Roman imperial times. Such later states were not agrarian, but like most preindustrial cultures of the ancient Mediterranean they were still agricultural. And so attacks on cropland would always remain a popular tactic against any society that relied chiefly on farming for its' metadata={'producer': 'Acrobat Web Capture 8.0', 'creator': 'Adobe Acrobat 8.1 Combine Files', 'creationdate': '2009-02-10T20:44:22+00:00', 'moddate': '2009-02-10T21:58:13+00:00', 'title': 'cover', 'source': './data/referat_3/Victor Davis Hanson - Warfare and Agriculture in Classical Greece, Revised edition (Biblioteca Di Studi Antichi, 40) (1998).pdf', 'total_pages': 359, 'page': 25, 'page_label': '26', 'start_index': 0}\n"
     ]
    }
   ],
   "execution_count": 74
  },
  {
   "metadata": {
    "ExecuteTime": {
     "end_time": "2025-05-19T22:44:39.531361300Z",
     "start_time": "2025-05-19T10:25:58.585998Z"
    }
   },
   "cell_type": "code",
   "source": [
    "import shutil\n",
    "persist_directory = \"rag_vector_db\"\n",
    "shutil.rmtree(persist_directory)"
   ],
   "id": "4b041e6650130a9d",
   "outputs": [],
   "execution_count": 75
  },
  {
   "metadata": {
    "ExecuteTime": {
     "end_time": "2025-05-19T22:44:39.531361300Z",
     "start_time": "2025-05-19T10:25:59.096426Z"
    }
   },
   "cell_type": "code",
   "source": [
    "vector_db = Chroma.from_documents(\n",
    "    all_chunks,\n",
    "    embedding_model,\n",
    "    persist_directory=\"rag_vector_db\"\n",
    ")"
   ],
   "id": "aa9d50ec91dc091d",
   "outputs": [],
   "execution_count": 76
  },
  {
   "metadata": {
    "ExecuteTime": {
     "end_time": "2025-05-19T22:44:39.531361300Z",
     "start_time": "2025-05-19T10:26:12.905859Z"
    }
   },
   "cell_type": "code",
   "source": "len(vector_db)",
   "id": "9550a9ef20d6574a",
   "outputs": [
    {
     "data": {
      "text/plain": [
       "559"
      ]
     },
     "execution_count": 77,
     "metadata": {},
     "output_type": "execute_result"
    }
   ],
   "execution_count": 77
  },
  {
   "metadata": {},
   "cell_type": "markdown",
   "source": "### Простая проверка всё ли ок",
   "id": "3ea6e03bcf12ee5c"
  },
  {
   "metadata": {
    "ExecuteTime": {
     "end_time": "2025-05-19T22:44:39.531361300Z",
     "start_time": "2025-05-19T10:26:18.453572Z"
    }
   },
   "cell_type": "code",
   "source": [
    "formatted_query = \"query: \" + \"Война и сельское хозяйство?\"  # Обязательно для E5!\n",
    "relevant_docs = vector_db.similarity_search(formatted_query, k=10)"
   ],
   "id": "c5b65be861a578d9",
   "outputs": [],
   "execution_count": 78
  },
  {
   "metadata": {
    "ExecuteTime": {
     "end_time": "2025-05-19T22:44:39.531361300Z",
     "start_time": "2025-05-19T10:26:19.204394Z"
    }
   },
   "cell_type": "code",
   "source": "relevant_docs",
   "id": "5ad0947a49ed9c19",
   "outputs": [
    {
     "data": {
      "text/plain": [
       "[Document(metadata={'title': 'cover', 'moddate': '2009-02-10T21:58:13+00:00', 'page_label': '2', 'total_pages': 359, 'start_index': 0, 'producer': 'Acrobat Web Capture 8.0', 'creationdate': '2009-02-10T20:44:22+00:00', 'source': './data/referat_3/Victor Davis Hanson - Warfare and Agriculture in Classical Greece, Revised edition (Biblioteca Di Studi Antichi, 40) (1998).pdf', 'page': 1, 'creator': 'Adobe Acrobat 8.1 Combine Files'}, page_content='passage: Page i Warfare and Agriculture in Classical Greece'),\n",
       " Document(metadata={'creationdate': '2009-02-10T20:44:22+00:00', 'creator': 'Adobe Acrobat 8.1 Combine Files', 'total_pages': 359, 'page_label': '215', 'source': './data/referat_3/Victor Davis Hanson - Warfare and Agriculture in Classical Greece, Revised edition (Biblioteca Di Studi Antichi, 40) (1998).pdf', 'start_index': 0, 'moddate': '2009-02-10T21:58:13+00:00', 'producer': 'Acrobat Web Capture 8.0', 'title': 'cover', 'page': 214}, page_content=\"passage: Page 201 UPDATED COMMENTARY AND BIBLIOGRAPHY Books and articles mentioned in the following bibliographic commentary appeared after Warfare and Agriculture was submitted for publication in 1981. Introduction Page 4. Warfare and Agriculture: General Considerations. Very few historical studies in any period have evaluated the complex relationship between farming and fighting. Two good examples of the dividends of such an approach are V. Magagna's Communities of Grain: Rural Rebellion in Comparative Perspective (Ithaca, N.Y., 1991), which demonstrates that agrarians fight not out of rigid class interests, but rather more often from a shared concern for the community's stability at large, and A. Offer's The First World War: An Agrarian Interpretation (Oxford, 1989), which brilliantly shows how agriculture affected the very outcome of the First World War. As Offer explains, both Germany and England resorted to imported foodstuffs to fulfill the ever- increasing demands of their populations' complex diet. England, how-\"),\n",
       " Document(metadata={'moddate': '2009-02-10T21:58:13+00:00', 'total_pages': 359, 'page': 33, 'start_index': 0, 'page_label': '34', 'creator': 'Adobe Acrobat 8.1 Combine Files', 'producer': 'Acrobat Web Capture 8.0', 'title': 'cover', 'creationdate': '2009-02-10T20:44:22+00:00', 'source': './data/referat_3/Victor Davis Hanson - Warfare and Agriculture in Classical Greece, Revised edition (Biblioteca Di Studi Antichi, 40) (1998).pdf'}, page_content='passage: Page 17 PART ONE THE ATTACK ON AGRICULTURE'),\n",
       " Document(metadata={'total_pages': 359, 'moddate': '2009-02-10T21:58:13+00:00', 'start_index': 0, 'title': 'cover', 'creationdate': '2009-02-10T20:44:22+00:00', 'source': './data/referat_3/Victor Davis Hanson - Warfare and Agriculture in Classical Greece, Revised edition (Biblioteca Di Studi Antichi, 40) (1998).pdf', 'page_label': '93', 'page': 92, 'producer': 'Acrobat Web Capture 8.0', 'creator': 'Adobe Acrobat 8.1 Combine Files'}, page_content='passage: Page 77 PART TWO THE DEFENSE OF AGRICULTURE'),\n",
       " Document(metadata={'total_pages': 359, 'creator': 'Adobe Acrobat 8.1 Combine Files', 'start_index': 2014, 'page_label': '28', 'producer': 'Acrobat Web Capture 8.0', 'page': 27, 'moddate': '2009-02-10T21:58:13+00:00', 'creationdate': '2009-02-10T20:44:22+00:00', 'source': './data/referat_3/Victor Davis Hanson - Warfare and Agriculture in Classical Greece, Revised edition (Biblioteca Di Studi Antichi, 40) (1998).pdf', 'title': 'cover'}, page_content=\"passage: warfare seems quite widespread in small-scale societies. . . . Such an understanding sets indirectly a limit on the scale of destruction possible from warfare. For example, an implicit safeguard on growing crops may explain why little care may often be taken to protect fields but, on the other hand, the concern that may be taken over the protection of granaries.'' < previous page page_11 next page > file:///C|/Documents%20and%20Settings/Nidia%20Sant...s/NUNO-BOOKS/scanear/0520215966/files/page_11.html [10-02-2009 20:40:06]\"),\n",
       " Document(metadata={'moddate': '2009-02-10T21:58:13+00:00', 'source': './data/referat_3/Victor Davis Hanson - Warfare and Agriculture in Classical Greece, Revised edition (Biblioteca Di Studi Antichi, 40) (1998).pdf', 'creationdate': '2009-02-10T20:44:22+00:00', 'total_pages': 359, 'start_index': 0, 'page': 0, 'creator': 'Adobe Acrobat 8.1 Combine Files', 'title': 'cover', 'producer': 'Acrobat Web Capture 8.0', 'page_label': '1'}, page_content='passage: cover cover next page > title : Warfare and Agriculture in Classical Greece author : Hanson, Victor Davis. publisher : University of California Press isbn10 | asin : 0520215966 print isbn13 : 9780520215962 ebook isbn13 : 9780585154855 language : English subject Agriculture--Defense measures--Greece--History, War damage, Industrial--Greece--History, Attike (Greece)-- History, Greece--History--Peloponnesian War, 431-404 B.C. publication date : 1998 lcc : UA929.95.A35H27 1998eb ddc : 338.1/4 subject : Agriculture--Defense measures--Greece--History, War damage, Industrial--Greece--History, Attike (Greece)-- History, Greece--History--Peloponnesian War, 431-404 B.C. cover next page > file:///C|/Documents%20and%20Settings/Nidia%20Santo...ntos/NUNO-BOOKS/scanear/0520215966/files/cover.html [10-02-2009 20:40:00]'),\n",
       " Document(metadata={'source': './data/referat_3/Victor Davis Hanson - Warfare and Agriculture in Classical Greece, Revised edition (Biblioteca Di Studi Antichi, 40) (1998).pdf', 'page_label': '216', 'producer': 'Acrobat Web Capture 8.0', 'creationdate': '2009-02-10T20:44:22+00:00', 'start_index': 0, 'moddate': '2009-02-10T21:58:13+00:00', 'page': 215, 'total_pages': 359, 'title': 'cover', 'creator': 'Adobe Acrobat 8.1 Combine Files'}, page_content='passage: Page 202 ever, having greater access to food supplies from Canada, Australia, and the United States, was able to feed a large domestic population and field an army far more effectively than Germany, which became increasingly isolated and ultimately lost the war of nutritional attrition. More germanely, the idea that warfare permanently destroys the agrarian infrastructure of the invaded is challenged by R. Ergang in The Myth of the All-Destructive Fury of the Thirty Years War (Pocono Pines, Penn., 1956) and by W. Abel in Geschichte der deutschen Landwirtschaft vom frühen Mittelalter bis zum 19. Jahrhundert (Stuttgart, 1967) (cf. Abel\\'s Agricultural Fluctuations in Europe from the Thirteenth to the Twentieth Centuries [New York, 1980]). In the context of classical societies, L. Foxhall (\\'\\'Farming and Fighting in Ancient Greece,\" in War and Society in the Greek World, ed. J. Rich and G. Shipley [London, 1993], 134145) rightly argues that more attention must be given to warfare and agriculture and the interplay between the two. She states, however, that in recent work I, among others, have divorced the study of war from agriculture: \"But paradoxically, in the most recent writing on both agriculture (Sallares 1991; Gallant 1991) and warfare (Hanson 1989 [ed.], 1991), the two subjects have become divorced and have gone off in separate directions. This is a pity, since men in ancient Greece probably spent more time fighting and farming than in any other activities\" (p. 134). I find this statement troubling, since one of the initial chapters in the volume Foxhall refers to, the 1989 edition of The Western Way of War, is entitled \"The Hoplite and His Phalanx: War in an Agricultural Society,\" and the entire book sought to recapture the hoplite battle experience from the unique viewpoint of the ancient agrarian citizen. Page 5. The Protocols of Hoplite Warfare. A number of graphic accounts of hoplite fighting have appeared that follow the train of events from the initial invasion and ravaging of crops'),\n",
       " Document(metadata={'creationdate': '2009-02-10T20:44:22+00:00', 'title': 'cover', 'page': 13, 'start_index': 0, 'creator': 'Adobe Acrobat 8.1 Combine Files', 'source': './data/referat_3/Victor Davis Hanson - Warfare and Agriculture in Classical Greece, Revised edition (Biblioteca Di Studi Antichi, 40) (1998).pdf', 'total_pages': 359, 'page_label': '14', 'producer': 'Acrobat Web Capture 8.0', 'moddate': '2009-02-10T21:58:13+00:00'}, page_content='passage: page_xiv < previous page page_xiv next page > Page xiv of homestead and nucleated farms lived in and worked by middling hoplite farmers, the physical difficulty of covering ancient farmland, the effectiveness of cavalry sorties against ravagers, the ingenuity of evacuation measures, the failure of field walls to protect agriculture, and the haphazard record of rural fortifications serving as absolute lines of defenseseem corroborated by the later and often more thorough investigations by others. In a subsequent, much longer book, The Other Greeks: The Agrarian Roots of Western Civilization, which had its genesis in the present study, I systematically explored the relationship between ancient Greek farming and fighting beyond the actual battle practice of destroying vines, trees, and cereals. If the two main arguments of The Other Greeks are correctthat an agrarian renaissance explains the rise of the Greek city-state, and that an ongoing agrarianism accounts for the peculiar military, economic, and political institutions of the polis between 700 and 400 B.C.then I see no reason to reexamine those issues here. I have many scholars to thank for the appearance of this revised edition. Article-length reviews of Warfare and Agriculture by Paul Harvey (\"New Harvests Reappear: The Impact of War on Agriculture,\" Athenaeum 74 [1986]: 205218) and Josiah Ober (Helios 12.2 [1985]: 91101) taught me a great deal, and many of their points are now incorporated in the additions and revisions of the present edition. At the time of his review Paul Harvey also sent me an extensive list of errata that thirteen years later have proved invaluable. David Whitehead wrote a sympathetic analysis of the book in Classical Review (Fall 1985), which in many ways gave me the confidence to try to return to academic life after a hiatus in farming of many years. I have never met Professor Whitehead, but I owe him a debt of gratitude. Readers for the University of California Press, David Tandy and Colin Duncan, sent along candid reports that contained a great deal of wise advice. The idea for an updated and improved edition of Warfare and Agriculture for a wider'),\n",
       " Document(metadata={'page': 12, 'title': 'cover', 'page_label': '13', 'creationdate': '2009-02-10T20:44:22+00:00', 'creator': 'Adobe Acrobat 8.1 Combine Files', 'start_index': 0, 'moddate': '2009-02-10T21:58:13+00:00', 'source': './data/referat_3/Victor Davis Hanson - Warfare and Agriculture in Classical Greece, Revised edition (Biblioteca Di Studi Antichi, 40) (1998).pdf', 'total_pages': 359, 'producer': 'Acrobat Web Capture 8.0'}, page_content='passage: page_xiii < previous page page_xiii next page > Page xiii result of taxation, changing military practice, and the erosion of the agrarian councils that had once set an agricultural, military, and political agenda that favored the middling hoplite. It is true, of course, that as the hoplite ideal waned in the fifth and fourth centuries B.C., warfare increasingly shifted to other areasrural skirmishing, urban fighting, sieges, ambushes, raids, and plundering expeditions. With professional and lighter-armed troops, attacks on agriculture may have increased and may have been more prolonged as ravaging became more consciously a method of economic aggression, rather than a catalyst for shock battle between agrarian heavy infantry. Still, the nature of olive trees and vines did not change; it remained an immutable fact that their permanent and widespread destruction was difficult in any age of hand-held tools, when armies were not large, logistics were unreliable, and transportation difficult. The inherent problems in destroying agrarian infrastructure were universal challenges of time, space, and technology, and not merely tied to the quasi-ritualistic nature of hoplite battle of the classical age, when the majority of the combatants were heavily armed farmers, more eager to solve their disputes decisively on the battlefield than to raid and skirmish amid the croplands of their adversaries. The flurry of publication on ancient farming and fighting in the late 1980s and the 1990ssome of it pertaining to Hellenistic and Roman eventshas, I think, corroborated rather than rejected these pointsso much so that the original thesis of Warfare and Agriculture may now appear more commonplace than novel. Again, what catastrophes that did occur in the ancient countryside during wartimeand there were manywere the result of displaced populations, labor power losses, sieges, the unsettled conditions caused by brigandry and robber gangs, plagues, the desertion of slaves and hired hands, the loss of livestock and equipment, and the more enervating property'),\n",
       " Document(metadata={'creationdate': '2009-02-10T20:44:22+00:00', 'producer': 'Acrobat Web Capture 8.0', 'source': './data/referat_3/Victor Davis Hanson - Warfare and Agriculture in Classical Greece, Revised edition (Biblioteca Di Studi Antichi, 40) (1998).pdf', 'start_index': 0, 'page': 10, 'page_label': '11', 'total_pages': 359, 'creator': 'Adobe Acrobat 8.1 Combine Files', 'title': 'cover', 'moddate': '2009-02-10T21:58:13+00:00'}, page_content='passage: page_xi < previous page page_xi next page > Page xi the study of Greek warfare was turning from its traditional emphasis on strategy, tactics, logistics, and recruitment to include comprehensive study of economy and social policy. The work of Y. Garlan (Guerre et économie en Gréce ancienne [Paris, 1989]), P. Ducrey (Warfare in Ancient Greece [New York, 1989]), and J. Rich and G. Shipley (editors of War and Society in the Greek World [London, 1993]) ensured that we saw hoplites as citizens of the polisfor so long mostly farmers who represented the property-owning infantry classand not merely anonymous warriors of the phalanx. Warfare and agriculture have become fertile areas of contemporary research in ancient Greek history, topics at the heart of the discovery of the true nature of the Greek polis. Consequently, reissue of an updated, accessible, and corrected edition of Warfare and Agriculture perhaps makes even more sense now than its original publication did sixteen years ago. In the present book, I have made some changes from the edition of 1983corrections of misprints and errors of fact; clarification of arguments; reformation of the entire text; relegation of some material to an appendix; reduction in the amount of quoted Greek and avoidance altogether of Greek scriptall in the interest of providing wider accessibility to readers outside the world of classical scholarship. In a few places in the original text and in the updated commentary, I have also inserted the results of some more recent firsthand experience with crop devastation. In the years since I wrote my doctoral dissertation, I returned to farm trees and vines in central California and was sometimes curious whether orchard and vineyard destruction was as difficult as it had once seemed to me in our ancient sources. Thus on numerous occasions I took lengthy notes when it was time to uproot, dig out, burn, or cut down various fruit trees and vines on the farm in the hope of someday revising the first edition; at various places in the updated commentary of the present edition, I have drawn on those observations.')]"
      ]
     },
     "execution_count": 79,
     "metadata": {},
     "output_type": "execute_result"
    }
   ],
   "execution_count": 79
  },
  {
   "metadata": {
    "ExecuteTime": {
     "end_time": "2025-05-19T22:44:39.531361300Z",
     "start_time": "2025-05-19T10:41:57.170056Z"
    }
   },
   "cell_type": "code",
   "source": [
    "ref_topic = \"Война и сельское хозяйство в работах Виктора Хэнсена\"\n",
    "f'{ref_topic}'"
   ],
   "id": "48eafa83af65ec29",
   "outputs": [
    {
     "data": {
      "text/plain": [
       "'Война и сельское хозяйство в работах Виктора Хэнсена'"
      ]
     },
     "execution_count": 95,
     "metadata": {},
     "output_type": "execute_result"
    }
   ],
   "execution_count": 95
  },
  {
   "metadata": {
    "ExecuteTime": {
     "end_time": "2025-05-19T22:44:39.531361300Z",
     "start_time": "2025-05-19T10:42:05.625665Z"
    }
   },
   "cell_type": "code",
   "source": [
    "prompt_for_questions = f\"Привет! Мне нужно написать реферат на тему '{ref_topic}. Сгенерируй мне вопросы(11-12), на которые мне необходимо ответить, чтобы раскрыть тему и написать реферат на 5-6 страниц 14-ым шрифтом. Впоросы пиши просто как запрос, а не как вопрос. Предоставь ответ в виде словаря в питоне, где ключом является вопрос на русском, а значением этот же вопрос на английском.\"\n",
    "print(prompt_for_questions)"
   ],
   "id": "8e5f30468dbf9b90",
   "outputs": [
    {
     "name": "stdout",
     "output_type": "stream",
     "text": [
      "Привет! Мне нужно написать реферат на тему 'Война и сельское хозяйство в работах Виктора Хэнсена. Сгенерируй мне вопросы(11-12), на которые мне необходимо ответить, чтобы раскрыть тему и написать реферат на 5-6 страниц 14-ым шрифтом. Впоросы пиши просто как запрос, а не как вопрос. Предоставь ответ в виде словаря в питоне, где ключом является вопрос на русском, а значением этот же вопрос на английском.\n"
     ]
    }
   ],
   "execution_count": 96
  },
  {
   "metadata": {
    "ExecuteTime": {
     "end_time": "2025-05-19T22:44:39.531361300Z",
     "start_time": "2025-05-19T10:26:47.859384Z"
    }
   },
   "cell_type": "code",
   "source": [
    "referat_3_1 = {  \n",
    "    \"Анализ ключевых работ Виктора Хэнсена, посвященных взаимосвязи войны и сельского хозяйства\":  \n",
    "    \"Analysis of Victor Hanson's key works exploring the relationship between war and agriculture\",  \n",
    "\n",
    "    \"Роль сельского хозяйства в формировании военных стратегий древних обществ по Хэнсену\":  \n",
    "    \"The role of agriculture in shaping military strategies of ancient societies according to Hanson\",  \n",
    "\n",
    "    \"Влияние войны на развитие аграрных технологий и землепользования в исторической перспективе\":  \n",
    "    \"The impact of war on the development of agrarian technologies and land use in historical perspective\",  \n",
    "\n",
    "    \"Концепция 'гражданского солдата-фермера' в интерпретации Хэнсена\":  \n",
    "    \"The concept of the 'citizen-soldier-farmer' in Hanson's interpretation\",  \n",
    "\n",
    "    \"Примеры из античной истории, иллюстрирующие симбиоз военной и сельскохозяйственной систем\":  \n",
    "    \"Examples from ancient history illustrating the symbiosis of military and agricultural systems\",  \n",
    "\n",
    "    \"Критика теорий Хэнсена в современной историографии\":  \n",
    "    \"Criticism of Hanson's theories in modern historiography\",  \n",
    "\n",
    "    \"Сравнительный анализ аграрных основ войн в древнегреческой и римской цивилизациях\":  \n",
    "    \"Comparative analysis of agrarian foundations of wars in ancient Greek and Roman civilizations\",  \n",
    "\n",
    "    \"Эволюция взаимоотношений войны и сельского хозяйства в работах Хэнсена для разных исторических эпох\":  \n",
    "    \"Evolution of the relationship between war and agriculture in Hanson's works across historical eras\",  \n",
    "\n",
    "    \"Современное значение теорий Хэнсена для понимания глобальных продовольственных кризисов и конфликтов\":  \n",
    "    \"Modern relevance of Hanson's theories for understanding global food crises and conflicts\"  \n",
    "}  "
   ],
   "id": "3bf1e2372ec798da",
   "outputs": [],
   "execution_count": 82
  },
  {
   "metadata": {
    "ExecuteTime": {
     "end_time": "2025-05-19T22:44:39.531361300Z",
     "start_time": "2025-05-19T10:45:32.893785Z"
    }
   },
   "cell_type": "code",
   "source": [
    "referat_3_2 = {\n",
    "    \"Ключевые работы Виктора Хэнсена, исследующие взаимосвязь войны и сельского хозяйства\": \n",
    "    \"Victor Hanson's key works exploring the relationship between war and agriculture\",\n",
    "    \n",
    "    \"Роль сельского хозяйства в формировании военных стратегий древних обществ по Хэнсену\": \n",
    "    \"The role of agriculture in shaping military strategies of ancient societies in Hanson's view\",\n",
    "    \n",
    "    \"Концепция 'гражданин-солдат-фермер' в интерпретации Хэнсена\": \n",
    "    \"The concept of the 'citizen-soldier-farmer' in Hanson's interpretation\",\n",
    "    \n",
    "    \"Примеры из античной истории, иллюстрирующие симбиоз военных и аграрных систем\": \n",
    "    \"Examples from ancient history illustrating the symbiosis of military and agricultural systems\",\n",
    "    \n",
    "    \"Влияние войн на развитие аграрных технологий и использование земель\": \n",
    "    \"The impact of wars on the development of agrarian technologies and land use\",\n",
    "    \n",
    "    \"Критика теорий Хэнсена в современной историографии\": \n",
    "    \"Criticism of Hanson's theories in modern historiography\",\n",
    "    \n",
    "    \"Аграрные основы войн в древнегреческой и римской цивилизациях: сравнительный анализ\": \n",
    "    \"Agrarian foundations of wars in Greek and Roman civilizations: a comparative analysis\",\n",
    "    \n",
    "    \"Эволюция взаимосвязи войны и сельского хозяйства в работах Хэнсена\": \n",
    "    \"The evolution of war-agriculture relationship in Hanson's works\",\n",
    "    \n",
    "    \"Современная актуальность теорий Хэнсена для понимания глобальных продовольственных кризисов\": \n",
    "    \"Modern relevance of Hanson's theories for understanding global food crises\",\n",
    "    \n",
    "    \"Методология Хэнсена: источники и исследовательские подходы\": \n",
    "    \"Hanson's methodology: sources and research approaches\",\n",
    "    \n",
    "    \"Социально-экономические последствия войн для сельских общин в трактовке Хэнсена\": \n",
    "    \"Socio-economic consequences of wars for rural communities in Hanson's interpretation\",\n",
    "    \n",
    "    \"Вклад Хэнсена в изучение античной истории и военной стратегии\": \n",
    "    \"Hanson's contribution to the study of ancient history and military strategy\"\n",
    "}"
   ],
   "id": "5ad712e2110a634e",
   "outputs": [],
   "execution_count": 97
  },
  {
   "metadata": {
    "ExecuteTime": {
     "end_time": "2025-05-19T22:44:39.531361300Z",
     "start_time": "2025-05-19T10:45:34.078489Z"
    }
   },
   "cell_type": "code",
   "source": "start_prompt = f'Привет! Мне нужен реферат на тему \"{ref_topic}\". Далее будет список вопросов и ответов на них. Вопросы будут на русском и релевантные ответы на них.\\nОтветы содержат ещё и мета информацию, \"source\" - это источник ответа, \"page_label\" - номер странцы.\\nМне нужно, чтобы из данной информации ты собрала реферат на 5-6 страниц(14 шрифт в ворде)  на русском.\\n Пиши обычный реферат, не сухую выжимку, можешь немного лить воды. С введением, с переходами и указанием ссылок, не опускай мелкие факты.'",
   "id": "c8a42c9628246d0e",
   "outputs": [],
   "execution_count": 98
  },
  {
   "metadata": {
    "ExecuteTime": {
     "end_time": "2025-05-19T22:44:39.543068600Z",
     "start_time": "2025-05-19T10:45:34.542469Z"
    }
   },
   "cell_type": "code",
   "source": "start_prompt",
   "id": "da5fed1e131cb8da",
   "outputs": [
    {
     "data": {
      "text/plain": [
       "'Привет! Мне нужен реферат на тему \"Война и сельское хозяйство в работах Виктора Хэнсена\". Далее будет список вопросов и ответов на них. Вопросы будут на русском и релевантные ответы на них.\\nОтветы содержат ещё и мета информацию, \"source\" - это источник ответа, \"page_label\" - номер странцы.\\nМне нужно, чтобы из данной информации ты собрала реферат на 5-6 страниц(14 шрифт в ворде)  на русском.\\n ПИШИ ЧЕЛОВЕЧЕСКИЙ РЕФЕРАТ, не сухую выжимку, можешь немного лить воды. С введением, с переходами и указанием ссылок, не опускай мелкие факты.'"
      ]
     },
     "execution_count": 99,
     "metadata": {},
     "output_type": "execute_result"
    }
   ],
   "execution_count": 99
  },
  {
   "metadata": {
    "ExecuteTime": {
     "end_time": "2025-05-19T22:44:39.543068600Z",
     "start_time": "2025-05-19T10:45:38.852081Z"
    }
   },
   "cell_type": "code",
   "source": [
    "def generate_prompt(questions, vector_db, start_prompt, lang_flag = [\"rus\", \"en\"], bm25 = None, topK=2):\n",
    "    reformat_quest  = lambda query: f\"query: {query}\"\n",
    "    body_prompt = []\n",
    "    for rus_question, eng_question in questions.items():\n",
    "        if  \"en\" in lang_flag:\n",
    "            sub_body_prompt = f\"<Question>: {eng_question},\\n <answers>: \"\n",
    "        else:\n",
    "            sub_body_prompt = f\"<Question>: {rus_question},\\n <answers>: \"\n",
    "        final_request_prompt_rus = reformat_quest(rus_question)\n",
    "        final_request_prompt_en = reformat_quest(eng_question)\n",
    "        ans_cleaned = []\n",
    "        def retrive_by_lang(final_request_prompt):\n",
    "            for relevant_order, ans in enumerate(vector_db.similarity_search(final_request_prompt, k=topK)):\n",
    "                ans_cleaned.append(f\"<{relevant_order}>: {ans.page_content}.\\n <source>: {ans.metadata['source']}\\n<page_label>: {ans.metadata['page_label']}\\n-------------------------\")\n",
    "            if  bm25!= None:\n",
    "                tokenized_query = word_tokenize(final_request_prompt.lower())\n",
    "                doc_scores = bm25.get_scores(tokenized_query)\n",
    "                best_doc_index = doc_scores.argmax()\n",
    "                ans = all_chunks[best_doc_index]\n",
    "                ans_cleaned.append(f\"<{topK}>: {ans.page_content}.\\n <source>: {ans.metadata['source']}\\n<page_label>: {ans.metadata['page_label']}\\n-------------------------\")\n",
    "        if  \"rus\" in lang_flag:\n",
    "            retrive_by_lang(final_request_prompt_rus)\n",
    "        if \"en\" in lang_flag:\n",
    "             retrive_by_lang(final_request_prompt_en)\n",
    "        res = sub_body_prompt + '\\n' + '\\n'.join(ans_cleaned)\n",
    "        body_prompt.append(res)\n",
    "    final_prompt = start_prompt + '\\n\\n' + '\\n'.join(body_prompt)\n",
    "    return final_prompt"
   ],
   "id": "859a78c865f0a762",
   "outputs": [],
   "execution_count": 100
  },
  {
   "metadata": {
    "ExecuteTime": {
     "end_time": "2025-05-19T22:44:39.543068600Z",
     "start_time": "2025-05-19T10:45:41.518455Z"
    }
   },
   "cell_type": "code",
   "source": "print(generate_prompt(referat_3_2, vector_db, start_prompt,lang_flag = [\"en\"], bm25 = bm25, topK=2))",
   "id": "4eaaa9e256a30ce8",
   "outputs": [
    {
     "name": "stdout",
     "output_type": "stream",
     "text": [
      "Привет! Мне нужен реферат на тему \"Война и сельское хозяйство в работах Виктора Хэнсена\". Далее будет список вопросов и ответов на них. Вопросы будут на русском и релевантные ответы на них.\n",
      "Ответы содержат ещё и мета информацию, \"source\" - это источник ответа, \"page_label\" - номер странцы.\n",
      "Мне нужно, чтобы из данной информации ты собрала реферат на 5-6 страниц(14 шрифт в ворде)  на русском.\n",
      " ПИШИ ЧЕЛОВЕЧЕСКИЙ РЕФЕРАТ, не сухую выжимку, можешь немного лить воды. С введением, с переходами и указанием ссылок, не опускай мелкие факты.\n",
      "\n",
      "<Question>: Victor Hanson's key works exploring the relationship between war and agriculture,\n",
      " <answers>: \n",
      "<0>: passage: Page iii Warfare and Agriculture in Classical Greece Victor Davis Hanson UNIVERSITY OF CALIFORNIA PRESS Berkeley Los Angeles London.\n",
      " <source>: ./data/referat_3/Victor Davis Hanson - Warfare and Agriculture in Classical Greece, Revised edition (Biblioteca Di Studi Antichi, 40) (1998).pdf\n",
      "<page_label>: 4\n",
      "-------------------------\n",
      "<1>: passage: cover cover next page > title : Warfare and Agriculture in Classical Greece author : Hanson, Victor Davis. publisher : University of California Press isbn10 | asin : 0520215966 print isbn13 : 9780520215962 ebook isbn13 : 9780585154855 language : English subject Agriculture--Defense measures--Greece--History, War damage, Industrial--Greece--History, Attike (Greece)-- History, Greece--History--Peloponnesian War, 431-404 B.C. publication date : 1998 lcc : UA929.95.A35H27 1998eb ddc : 338.1/4 subject : Agriculture--Defense measures--Greece--History, War damage, Industrial--Greece--History, Attike (Greece)-- History, Greece--History--Peloponnesian War, 431-404 B.C. cover next page > file:///C|/Documents%20and%20Settings/Nidia%20Santo...ntos/NUNO-BOOKS/scanear/0520215966/files/cover.html [10-02-2009 20:40:00].\n",
      " <source>: ./data/referat_3/Victor Davis Hanson - Warfare and Agriculture in Classical Greece, Revised edition (Biblioteca Di Studi Antichi, 40) (1998).pdf\n",
      "<page_label>: 1\n",
      "-------------------------\n",
      "<2>: passage: Page iv University of California Press Berkeley and Los Angeles, California University of California Press, Ltd. London, England © 1998 by The Regents of the University of California Library of Congress Cataloging-in-Publication Data Hanson, Victor Davis. Warfare and agriculture in classical Greece / Victor Hanson Davis.[Rev. ed.] p. cm.(Biblioteca di studi antichi; 40) Includes bibliographical references (p. ) and index. ISBN 0-520-21025-5 (cloth : alk. paper). ISBN 0-520-21596-6 (pbk. : alk. paper) 1. AgricultureDefense measuresGreeceHistory. 2. War damage, IndustrialGreeceHistory. 3. Attike (Greece)History. 4. GreeceHistoryPeloponnesian War, 431-404 B.C. I. Title. II. Series. UA929.95.A35H27 1999 338.1'4dc2197-52207 CIP Printed in the United States of America 9 8 7 6 5 4 3 2 1 This book is printed on acid-free paper..\n",
      " <source>: ./data/referat_3/Victor Davis Hanson - Warfare and Agriculture in Classical Greece, Revised edition (Biblioteca Di Studi Antichi, 40) (1998).pdf\n",
      "<page_label>: 5\n",
      "-------------------------\n",
      "<Question>: The role of agriculture in shaping military strategies of ancient societies in Hanson's view,\n",
      " <answers>: \n",
      "<0>: passage: Page iii Warfare and Agriculture in Classical Greece Victor Davis Hanson UNIVERSITY OF CALIFORNIA PRESS Berkeley Los Angeles London.\n",
      " <source>: ./data/referat_3/Victor Davis Hanson - Warfare and Agriculture in Classical Greece, Revised edition (Biblioteca Di Studi Antichi, 40) (1998).pdf\n",
      "<page_label>: 4\n",
      "-------------------------\n",
      "<1>: passage: cover cover next page > title : Warfare and Agriculture in Classical Greece author : Hanson, Victor Davis. publisher : University of California Press isbn10 | asin : 0520215966 print isbn13 : 9780520215962 ebook isbn13 : 9780585154855 language : English subject Agriculture--Defense measures--Greece--History, War damage, Industrial--Greece--History, Attike (Greece)-- History, Greece--History--Peloponnesian War, 431-404 B.C. publication date : 1998 lcc : UA929.95.A35H27 1998eb ddc : 338.1/4 subject : Agriculture--Defense measures--Greece--History, War damage, Industrial--Greece--History, Attike (Greece)-- History, Greece--History--Peloponnesian War, 431-404 B.C. cover next page > file:///C|/Documents%20and%20Settings/Nidia%20Santo...ntos/NUNO-BOOKS/scanear/0520215966/files/cover.html [10-02-2009 20:40:00].\n",
      " <source>: ./data/referat_3/Victor Davis Hanson - Warfare and Agriculture in Classical Greece, Revised edition (Biblioteca Di Studi Antichi, 40) (1998).pdf\n",
      "<page_label>: 1\n",
      "-------------------------\n",
      "<2>: passage: Page 202 ever, having greater access to food supplies from Canada, Australia, and the United States, was able to feed a large domestic population and field an army far more effectively than Germany, which became increasingly isolated and ultimately lost the war of nutritional attrition. More germanely, the idea that warfare permanently destroys the agrarian infrastructure of the invaded is challenged by R. Ergang in The Myth of the All-Destructive Fury of the Thirty Years War (Pocono Pines, Penn., 1956) and by W. Abel in Geschichte der deutschen Landwirtschaft vom frühen Mittelalter bis zum 19. Jahrhundert (Stuttgart, 1967) (cf. Abel's Agricultural Fluctuations in Europe from the Thirteenth to the Twentieth Centuries [New York, 1980]). In the context of classical societies, L. Foxhall (''Farming and Fighting in Ancient Greece,\" in War and Society in the Greek World, ed. J. Rich and G. Shipley [London, 1993], 134145) rightly argues that more attention must be given to warfare and agriculture and the interplay between the two. She states, however, that in recent work I, among others, have divorced the study of war from agriculture: \"But paradoxically, in the most recent writing on both agriculture (Sallares 1991; Gallant 1991) and warfare (Hanson 1989 [ed.], 1991), the two subjects have become divorced and have gone off in separate directions. This is a pity, since men in ancient Greece probably spent more time fighting and farming than in any other activities\" (p. 134). I find this statement troubling, since one of the initial chapters in the volume Foxhall refers to, the 1989 edition of The Western Way of War, is entitled \"The Hoplite and His Phalanx: War in an Agricultural Society,\" and the entire book sought to recapture the hoplite battle experience from the unique viewpoint of the ancient agrarian citizen. Page 5. The Protocols of Hoplite Warfare. A number of graphic accounts of hoplite fighting have appeared that follow the train of events from the initial invasion and ravaging of crops.\n",
      " <source>: ./data/referat_3/Victor Davis Hanson - Warfare and Agriculture in Classical Greece, Revised edition (Biblioteca Di Studi Antichi, 40) (1998).pdf\n",
      "<page_label>: 216\n",
      "-------------------------\n",
      "<Question>: The concept of the 'citizen-soldier-farmer' in Hanson's interpretation,\n",
      " <answers>: \n",
      "<0>: passage: Page iii Warfare and Agriculture in Classical Greece Victor Davis Hanson UNIVERSITY OF CALIFORNIA PRESS Berkeley Los Angeles London.\n",
      " <source>: ./data/referat_3/Victor Davis Hanson - Warfare and Agriculture in Classical Greece, Revised edition (Biblioteca Di Studi Antichi, 40) (1998).pdf\n",
      "<page_label>: 4\n",
      "-------------------------\n",
      "<1>: passage: nonfarming population grew, some citizens might not prefer to risk their lives to fight in the open for the land of others, arguing that the community's greater interest now lay in differing responses to invasion. In addition, some more circumspect farmers < previous page page_207 next page > file:///C|/Documents%20and%20Settings/Nidia%20Sant.../NUNO-BOOKS/scanear/0520215966/files/page_207.html [10-02-2009 20:40:59].\n",
      " <source>: ./data/referat_3/Victor Davis Hanson - Warfare and Agriculture in Classical Greece, Revised edition (Biblioteca Di Studi Antichi, 40) (1998).pdf\n",
      "<page_label>: 221\n",
      "-------------------------\n",
      "<2>: passage: Page 201 UPDATED COMMENTARY AND BIBLIOGRAPHY Books and articles mentioned in the following bibliographic commentary appeared after Warfare and Agriculture was submitted for publication in 1981. Introduction Page 4. Warfare and Agriculture: General Considerations. Very few historical studies in any period have evaluated the complex relationship between farming and fighting. Two good examples of the dividends of such an approach are V. Magagna's Communities of Grain: Rural Rebellion in Comparative Perspective (Ithaca, N.Y., 1991), which demonstrates that agrarians fight not out of rigid class interests, but rather more often from a shared concern for the community's stability at large, and A. Offer's The First World War: An Agrarian Interpretation (Oxford, 1989), which brilliantly shows how agriculture affected the very outcome of the First World War. As Offer explains, both Germany and England resorted to imported foodstuffs to fulfill the ever- increasing demands of their populations' complex diet. England, how-.\n",
      " <source>: ./data/referat_3/Victor Davis Hanson - Warfare and Agriculture in Classical Greece, Revised edition (Biblioteca Di Studi Antichi, 40) (1998).pdf\n",
      "<page_label>: 215\n",
      "-------------------------\n",
      "<Question>: Examples from ancient history illustrating the symbiosis of military and agricultural systems,\n",
      " <answers>: \n",
      "<0>: passage: Page iii Warfare and Agriculture in Classical Greece Victor Davis Hanson UNIVERSITY OF CALIFORNIA PRESS Berkeley Los Angeles London.\n",
      " <source>: ./data/referat_3/Victor Davis Hanson - Warfare and Agriculture in Classical Greece, Revised edition (Biblioteca Di Studi Antichi, 40) (1998).pdf\n",
      "<page_label>: 4\n",
      "-------------------------\n",
      "<1>: passage: Page i Warfare and Agriculture in Classical Greece.\n",
      " <source>: ./data/referat_3/Victor Davis Hanson - Warfare and Agriculture in Classical Greece, Revised edition (Biblioteca Di Studi Antichi, 40) (1998).pdf\n",
      "<page_label>: 2\n",
      "-------------------------\n",
      "<2>: passage: Page 79 Three Fortification Field Walls Greek plans of defense in the classical period seldom incorporated either stockades built directly around cultivated fields or extensive frontier walls designed to stop invading armies from reaching the croplands of the interiors.1 Although it is true that in a few early instances walls were constructed at key border passes to prevent entry into friendly territory,2 the usual practice was to gather the country's population, valuables, and movable property into places of refuge (see chapter 4, \"Evacuation\"), and consequently either to prevent the enemy from ravaging the fields by pitched hoplite battle or to submit to terms and thereby save one's agricultural produce. The alternative was to stay fast inside 1. This is in contrast to some of the early walled systems of Egypt and the East. See Harmand 1973, 178. 2. The Phokian Wall at the pass of Thermopylai (Hdt. 7.176.45) and the fortifications at the Isthmus of Corinth during the Persian Wars and later (cf. Diod. 15.68.4; Hdt. 8.40.2, 8.71, 9.7; Lys. 2.4445; Paus. 7.6.7) are two examples. There was also an earlier Mycenean wall on the Isthmus. See O. Broneer, \"The Cyclopean Wall on the Isthmus of Corinth and Its Bearing on Late Bronze Age Chronology,\" Hesperia 35 (1966): 346362..\n",
      " <source>: ./data/referat_3/Victor Davis Hanson - Warfare and Agriculture in Classical Greece, Revised edition (Biblioteca Di Studi Antichi, 40) (1998).pdf\n",
      "<page_label>: 94\n",
      "-------------------------\n",
      "<Question>: The impact of wars on the development of agrarian technologies and land use,\n",
      " <answers>: \n",
      "<0>: passage: Page 201 UPDATED COMMENTARY AND BIBLIOGRAPHY Books and articles mentioned in the following bibliographic commentary appeared after Warfare and Agriculture was submitted for publication in 1981. Introduction Page 4. Warfare and Agriculture: General Considerations. Very few historical studies in any period have evaluated the complex relationship between farming and fighting. Two good examples of the dividends of such an approach are V. Magagna's Communities of Grain: Rural Rebellion in Comparative Perspective (Ithaca, N.Y., 1991), which demonstrates that agrarians fight not out of rigid class interests, but rather more often from a shared concern for the community's stability at large, and A. Offer's The First World War: An Agrarian Interpretation (Oxford, 1989), which brilliantly shows how agriculture affected the very outcome of the First World War. As Offer explains, both Germany and England resorted to imported foodstuffs to fulfill the ever- increasing demands of their populations' complex diet. England, how-.\n",
      " <source>: ./data/referat_3/Victor Davis Hanson - Warfare and Agriculture in Classical Greece, Revised edition (Biblioteca Di Studi Antichi, 40) (1998).pdf\n",
      "<page_label>: 215\n",
      "-------------------------\n",
      "<1>: passage: page_xiii < previous page page_xiii next page > Page xiii result of taxation, changing military practice, and the erosion of the agrarian councils that had once set an agricultural, military, and political agenda that favored the middling hoplite. It is true, of course, that as the hoplite ideal waned in the fifth and fourth centuries B.C., warfare increasingly shifted to other areasrural skirmishing, urban fighting, sieges, ambushes, raids, and plundering expeditions. With professional and lighter-armed troops, attacks on agriculture may have increased and may have been more prolonged as ravaging became more consciously a method of economic aggression, rather than a catalyst for shock battle between agrarian heavy infantry. Still, the nature of olive trees and vines did not change; it remained an immutable fact that their permanent and widespread destruction was difficult in any age of hand-held tools, when armies were not large, logistics were unreliable, and transportation difficult. The inherent problems in destroying agrarian infrastructure were universal challenges of time, space, and technology, and not merely tied to the quasi-ritualistic nature of hoplite battle of the classical age, when the majority of the combatants were heavily armed farmers, more eager to solve their disputes decisively on the battlefield than to raid and skirmish amid the croplands of their adversaries. The flurry of publication on ancient farming and fighting in the late 1980s and the 1990ssome of it pertaining to Hellenistic and Roman eventshas, I think, corroborated rather than rejected these pointsso much so that the original thesis of Warfare and Agriculture may now appear more commonplace than novel. Again, what catastrophes that did occur in the ancient countryside during wartimeand there were manywere the result of displaced populations, labor power losses, sieges, the unsettled conditions caused by brigandry and robber gangs, plagues, the desertion of slaves and hired hands, the loss of livestock and equipment, and the more enervating property.\n",
      " <source>: ./data/referat_3/Victor Davis Hanson - Warfare and Agriculture in Classical Greece, Revised edition (Biblioteca Di Studi Antichi, 40) (1998).pdf\n",
      "<page_label>: 13\n",
      "-------------------------\n",
      "<2>: passage: page_xiv < previous page page_xiv next page > Page xiv of homestead and nucleated farms lived in and worked by middling hoplite farmers, the physical difficulty of covering ancient farmland, the effectiveness of cavalry sorties against ravagers, the ingenuity of evacuation measures, the failure of field walls to protect agriculture, and the haphazard record of rural fortifications serving as absolute lines of defenseseem corroborated by the later and often more thorough investigations by others. In a subsequent, much longer book, The Other Greeks: The Agrarian Roots of Western Civilization, which had its genesis in the present study, I systematically explored the relationship between ancient Greek farming and fighting beyond the actual battle practice of destroying vines, trees, and cereals. If the two main arguments of The Other Greeks are correctthat an agrarian renaissance explains the rise of the Greek city-state, and that an ongoing agrarianism accounts for the peculiar military, economic, and political institutions of the polis between 700 and 400 B.C.then I see no reason to reexamine those issues here. I have many scholars to thank for the appearance of this revised edition. Article-length reviews of Warfare and Agriculture by Paul Harvey (\"New Harvests Reappear: The Impact of War on Agriculture,\" Athenaeum 74 [1986]: 205218) and Josiah Ober (Helios 12.2 [1985]: 91101) taught me a great deal, and many of their points are now incorporated in the additions and revisions of the present edition. At the time of his review Paul Harvey also sent me an extensive list of errata that thirteen years later have proved invaluable. David Whitehead wrote a sympathetic analysis of the book in Classical Review (Fall 1985), which in many ways gave me the confidence to try to return to academic life after a hiatus in farming of many years. I have never met Professor Whitehead, but I owe him a debt of gratitude. Readers for the University of California Press, David Tandy and Colin Duncan, sent along candid reports that contained a great deal of wise advice. The idea for an updated and improved edition of Warfare and Agriculture for a wider.\n",
      " <source>: ./data/referat_3/Victor Davis Hanson - Warfare and Agriculture in Classical Greece, Revised edition (Biblioteca Di Studi Antichi, 40) (1998).pdf\n",
      "<page_label>: 14\n",
      "-------------------------\n",
      "<Question>: Criticism of Hanson's theories in modern historiography,\n",
      " <answers>: \n",
      "<0>: passage: Page ii ALSO BY VICTOR DAVIS HANSON The Western Way of War: Infantry Battle in Classical Greece (1989) Hoplites: The Ancient Greek Battle Experience (editor, 1991) The Other Greeks: The Agrarian Roots of Western Civilization (1995) Fields Without Dreams: Defending the Agrarian Idea (1996) Who Killed Homer? The Decline of Classical Education and the Recovery of Greek Wisdom (with John Heath, 1998).\n",
      " <source>: ./data/referat_3/Victor Davis Hanson - Warfare and Agriculture in Classical Greece, Revised edition (Biblioteca Di Studi Antichi, 40) (1998).pdf\n",
      "<page_label>: 3\n",
      "-------------------------\n",
      "<1>: passage: farm in the hope of someday revising the first edition; at various places in the updated commentary of the present edition, I have drawn on those observations. The rather lengthy endnotes that make up the updated commentary and bibliography serve as a running critique of secondary work appearing < previous page page_xi next page > file:///C|/Documents%20and%20Settings/Nidia%20Santo...os/NUNO-BOOKS/scanear/0520215966/files/page_xi.html [10-02-2009 20:40:02].\n",
      " <source>: ./data/referat_3/Victor Davis Hanson - Warfare and Agriculture in Classical Greece, Revised edition (Biblioteca Di Studi Antichi, 40) (1998).pdf\n",
      "<page_label>: 11\n",
      "-------------------------\n",
      "<2>: passage: Page 206 not just military preference and utility, but social and cultural values of the polis itself. The argument concerning the middling hoplitewho is neither peasant nor aristocratis presented at length in V. D. Hanson, The Other Greeks: The Agrarian Roots of Western Civilization (New York, 1995), esp. 181289, and V. D. Hanson., \"Hoplites into Democrats: The Changing Ideology of Athenian Infantry,\" in Dêmokratia: A Conversation on Democracies, Ancient and Modern, ed. J. Ober and C. Hedrick (Princeton, 1996), 289312. It seems safe to state, as a very general rule, that the ubiquity of farmsteads, smaller and more equal-sized plots, and intensive rural installationsfarm buildings, presses, terraces, etc. suggest an independent yeomanry whose community had genuine autonomous councils in control of political and military policy and serving the interest of rural people. The opposite scenario of larger, consolidated holdings, rural depopulation, and nucleated settlement seems to characterize more a society of wealthy landholders and peasants, conditions of high taxation, extensive military expenditure, and political autocracy, which serves the very few politically well-connected. Thus it is understandable that ravaging in warfare between neighboring poleis was an entirely different enterprise than campaigns of attrition waged far from home by Hellenistic dynasts and Roman grandees. Page 13. Ravaging and the Historiography of the Greek State. I know of no comprehensive study of either Greek or Roman crop devastation during wartime published after 1983. Passing references in standard textbooks and introductory studies that have appeared since 1983 still sometimes tend to exaggerate the effects of such destruction: \"Ravaging, so casually reported again and again by the historians, was a major disaster for those who endured it\" (The World of Athens: An Introduction to Classical Athenian Culture, Joint Association of Classical Teachers' Greek Course Background Book [Cambridge, 1984], 247248);.\n",
      " <source>: ./data/referat_3/Victor Davis Hanson - Warfare and Agriculture in Classical Greece, Revised edition (Biblioteca Di Studi Antichi, 40) (1998).pdf\n",
      "<page_label>: 220\n",
      "-------------------------\n",
      "<Question>: Agrarian foundations of wars in Greek and Roman civilizations: a comparative analysis,\n",
      " <answers>: \n",
      "<0>: passage: Page i Warfare and Agriculture in Classical Greece.\n",
      " <source>: ./data/referat_3/Victor Davis Hanson - Warfare and Agriculture in Classical Greece, Revised edition (Biblioteca Di Studi Antichi, 40) (1998).pdf\n",
      "<page_label>: 2\n",
      "-------------------------\n",
      "<1>: passage: Page xvii PREFACE TO THE FIRST EDITION This study is virtually unchanged from the Ph.D. thesis I submitted to the Stanford Classics Department in June 1980. I have had some practical experience in agriculture from farming grapes and fruit trees on a family farm near Fresno, California. Professor Michael Jameson, my thesis advisor at Stanford, suggested I combine that knowledge together with my professional interest in Greek military history to study the strategy of crop devastation in classical Greece. My thanks go to him and to Professor Emilio Gabba who both made publication of this volume possible. Stanford University provided a generous fellowship that enabled me to study at the American School of Classical Studies, Athens, for the year 19781979 and once again helped with a timely publication grant from the Dougherty Fund of the Classics Department. Professors Mark Edwards and Ned Spofford of Stanford, Colin Edmondson, Eugene Vanderpool, and Charles Williams of the American School, John Lynch of Santa Cruz, and Leslie Threatte of Berkeley all offered their encouragement and help. My greatest thanks go to my colleague at Stanford, Dr. Lawrence Woodlock, and to my wife, Cara. Their critical insight and good sense greatly improved the manuscript. I have tried to transliterate both personal and place-names directly from the Greek (e.g., Archidamos, Boiotia, Dekeleia); somewhat hap-.\n",
      " <source>: ./data/referat_3/Victor Davis Hanson - Warfare and Agriculture in Classical Greece, Revised edition (Biblioteca Di Studi Antichi, 40) (1998).pdf\n",
      "<page_label>: 16\n",
      "-------------------------\n",
      "<2>: passage: page_247 < previous page page_247 next page > Page 247 sands of rural folk in the Greek countryside, we should imagine that gradually from the fourth to second century B.C., an exploited peasantry began to become more typical, in place of what had once been a viable agrarianism of hoplite yeomen who themselves controlled the political and military agendas of their communitiesoften in a strikingly anti- aristocratic mode. Susan Alcock's Graecia Capta: The Landscapes of Roman Greece (Cambridge, 1993) provides a summary of most recent field surveys of the Greek countryside. Alcock warns that the considerable literary evidence for a depopulated countryside in the late Hellenistic and Roman erasDio Chrysostom, Plutarch, Pausanias, Strabois rhetorical and overly simplistic. But archaeological survey and her own data more or less confirm what the ancients believed: land by postclassical times was owned by elites, people were moving to town, and farming followed extensive rather than intensive practices. Cf. S. Bommeljé and J. Vroom, \"Deserted and Untilled Lands: Aetolia in Roman Times,\" Pharos 3 (1995): 67130. Yet Alcock sees little evidence that warfare in the countryside was responsible per se for the general trend toward rural depopulation, nucleation of settlement, or consolidation of holdings in Hellenistic and Roman Greece (pp. 8990, 149150). What damage did follow from war was more likely the result of constant mobilization, sieges, and the inability of farmers to work in peace, rather than of losses to ravagersand even that damage was subsidiary to larger political and financial evolutions. Both Gallant and Alcock remind us that such historical processes are often gradual and less dramatic than might be imagined, and not the result of climatic changes or losses in war: the real culprit in rural depression was usually insidious patterns of exploitation, characterized by forced tithes, taxation, and military contributions. E. M. Wood's Peasant-Citizen and Slave: The Foundations of Athenian Democracy (London, 1988), 5761, 122125, has a good discussion of the deleterious effects of Roman military practice on rural citizensin.\n",
      " <source>: ./data/referat_3/Victor Davis Hanson - Warfare and Agriculture in Classical Greece, Revised edition (Biblioteca Di Studi Antichi, 40) (1998).pdf\n",
      "<page_label>: 261\n",
      "-------------------------\n",
      "<Question>: The evolution of war-agriculture relationship in Hanson's works,\n",
      " <answers>: \n",
      "<0>: passage: Page iii Warfare and Agriculture in Classical Greece Victor Davis Hanson UNIVERSITY OF CALIFORNIA PRESS Berkeley Los Angeles London.\n",
      " <source>: ./data/referat_3/Victor Davis Hanson - Warfare and Agriculture in Classical Greece, Revised edition (Biblioteca Di Studi Antichi, 40) (1998).pdf\n",
      "<page_label>: 4\n",
      "-------------------------\n",
      "<1>: passage: cover cover next page > title : Warfare and Agriculture in Classical Greece author : Hanson, Victor Davis. publisher : University of California Press isbn10 | asin : 0520215966 print isbn13 : 9780520215962 ebook isbn13 : 9780585154855 language : English subject Agriculture--Defense measures--Greece--History, War damage, Industrial--Greece--History, Attike (Greece)-- History, Greece--History--Peloponnesian War, 431-404 B.C. publication date : 1998 lcc : UA929.95.A35H27 1998eb ddc : 338.1/4 subject : Agriculture--Defense measures--Greece--History, War damage, Industrial--Greece--History, Attike (Greece)-- History, Greece--History--Peloponnesian War, 431-404 B.C. cover next page > file:///C|/Documents%20and%20Settings/Nidia%20Santo...ntos/NUNO-BOOKS/scanear/0520215966/files/cover.html [10-02-2009 20:40:00].\n",
      " <source>: ./data/referat_3/Victor Davis Hanson - Warfare and Agriculture in Classical Greece, Revised edition (Biblioteca Di Studi Antichi, 40) (1998).pdf\n",
      "<page_label>: 1\n",
      "-------------------------\n",
      "<2>: passage: page_203 < previous page page_203 next page > Page 203 to the final capitulation, exchange of the dead, and erection of the victory trophy. These investigations emphasize how military rituals reinforced the particular values of the combatants, which at least before the fifth century B.C. in Greece were almost exclusively agrariancrop devastation, then, like battle sacrifice and trophies, was integral to the hoplite battle occasion. See, for example, the chapter \"The Hoplite and His Phalanx: War in an Agricultural Society,\" in V. D. Hanson, The Western Way of War: Infantry Battle in Classical Greece (New York, 1989), 2739; W. R. Connor, \"Early Greek Warfare as Symbolic Expression,\" Past and Present 119 (1988): 329; John Lazenby, ''The Killing Zone,\" in Hoplites: The Ancient Greek Battle Experience, ed. V. D. Hanson (London, 1991), 87109; and Stephen Mitchell, \"Hoplite Warfare in Ancient Greece,'' in Battle in Antiquity, ed. A. B. Lloyd (London, 1996), 87106. Josiah Ober has presented a formal review of the understood agreements of hoplite battle in \"The Rules of War in Classical Greece,\" now republished in The Athenian Revolution: Essays on Ancient Greek Democracy and Political Theory (Princeton, 1996), 5371. For the notion of the quasi-ritualistic manner of Greek warfare and its relationship to Western military dynamism, see now D. Dawson, The Origins of Western Warfare: Militarism and Morality in the Ancient World (Boulder, 1996), 4778. There is a characteristically careful philological account of each stage of hoplite fighting in W. K. Pritchett, \"The Pitched Battle,\" in The Greek State at War, pt. 4 (Berkeley, 1985), 193. A number of passages in Greek literature attest to the close relationship between infantry fighting and farming and emphasize the idea that originally soldiers were agrarians (e.g., Hom. Il. 18.6869; Tyrt. 19.16; Thuc. 1.141.5; [Arist.] Oec. 1.1343b57; Xen. Oec. 5.5, 7, 14). Thus Warfare and Agriculture argues that crop devastation continued even when it did not result in catastrophic losses, because it was an especially effective catalystsometimes the only catalystfor pitched battle between opposing agrarian armies..\n",
      " <source>: ./data/referat_3/Victor Davis Hanson - Warfare and Agriculture in Classical Greece, Revised edition (Biblioteca Di Studi Antichi, 40) (1998).pdf\n",
      "<page_label>: 217\n",
      "-------------------------\n",
      "<Question>: Modern relevance of Hanson's theories for understanding global food crises,\n",
      " <answers>: \n",
      "<0>: passage: disaster but arose from overproduction and a general collapse of world grain prices, coupled with a radical shift from an inflationary to a deflationary economy in the United States, leaving farmers with low commodity prices, plunging land values, and large outstanding loans taken out under prior high interest. < previous page page_178 next page > file:///C|/Documents%20and%20Settings/Nidia%20Sant.../NUNO-BOOKS/scanear/0520215966/files/page_178.html [10-02-2009 20:40:51].\n",
      " <source>: ./data/referat_3/Victor Davis Hanson - Warfare and Agriculture in Classical Greece, Revised edition (Biblioteca Di Studi Antichi, 40) (1998).pdf\n",
      "<page_label>: 192\n",
      "-------------------------\n",
      "<1>: passage: Page iii Warfare and Agriculture in Classical Greece Victor Davis Hanson UNIVERSITY OF CALIFORNIA PRESS Berkeley Los Angeles London.\n",
      " <source>: ./data/referat_3/Victor Davis Hanson - Warfare and Agriculture in Classical Greece, Revised edition (Biblioteca Di Studi Antichi, 40) (1998).pdf\n",
      "<page_label>: 4\n",
      "-------------------------\n",
      "<2>: passage: Page 213 coinciding with ripeness at harvestand thus difficult to achieve on any broad scale. Chapter 2. The Methods of Agricultural Devastation Page 43. Size of Farms. There is now a vast secondary literature that draws on epigraphic, archaeological, and literary evidence in corroborating the idea of small, equitable farm size in classical Greece. See the synopses of research in two important articles by M. Jameson: ''Agricultural Labor in Ancient Greece,\" in Agriculture in Ancient Greece, ed. B. Wells, Proceedings of the Seventh International Symposium at the Swedish Institute at Athens, 1617 May 1990 (Stockholm, 1992), 135146; \"Class in the Ancient Greek Countryside,\" in Structures rurales et sociétés antiques, ed. P. Doukellis and L. Mendoni (Paris, 1994), 5563. See also T. Boyd and M. Jameson, \"Urban and Rural Land Division in Ancient Greece,\" Hesperia 50.4 (1980): 327342. A comprehensive discussion of the secondary literature through the early 1990sboth for and against the idea of middling farmsand a review of the ancient evidence for moderate holdings are found in V. D. Hanson, The Other Greeks: The Agrarian Roots of Western Civilization (New York, 1995), 181200. The topic is of great relevance to the entire question of agricultural devastation in classical Greece, since the hoplite was fighting to defend or attack land that was widely and privately held, often lived on, owned outright with clear rights of land tenure and inheritance, nearly inalienable, and in many poleis serving as the prerequisite for citizenship itself. Thus the attack on a yeoman citizen's farm might have graver psychological, spiritual, and political consequences for the community at large than would have attacks on latifundia of the imperial absentee grandee, which were worked and lived on mostly by serfs, bailiffs, and slaves..\n",
      " <source>: ./data/referat_3/Victor Davis Hanson - Warfare and Agriculture in Classical Greece, Revised edition (Biblioteca Di Studi Antichi, 40) (1998).pdf\n",
      "<page_label>: 227\n",
      "-------------------------\n",
      "<Question>: Hanson's methodology: sources and research approaches,\n",
      " <answers>: \n",
      "<0>: passage: Page ii ALSO BY VICTOR DAVIS HANSON The Western Way of War: Infantry Battle in Classical Greece (1989) Hoplites: The Ancient Greek Battle Experience (editor, 1991) The Other Greeks: The Agrarian Roots of Western Civilization (1995) Fields Without Dreams: Defending the Agrarian Idea (1996) Who Killed Homer? The Decline of Classical Education and the Recovery of Greek Wisdom (with John Heath, 1998).\n",
      " <source>: ./data/referat_3/Victor Davis Hanson - Warfare and Agriculture in Classical Greece, Revised edition (Biblioteca Di Studi Antichi, 40) (1998).pdf\n",
      "<page_label>: 3\n",
      "-------------------------\n",
      "<1>: passage: Page iii Warfare and Agriculture in Classical Greece Victor Davis Hanson UNIVERSITY OF CALIFORNIA PRESS Berkeley Los Angeles London.\n",
      " <source>: ./data/referat_3/Victor Davis Hanson - Warfare and Agriculture in Classical Greece, Revised edition (Biblioteca Di Studi Antichi, 40) (1998).pdf\n",
      "<page_label>: 4\n",
      "-------------------------\n",
      "<2>: passage: Page 213 coinciding with ripeness at harvestand thus difficult to achieve on any broad scale. Chapter 2. The Methods of Agricultural Devastation Page 43. Size of Farms. There is now a vast secondary literature that draws on epigraphic, archaeological, and literary evidence in corroborating the idea of small, equitable farm size in classical Greece. See the synopses of research in two important articles by M. Jameson: ''Agricultural Labor in Ancient Greece,\" in Agriculture in Ancient Greece, ed. B. Wells, Proceedings of the Seventh International Symposium at the Swedish Institute at Athens, 1617 May 1990 (Stockholm, 1992), 135146; \"Class in the Ancient Greek Countryside,\" in Structures rurales et sociétés antiques, ed. P. Doukellis and L. Mendoni (Paris, 1994), 5563. See also T. Boyd and M. Jameson, \"Urban and Rural Land Division in Ancient Greece,\" Hesperia 50.4 (1980): 327342. A comprehensive discussion of the secondary literature through the early 1990sboth for and against the idea of middling farmsand a review of the ancient evidence for moderate holdings are found in V. D. Hanson, The Other Greeks: The Agrarian Roots of Western Civilization (New York, 1995), 181200. The topic is of great relevance to the entire question of agricultural devastation in classical Greece, since the hoplite was fighting to defend or attack land that was widely and privately held, often lived on, owned outright with clear rights of land tenure and inheritance, nearly inalienable, and in many poleis serving as the prerequisite for citizenship itself. Thus the attack on a yeoman citizen's farm might have graver psychological, spiritual, and political consequences for the community at large than would have attacks on latifundia of the imperial absentee grandee, which were worked and lived on mostly by serfs, bailiffs, and slaves..\n",
      " <source>: ./data/referat_3/Victor Davis Hanson - Warfare and Agriculture in Classical Greece, Revised edition (Biblioteca Di Studi Antichi, 40) (1998).pdf\n",
      "<page_label>: 227\n",
      "-------------------------\n",
      "<Question>: Socio-economic consequences of wars for rural communities in Hanson's interpretation,\n",
      " <answers>: \n",
      "<0>: passage: Page 16 apply to other military theaters and histories of the Mediterranean as well; (4) rural impoverishment and depopulation during periods of war were more often insidious processesthe results of infrastructure and labor power losses, taxation, and general periods of banditry and unrestthan the immediate consequence of invading armies that destroyed trees, vines, and cereals; (5) because most of the population of Greece was rural and engaged in agriculture, and because the Greeks saw warfare as the decisive experience of the citizenry, any analysis of farming and fighting of the city-state is nothing less than a valuable reflection of the culture at large..\n",
      " <source>: ./data/referat_3/Victor Davis Hanson - Warfare and Agriculture in Classical Greece, Revised edition (Biblioteca Di Studi Antichi, 40) (1998).pdf\n",
      "<page_label>: 33\n",
      "-------------------------\n",
      "<1>: passage: Page iii Warfare and Agriculture in Classical Greece Victor Davis Hanson UNIVERSITY OF CALIFORNIA PRESS Berkeley Los Angeles London.\n",
      " <source>: ./data/referat_3/Victor Davis Hanson - Warfare and Agriculture in Classical Greece, Revised edition (Biblioteca Di Studi Antichi, 40) (1998).pdf\n",
      "<page_label>: 4\n",
      "-------------------------\n",
      "<2>: passage: Page 201 UPDATED COMMENTARY AND BIBLIOGRAPHY Books and articles mentioned in the following bibliographic commentary appeared after Warfare and Agriculture was submitted for publication in 1981. Introduction Page 4. Warfare and Agriculture: General Considerations. Very few historical studies in any period have evaluated the complex relationship between farming and fighting. Two good examples of the dividends of such an approach are V. Magagna's Communities of Grain: Rural Rebellion in Comparative Perspective (Ithaca, N.Y., 1991), which demonstrates that agrarians fight not out of rigid class interests, but rather more often from a shared concern for the community's stability at large, and A. Offer's The First World War: An Agrarian Interpretation (Oxford, 1989), which brilliantly shows how agriculture affected the very outcome of the First World War. As Offer explains, both Germany and England resorted to imported foodstuffs to fulfill the ever- increasing demands of their populations' complex diet. England, how-.\n",
      " <source>: ./data/referat_3/Victor Davis Hanson - Warfare and Agriculture in Classical Greece, Revised edition (Biblioteca Di Studi Antichi, 40) (1998).pdf\n",
      "<page_label>: 215\n",
      "-------------------------\n",
      "<Question>: Hanson's contribution to the study of ancient history and military strategy,\n",
      " <answers>: \n",
      "<0>: passage: Page iii Warfare and Agriculture in Classical Greece Victor Davis Hanson UNIVERSITY OF CALIFORNIA PRESS Berkeley Los Angeles London.\n",
      " <source>: ./data/referat_3/Victor Davis Hanson - Warfare and Agriculture in Classical Greece, Revised edition (Biblioteca Di Studi Antichi, 40) (1998).pdf\n",
      "<page_label>: 4\n",
      "-------------------------\n",
      "<1>: passage: Page ii ALSO BY VICTOR DAVIS HANSON The Western Way of War: Infantry Battle in Classical Greece (1989) Hoplites: The Ancient Greek Battle Experience (editor, 1991) The Other Greeks: The Agrarian Roots of Western Civilization (1995) Fields Without Dreams: Defending the Agrarian Idea (1996) Who Killed Homer? The Decline of Classical Education and the Recovery of Greek Wisdom (with John Heath, 1998).\n",
      " <source>: ./data/referat_3/Victor Davis Hanson - Warfare and Agriculture in Classical Greece, Revised edition (Biblioteca Di Studi Antichi, 40) (1998).pdf\n",
      "<page_label>: 3\n",
      "-------------------------\n",
      "<2>: passage: Page xvii PREFACE TO THE FIRST EDITION This study is virtually unchanged from the Ph.D. thesis I submitted to the Stanford Classics Department in June 1980. I have had some practical experience in agriculture from farming grapes and fruit trees on a family farm near Fresno, California. Professor Michael Jameson, my thesis advisor at Stanford, suggested I combine that knowledge together with my professional interest in Greek military history to study the strategy of crop devastation in classical Greece. My thanks go to him and to Professor Emilio Gabba who both made publication of this volume possible. Stanford University provided a generous fellowship that enabled me to study at the American School of Classical Studies, Athens, for the year 19781979 and once again helped with a timely publication grant from the Dougherty Fund of the Classics Department. Professors Mark Edwards and Ned Spofford of Stanford, Colin Edmondson, Eugene Vanderpool, and Charles Williams of the American School, John Lynch of Santa Cruz, and Leslie Threatte of Berkeley all offered their encouragement and help. My greatest thanks go to my colleague at Stanford, Dr. Lawrence Woodlock, and to my wife, Cara. Their critical insight and good sense greatly improved the manuscript. I have tried to transliterate both personal and place-names directly from the Greek (e.g., Archidamos, Boiotia, Dekeleia); somewhat hap-.\n",
      " <source>: ./data/referat_3/Victor Davis Hanson - Warfare and Agriculture in Classical Greece, Revised edition (Biblioteca Di Studi Antichi, 40) (1998).pdf\n",
      "<page_label>: 16\n",
      "-------------------------\n"
     ]
    }
   ],
   "execution_count": 101
  },
  {
   "metadata": {
    "ExecuteTime": {
     "end_time": "2025-05-19T22:44:39.543068600Z",
     "start_time": "2025-05-07T12:48:07.637459Z"
    }
   },
   "cell_type": "code",
   "source": "",
   "id": "1b31703a3ce7bc9b",
   "outputs": [],
   "execution_count": null
  }
 ],
 "metadata": {
  "kernelspec": {
   "display_name": "Python 3 (ipykernel)",
   "language": "python",
   "name": "python3"
  },
  "language_info": {
   "codemirror_mode": {
    "name": "ipython",
    "version": 2
   },
   "file_extension": ".py",
   "mimetype": "text/x-python",
   "name": "python",
   "nbconvert_exporter": "python",
   "pygments_lexer": "ipython2",
   "version": "2.7.6"
  }
 },
 "nbformat": 4,
 "nbformat_minor": 5
}
