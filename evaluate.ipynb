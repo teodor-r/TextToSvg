{
 "cells": [
  {
   "cell_type": "code",
   "id": "initial_id",
   "metadata": {
    "collapsed": true,
    "ExecuteTime": {
     "end_time": "2025-05-19T17:41:10.537721Z",
     "start_time": "2025-05-19T17:41:10.417260Z"
    }
   },
   "source": [
    "import clip\n",
    "import torch\n",
    "from fontTools.svgLib import SVGPath\n",
    "from sympy.printing.latex import tex_greek_dictionary\n",
    "\n",
    "from AScore.simple_inference import AScorePredictor\n",
    "from kaggle_evaluation.svg_constraints import SVGConstraints\n",
    "from sympy.physics.units import temperature\n",
    "from transformers import AutoModelForCausalLM, AutoTokenizer, TrainingArguments\n",
    "import torch\n",
    "print(clip.__file__)\n",
    "import numpy as np\n",
    "import pandas as pd\n",
    "from multiprocessing import Pool, cpu_count\n",
    "from multiproc_converter_to_png import convert_svgs_to_pngs_parallel, load_images_parallel\n",
    "import cairosvg\n",
    "from IPython.display import display\n",
    "from AScore import simple_inference as asp\n",
    "from tqdm.notebook import tqdm\n",
    "from  kaggle_evaluation import svg_constraints\n",
    "import seaborn as sns\n",
    "from datasets import Dataset\n",
    "import torch\n",
    "from transformers import AutoModelForCausalLM, AutoTokenizer, TrainingArguments, Trainer\n",
    "from torch.utils.data import DataLoader\n",
    "import matplotlib.pyplot as plt\n",
    "import os\n",
    "cur_path = os.getcwd()"
   ],
   "outputs": [
    {
     "name": "stdout",
     "output_type": "stream",
     "text": [
      "/home/student/kuzin/python_project/TextToSvg_MLCUP/.venv/lib/python3.10/site-packages/clip/__init__.py\n"
     ]
    }
   ],
   "execution_count": 25
  },
  {
   "metadata": {
    "ExecuteTime": {
     "end_time": "2025-05-19T17:41:10.555322Z",
     "start_time": "2025-05-19T17:41:10.553148Z"
    }
   },
   "cell_type": "code",
   "source": "path_to_train_data = \"./AScore/train_data/ava_y_openclip_l14.npy\"",
   "id": "7cdb2a5830ecbec5",
   "outputs": [],
   "execution_count": 26
  },
  {
   "metadata": {
    "ExecuteTime": {
     "end_time": "2025-05-19T17:41:10.582538Z",
     "start_time": "2025-05-19T17:41:10.579410Z"
    }
   },
   "cell_type": "code",
   "source": "y = np.load (path_to_train_data)",
   "id": "6937c537775e64f8",
   "outputs": [],
   "execution_count": 27
  },
  {
   "metadata": {},
   "cell_type": "markdown",
   "source": "### Статистика оценок визуальной эстетичност, на которой обучали AScore predictor",
   "id": "988e19a6a01a5c95"
  },
  {
   "metadata": {
    "ExecuteTime": {
     "end_time": "2025-05-19T17:41:11.049466Z",
     "start_time": "2025-05-19T17:41:10.633934Z"
    }
   },
   "cell_type": "code",
   "source": [
    "df = pd.DataFrame(y)\n",
    "sns.histplot(df)\n",
    "df.quantile(0.95), df.describe()"
   ],
   "id": "72df7209243bc2e3",
   "outputs": [
    {
     "data": {
      "text/plain": [
       "(0    6.574586\n",
       " Name: 0.95, dtype: float64,\n",
       "                    0\n",
       " count  255490.000000\n",
       " mean        5.383315\n",
       " std         0.731305\n",
       " min         1.808989\n",
       " 25%         4.911222\n",
       " 50%         5.386667\n",
       " 75%         5.865672\n",
       " max         8.600000)"
      ]
     },
     "execution_count": 28,
     "metadata": {},
     "output_type": "execute_result"
    },
    {
     "data": {
      "text/plain": [
       "<Figure size 640x480 with 1 Axes>"
      ],
      "image/png": "[encoded data removed]"
     },
     "metadata": {},
     "output_type": "display_data"
    }
   ],
   "execution_count": 28
  },
  {
   "metadata": {
    "ExecuteTime": {
     "end_time": "2025-05-19T17:41:11.703325Z",
     "start_time": "2025-05-19T17:41:11.071292Z"
    }
   },
   "cell_type": "code",
   "source": [
    "import kagglehub\n",
    "\n",
    "# Download latest version\n",
    "path = kagglehub.dataset_download(\"harrabiraouf/scored-svg-11k\")\n",
    "\n",
    "print(\"Path to dataset files:\", path)\n",
    "eval_dataset = pd.read_csv(os.path.join(path, \"svg_dataset_scored_11k.csv\"))"
   ],
   "id": "8d1121e21962513",
   "outputs": [
    {
     "name": "stdout",
     "output_type": "stream",
     "text": [
      "Path to dataset files: /home/student/.cache/kagglehub/datasets/harrabiraouf/scored-svg-11k/versions/1\n"
     ]
    }
   ],
   "execution_count": 29
  },
  {
   "metadata": {
    "ExecuteTime": {
     "end_time": "2025-05-19T17:41:11.735610Z",
     "start_time": "2025-05-19T17:41:11.730216Z"
    }
   },
   "cell_type": "code",
   "source": "eval_dataset.head(5)",
   "id": "65188a599d28250f",
   "outputs": [
    {
     "data": {
      "text/plain": [
       "                                            sentence  best_image_score  \\\n",
       "0  An indigo hexagon bloom glistens with morning ...            0.9801   \n",
       "1  Sharp mountain silhouettes stand amidst a grad...            0.9849   \n",
       "2  A tree composed of interlocking hexagons stand...            0.9965   \n",
       "3  Lavender desert stretching endlessly under moo...            0.9975   \n",
       "4  A gradient amber, peach, and cobalt sky over e...            0.9997   \n",
       "\n",
       "                                            svg_code  \n",
       "0  <svg xmlns=\"http://www.w3.org/2000/svg\" clip-r...  \n",
       "1  <svg xmlns=\"http://www.w3.org/2000/svg\" clip-r...  \n",
       "2  <svg xmlns=\"http://www.w3.org/2000/svg\" clip-r...  \n",
       "3  <svg xmlns=\"http://www.w3.org/2000/svg\" clip-r...  \n",
       "4  <svg xmlns=\"http://www.w3.org/2000/svg\" clip-r...  "
      ],
      "text/html": [
       "<div>\n",
       "<style scoped>\n",
       "    .dataframe tbody tr th:only-of-type {\n",
       "        vertical-align: middle;\n",
       "    }\n",
       "\n",
       "    .dataframe tbody tr th {\n",
       "        vertical-align: top;\n",
       "    }\n",
       "\n",
       "    .dataframe thead th {\n",
       "        text-align: right;\n",
       "    }\n",
       "</style>\n",
       "<table border=\"1\" class=\"dataframe\">\n",
       "  <thead>\n",
       "    <tr style=\"text-align: right;\">\n",
       "      <th></th>\n",
       "      <th>sentence</th>\n",
       "      <th>best_image_score</th>\n",
       "      <th>svg_code</th>\n",
       "    </tr>\n",
       "  </thead>\n",
       "  <tbody>\n",
       "    <tr>\n",
       "      <th>0</th>\n",
       "      <td>An indigo hexagon bloom glistens with morning ...</td>\n",
       "      <td>0.9801</td>\n",
       "      <td>&lt;svg xmlns=\"http://www.w3.org/2000/svg\" clip-r...</td>\n",
       "    </tr>\n",
       "    <tr>\n",
       "      <th>1</th>\n",
       "      <td>Sharp mountain silhouettes stand amidst a grad...</td>\n",
       "      <td>0.9849</td>\n",
       "      <td>&lt;svg xmlns=\"http://www.w3.org/2000/svg\" clip-r...</td>\n",
       "    </tr>\n",
       "    <tr>\n",
       "      <th>2</th>\n",
       "      <td>A tree composed of interlocking hexagons stand...</td>\n",
       "      <td>0.9965</td>\n",
       "      <td>&lt;svg xmlns=\"http://www.w3.org/2000/svg\" clip-r...</td>\n",
       "    </tr>\n",
       "    <tr>\n",
       "      <th>3</th>\n",
       "      <td>Lavender desert stretching endlessly under moo...</td>\n",
       "      <td>0.9975</td>\n",
       "      <td>&lt;svg xmlns=\"http://www.w3.org/2000/svg\" clip-r...</td>\n",
       "    </tr>\n",
       "    <tr>\n",
       "      <th>4</th>\n",
       "      <td>A gradient amber, peach, and cobalt sky over e...</td>\n",
       "      <td>0.9997</td>\n",
       "      <td>&lt;svg xmlns=\"http://www.w3.org/2000/svg\" clip-r...</td>\n",
       "    </tr>\n",
       "  </tbody>\n",
       "</table>\n",
       "</div>"
      ]
     },
     "execution_count": 30,
     "metadata": {},
     "output_type": "execute_result"
    }
   ],
   "execution_count": 30
  },
  {
   "metadata": {
    "ExecuteTime": {
     "end_time": "2025-05-19T17:41:11.818031Z",
     "start_time": "2025-05-19T17:41:11.814962Z"
    }
   },
   "cell_type": "code",
   "source": "eval_dataset.index, eval_dataset.index.nunique()",
   "id": "e46f3ce43204785e",
   "outputs": [
    {
     "data": {
      "text/plain": [
       "(RangeIndex(start=0, stop=11188, step=1), 11188)"
      ]
     },
     "execution_count": 31,
     "metadata": {},
     "output_type": "execute_result"
    }
   ],
   "execution_count": 31
  },
  {
   "metadata": {},
   "cell_type": "markdown",
   "source": "#### Filter eval_dataset",
   "id": "9c7afea9a8772246"
  },
  {
   "metadata": {
    "ExecuteTime": {
     "end_time": "2025-05-19T17:41:11.881956Z",
     "start_time": "2025-05-19T17:41:11.875333Z"
    }
   },
   "cell_type": "code",
   "source": [
    "print(len(eval_dataset))\n",
    "eval_dataset = eval_dataset.dropna().reset_index(drop=True)\n",
    "print(len(eval_dataset))\n",
    "eval_dataset.index, eval_dataset.index.nunique()"
   ],
   "id": "41c3388931277276",
   "outputs": [
    {
     "name": "stdout",
     "output_type": "stream",
     "text": [
      "11188\n",
      "11170\n"
     ]
    },
    {
     "data": {
      "text/plain": [
       "(RangeIndex(start=0, stop=11170, step=1), 11170)"
      ]
     },
     "execution_count": 32,
     "metadata": {},
     "output_type": "execute_result"
    }
   ],
   "execution_count": 32
  },
  {
   "metadata": {
    "ExecuteTime": {
     "end_time": "2025-05-19T17:41:12.003301Z",
     "start_time": "2025-05-19T17:41:11.999046Z"
    }
   },
   "cell_type": "code",
   "source": [
    "def is_renderable_svg(row, output_path=\"temp_output.png\"):\n",
    "    try:\n",
    "        cairosvg.svg2png(bytestring=row['svg_code'].encode('utf-8'), write_to=output_path)\n",
    "        return True\n",
    "    except Exception as e:\n",
    "        print(\"Ошибка рендеринга SVG:\", e)\n",
    "        return False"
   ],
   "id": "31f84e960b28a3a3",
   "outputs": [],
   "execution_count": 33
  },
  {
   "metadata": {},
   "cell_type": "markdown",
   "source": [
    "eval_dataset[\"is_valid\"] = eval_dataset.apply(is_renderable_svg,axis =1)\n",
    "valid_eval_dataset = eval_dataset[eval_dataset[\"is_valid\"] == True]"
   ],
   "id": "e8740f4c8f03423a"
  },
  {
   "metadata": {
    "ExecuteTime": {
     "end_time": "2025-05-19T17:41:12.091075Z",
     "start_time": "2025-05-19T17:41:12.087518Z"
    }
   },
   "cell_type": "code",
   "source": [
    "num_processes = cpu_count()\n",
    "output_folder = \"./data/eval_models_png\"\n",
    "print(num_processes)\n",
    "list(map(lambda index: os.path.join(output_folder, f\"{index}.png\"), [1,2,3] ))"
   ],
   "id": "e466f64d232fe0e3",
   "outputs": [
    {
     "name": "stdout",
     "output_type": "stream",
     "text": [
      "32\n"
     ]
    },
    {
     "data": {
      "text/plain": [
       "['./data/eval_models_png/1.png',\n",
       " './data/eval_models_png/2.png',\n",
       " './data/eval_models_png/3.png']"
      ]
     },
     "execution_count": 34,
     "metadata": {},
     "output_type": "execute_result"
    }
   ],
   "execution_count": 34
  },
  {
   "metadata": {},
   "cell_type": "markdown",
   "source": "#### Конвертируем в PNG и запишем в память все SVG из датасета",
   "id": "dbb1448b1b5e9abb"
  },
  {
   "metadata": {
    "ExecuteTime": {
     "end_time": "2025-05-19T17:51:26.796130Z",
     "start_time": "2025-05-19T17:41:12.157505Z"
    }
   },
   "cell_type": "code",
   "source": [
    "for_path_columns = []\n",
    "for i in tqdm(range(0, len(eval_dataset), num_processes), \n",
    "              total=len(range(0, len(eval_dataset), num_processes)), \n",
    "              desc=\"Processing batches\"):\n",
    "    start_i = i\n",
    "    end_i = i+ num_processes\n",
    "    batch = eval_dataset[\"svg_code\"][start_i:end_i].to_dict()\n",
    "    for_path_columns+=  list(map(lambda index: os.path.join(output_folder, f\"{index}.png\"),np.arange(start_i,end_i) ))\n",
    "    res = convert_svgs_to_pngs_parallel(batch,output_folder,num_processes)\n",
    "    print(sum(list(res.values())))\n",
    "    assert sum(list(res.values())) == len(batch)"
   ],
   "id": "73ac96916b60a7fa",
   "outputs": [
    {
     "data": {
      "text/plain": [
       "Processing batches:   0%|          | 0/350 [00:00<?, ?it/s]"
      ],
      "application/vnd.jupyter.widget-view+json": {
       "version_major": 2,
       "version_minor": 0,
       "model_id": "e7a64ef9ab7341ed90f7ca6a01676498"
      }
     },
     "metadata": {},
     "output_type": "display_data"
    },
    {
     "name": "stdout",
     "output_type": "stream",
     "text": [
      "Запуск обработки на 32 процессах...\n",
      "32\n",
      "Запуск обработки на 32 процессах...\n",
      "32\n",
      "Запуск обработки на 32 процессах...\n",
      "32\n",
      "Запуск обработки на 32 процессах...\n",
      "32\n",
      "Запуск обработки на 32 процессах...\n",
      "32\n",
      "Запуск обработки на 32 процессах...\n",
      "32\n",
      "Запуск обработки на 32 процессах...\n",
      "32\n",
      "Запуск обработки на 32 процессах...\n",
      "32\n",
      "Запуск обработки на 32 процессах...\n",
      "32\n",
      "Запуск обработки на 32 процессах...\n",
      "32\n",
      "Запуск обработки на 32 процессах...\n",
      "32\n",
      "Запуск обработки на 32 процессах...\n",
      "32\n",
      "Запуск обработки на 32 процессах...\n",
      "32\n",
      "Запуск обработки на 32 процессах...\n",
      "32\n",
      "Запуск обработки на 32 процессах...\n",
      "32\n",
      "Запуск обработки на 32 процессах...\n",
      "32\n",
      "Запуск обработки на 32 процессах...\n",
      "32\n",
      "Запуск обработки на 32 процессах...\n",
      "32\n",
      "Запуск обработки на 32 процессах...\n",
      "32\n",
      "Запуск обработки на 32 процессах...\n",
      "32\n",
      "Запуск обработки на 32 процессах...\n",
      "32\n",
      "Запуск обработки на 32 процессах...\n",
      "32\n",
      "Запуск обработки на 32 процессах...\n",
      "32\n",
      "Запуск обработки на 32 процессах...\n",
      "32\n",
      "Запуск обработки на 32 процессах...\n",
      "32\n",
      "Запуск обработки на 32 процессах...\n",
      "32\n",
      "Запуск обработки на 32 процессах...\n",
      "32\n",
      "Запуск обработки на 32 процессах...\n",
      "32\n",
      "Запуск обработки на 32 процессах...\n",
      "32\n",
      "Запуск обработки на 32 процессах...\n",
      "32\n",
      "Запуск обработки на 32 процессах...\n",
      "32\n",
      "Запуск обработки на 32 процессах...\n",
      "32\n",
      "Запуск обработки на 32 процессах...\n",
      "32\n",
      "Запуск обработки на 32 процессах...\n",
      "32\n",
      "Запуск обработки на 32 процессах...\n",
      "32\n",
      "Запуск обработки на 32 процессах...\n",
      "32\n",
      "Запуск обработки на 32 процессах...\n",
      "32\n",
      "Запуск обработки на 32 процессах...\n",
      "32\n",
      "Запуск обработки на 32 процессах...\n",
      "32\n",
      "Запуск обработки на 32 процессах...\n",
      "32\n",
      "Запуск обработки на 32 процессах...\n",
      "32\n",
      "Запуск обработки на 32 процессах...\n",
      "32\n",
      "Запуск обработки на 32 процессах...\n",
      "32\n",
      "Запуск обработки на 32 процессах...\n",
      "32\n",
      "Запуск обработки на 32 процессах...\n",
      "32\n",
      "Запуск обработки на 32 процессах...\n",
      "32\n",
      "Запуск обработки на 32 процессах...\n",
      "32\n",
      "Запуск обработки на 32 процессах...\n",
      "32\n",
      "Запуск обработки на 32 процессах...\n",
      "32\n",
      "Запуск обработки на 32 процессах...\n",
      "32\n",
      "Запуск обработки на 32 процессах...\n",
      "32\n",
      "Запуск обработки на 32 процессах...\n",
      "32\n",
      "Запуск обработки на 32 процессах...\n",
      "32\n",
      "Запуск обработки на 32 процессах...\n",
      "32\n",
      "Запуск обработки на 32 процессах...\n",
      "32\n",
      "Запуск обработки на 32 процессах...\n",
      "32\n",
      "Запуск обработки на 32 процессах...\n",
      "32\n",
      "Запуск обработки на 32 процессах...\n",
      "32\n",
      "Запуск обработки на 32 процессах...\n",
      "32\n",
      "Запуск обработки на 32 процессах...\n",
      "32\n",
      "Запуск обработки на 32 процессах...\n",
      "32\n",
      "Запуск обработки на 32 процессах...\n",
      "32\n",
      "Запуск обработки на 32 процессах...\n",
      "32\n",
      "Запуск обработки на 32 процессах...\n",
      "32\n",
      "Запуск обработки на 32 процессах...\n",
      "32\n",
      "Запуск обработки на 32 процессах...\n",
      "32\n",
      "Запуск обработки на 32 процессах...\n",
      "32\n",
      "Запуск обработки на 32 процессах...\n",
      "32\n",
      "Запуск обработки на 32 процессах...\n",
      "32\n",
      "Запуск обработки на 32 процессах...\n",
      "32\n",
      "Запуск обработки на 32 процессах...\n",
      "32\n",
      "Запуск обработки на 32 процессах...\n",
      "32\n",
      "Запуск обработки на 32 процессах...\n",
      "32\n",
      "Запуск обработки на 32 процессах...\n",
      "32\n",
      "Запуск обработки на 32 процессах...\n",
      "32\n",
      "Запуск обработки на 32 процессах...\n",
      "32\n",
      "Запуск обработки на 32 процессах...\n",
      "32\n",
      "Запуск обработки на 32 процессах...\n",
      "32\n",
      "Запуск обработки на 32 процессах...\n",
      "32\n",
      "Запуск обработки на 32 процессах...\n",
      "32\n",
      "Запуск обработки на 32 процессах...\n",
      "32\n",
      "Запуск обработки на 32 процессах...\n",
      "32\n",
      "Запуск обработки на 32 процессах...\n",
      "32\n",
      "Запуск обработки на 32 процессах...\n",
      "32\n",
      "Запуск обработки на 32 процессах...\n",
      "32\n",
      "Запуск обработки на 32 процессах...\n",
      "32\n",
      "Запуск обработки на 32 процессах...\n",
      "32\n",
      "Запуск обработки на 32 процессах...\n",
      "32\n",
      "Запуск обработки на 32 процессах...\n",
      "32\n",
      "Запуск обработки на 32 процессах...\n",
      "32\n",
      "Запуск обработки на 32 процессах...\n",
      "32\n",
      "Запуск обработки на 32 процессах...\n",
      "32\n",
      "Запуск обработки на 32 процессах...\n",
      "32\n",
      "Запуск обработки на 32 процессах...\n",
      "32\n",
      "Запуск обработки на 32 процессах...\n",
      "32\n",
      "Запуск обработки на 32 процессах...\n",
      "32\n",
      "Запуск обработки на 32 процессах...\n",
      "32\n",
      "Запуск обработки на 32 процессах...\n",
      "32\n",
      "Запуск обработки на 32 процессах...\n",
      "32\n",
      "Запуск обработки на 32 процессах...\n",
      "32\n",
      "Запуск обработки на 32 процессах...\n",
      "32\n",
      "Запуск обработки на 32 процессах...\n",
      "32\n",
      "Запуск обработки на 32 процессах...\n",
      "32\n",
      "Запуск обработки на 32 процессах...\n",
      "32\n",
      "Запуск обработки на 32 процессах...\n",
      "32\n",
      "Запуск обработки на 32 процессах...\n",
      "32\n",
      "Запуск обработки на 32 процессах...\n",
      "32\n",
      "Запуск обработки на 32 процессах...\n",
      "32\n",
      "Запуск обработки на 32 процессах...\n",
      "32\n",
      "Запуск обработки на 32 процессах...\n",
      "32\n",
      "Запуск обработки на 32 процессах...\n",
      "32\n",
      "Запуск обработки на 32 процессах...\n",
      "32\n",
      "Запуск обработки на 32 процессах...\n",
      "32\n",
      "Запуск обработки на 32 процессах...\n",
      "32\n",
      "Запуск обработки на 32 процессах...\n",
      "32\n",
      "Запуск обработки на 32 процессах...\n",
      "32\n",
      "Запуск обработки на 32 процессах...\n",
      "32\n",
      "Запуск обработки на 32 процессах...\n",
      "32\n",
      "Запуск обработки на 32 процессах...\n",
      "32\n",
      "Запуск обработки на 32 процессах...\n",
      "32\n",
      "Запуск обработки на 32 процессах...\n",
      "32\n",
      "Запуск обработки на 32 процессах...\n",
      "32\n",
      "Запуск обработки на 32 процессах...\n",
      "32\n",
      "Запуск обработки на 32 процессах...\n",
      "32\n",
      "Запуск обработки на 32 процессах...\n",
      "32\n",
      "Запуск обработки на 32 процессах...\n",
      "32\n",
      "Запуск обработки на 32 процессах...\n",
      "32\n",
      "Запуск обработки на 32 процессах...\n",
      "32\n",
      "Запуск обработки на 32 процессах...\n",
      "32\n",
      "Запуск обработки на 32 процессах...\n",
      "32\n",
      "Запуск обработки на 32 процессах...\n",
      "32\n",
      "Запуск обработки на 32 процессах...\n",
      "32\n",
      "Запуск обработки на 32 процессах...\n",
      "32\n",
      "Запуск обработки на 32 процессах...\n",
      "32\n",
      "Запуск обработки на 32 процессах...\n",
      "32\n",
      "Запуск обработки на 32 процессах...\n",
      "32\n",
      "Запуск обработки на 32 процессах...\n",
      "32\n",
      "Запуск обработки на 32 процессах...\n",
      "32\n",
      "Запуск обработки на 32 процессах...\n",
      "32\n",
      "Запуск обработки на 32 процессах...\n",
      "32\n",
      "Запуск обработки на 32 процессах...\n",
      "32\n",
      "Запуск обработки на 32 процессах...\n",
      "32\n",
      "Запуск обработки на 32 процессах...\n",
      "32\n",
      "Запуск обработки на 32 процессах...\n",
      "32\n",
      "Запуск обработки на 32 процессах...\n",
      "32\n",
      "Запуск обработки на 32 процессах...\n",
      "32\n",
      "Запуск обработки на 32 процессах...\n",
      "32\n",
      "Запуск обработки на 32 процессах...\n",
      "32\n",
      "Запуск обработки на 32 процессах...\n",
      "32\n",
      "Запуск обработки на 32 процессах...\n",
      "32\n",
      "Запуск обработки на 32 процессах...\n",
      "32\n",
      "Запуск обработки на 32 процессах...\n",
      "32\n",
      "Запуск обработки на 32 процессах...\n",
      "32\n",
      "Запуск обработки на 32 процессах...\n",
      "32\n",
      "Запуск обработки на 32 процессах...\n",
      "32\n",
      "Запуск обработки на 32 процессах...\n",
      "32\n",
      "Запуск обработки на 32 процессах...\n",
      "32\n",
      "Запуск обработки на 32 процессах...\n",
      "32\n",
      "Запуск обработки на 32 процессах...\n",
      "32\n",
      "Запуск обработки на 32 процессах...\n",
      "32\n",
      "Запуск обработки на 32 процессах...\n",
      "32\n",
      "Запуск обработки на 32 процессах...\n",
      "32\n",
      "Запуск обработки на 32 процессах...\n",
      "32\n",
      "Запуск обработки на 32 процессах...\n",
      "32\n",
      "Запуск обработки на 32 процессах...\n",
      "32\n",
      "Запуск обработки на 32 процессах...\n",
      "32\n",
      "Запуск обработки на 32 процессах...\n",
      "32\n",
      "Запуск обработки на 32 процессах...\n",
      "32\n",
      "Запуск обработки на 32 процессах...\n",
      "32\n",
      "Запуск обработки на 32 процессах...\n",
      "32\n",
      "Запуск обработки на 32 процессах...\n",
      "32\n",
      "Запуск обработки на 32 процессах...\n",
      "32\n",
      "Запуск обработки на 32 процессах...\n",
      "32\n",
      "Запуск обработки на 32 процессах...\n",
      "32\n",
      "Запуск обработки на 32 процессах...\n",
      "32\n",
      "Запуск обработки на 32 процессах...\n",
      "32\n",
      "Запуск обработки на 32 процессах...\n",
      "32\n",
      "Запуск обработки на 32 процессах...\n",
      "32\n",
      "Запуск обработки на 32 процессах...\n",
      "32\n",
      "Запуск обработки на 32 процессах...\n",
      "32\n",
      "Запуск обработки на 32 процессах...\n",
      "32\n",
      "Запуск обработки на 32 процессах...\n",
      "32\n",
      "Запуск обработки на 32 процессах...\n",
      "32\n",
      "Запуск обработки на 32 процессах...\n",
      "32\n",
      "Запуск обработки на 32 процессах...\n",
      "32\n",
      "Запуск обработки на 32 процессах...\n",
      "32\n",
      "Запуск обработки на 32 процессах...\n",
      "32\n",
      "Запуск обработки на 32 процессах...\n",
      "32\n",
      "Запуск обработки на 32 процессах...\n",
      "32\n",
      "Запуск обработки на 32 процессах...\n",
      "32\n",
      "Запуск обработки на 32 процессах...\n",
      "32\n",
      "Запуск обработки на 32 процессах...\n",
      "32\n",
      "Запуск обработки на 32 процессах...\n",
      "32\n",
      "Запуск обработки на 32 процессах...\n",
      "32\n",
      "Запуск обработки на 32 процессах...\n",
      "32\n",
      "Запуск обработки на 32 процессах...\n",
      "32\n",
      "Запуск обработки на 32 процессах...\n",
      "32\n",
      "Запуск обработки на 32 процессах...\n",
      "32\n",
      "Запуск обработки на 32 процессах...\n",
      "32\n",
      "Запуск обработки на 32 процессах...\n",
      "32\n",
      "Запуск обработки на 32 процессах...\n",
      "32\n",
      "Запуск обработки на 32 процессах...\n",
      "32\n",
      "Запуск обработки на 32 процессах...\n",
      "32\n",
      "Запуск обработки на 32 процессах...\n",
      "32\n",
      "Запуск обработки на 32 процессах...\n",
      "32\n",
      "Запуск обработки на 32 процессах...\n",
      "32\n",
      "Запуск обработки на 32 процессах...\n",
      "32\n",
      "Запуск обработки на 32 процессах...\n",
      "32\n",
      "Запуск обработки на 32 процессах...\n",
      "32\n",
      "Запуск обработки на 32 процессах...\n",
      "32\n",
      "Запуск обработки на 32 процессах...\n",
      "32\n",
      "Запуск обработки на 32 процессах...\n",
      "32\n",
      "Запуск обработки на 32 процессах...\n",
      "32\n",
      "Запуск обработки на 32 процессах...\n",
      "32\n",
      "Запуск обработки на 32 процессах...\n",
      "32\n",
      "Запуск обработки на 32 процессах...\n",
      "32\n",
      "Запуск обработки на 32 процессах...\n",
      "32\n",
      "Запуск обработки на 32 процессах...\n",
      "32\n",
      "Запуск обработки на 32 процессах...\n",
      "32\n",
      "Запуск обработки на 32 процессах...\n",
      "32\n",
      "Запуск обработки на 32 процессах...\n",
      "32\n",
      "Запуск обработки на 32 процессах...\n",
      "32\n",
      "Запуск обработки на 32 процессах...\n",
      "32\n",
      "Запуск обработки на 32 процессах...\n",
      "32\n",
      "Запуск обработки на 32 процессах...\n",
      "32\n",
      "Запуск обработки на 32 процессах...\n",
      "32\n",
      "Запуск обработки на 32 процессах...\n",
      "32\n",
      "Запуск обработки на 32 процессах...\n",
      "32\n",
      "Запуск обработки на 32 процессах...\n",
      "32\n",
      "Запуск обработки на 32 процессах...\n",
      "32\n",
      "Запуск обработки на 32 процессах...\n",
      "32\n",
      "Запуск обработки на 32 процессах...\n",
      "32\n",
      "Запуск обработки на 32 процессах...\n",
      "32\n",
      "Запуск обработки на 32 процессах...\n",
      "32\n",
      "Запуск обработки на 32 процессах...\n",
      "32\n",
      "Запуск обработки на 32 процессах...\n",
      "32\n",
      "Запуск обработки на 32 процессах...\n",
      "32\n",
      "Запуск обработки на 32 процессах...\n",
      "32\n",
      "Запуск обработки на 32 процессах...\n",
      "32\n",
      "Запуск обработки на 32 процессах...\n",
      "32\n",
      "Запуск обработки на 32 процессах...\n",
      "32\n",
      "Запуск обработки на 32 процессах...\n",
      "32\n",
      "Запуск обработки на 32 процессах...\n",
      "32\n",
      "Запуск обработки на 32 процессах...\n",
      "32\n",
      "Запуск обработки на 32 процессах...\n",
      "32\n",
      "Запуск обработки на 32 процессах...\n",
      "32\n",
      "Запуск обработки на 32 процессах...\n",
      "32\n",
      "Запуск обработки на 32 процессах...\n",
      "32\n",
      "Запуск обработки на 32 процессах...\n",
      "32\n",
      "Запуск обработки на 32 процессах...\n",
      "32\n",
      "Запуск обработки на 32 процессах...\n",
      "32\n",
      "Запуск обработки на 32 процессах...\n",
      "32\n",
      "Запуск обработки на 32 процессах...\n",
      "32\n",
      "Запуск обработки на 32 процессах...\n",
      "32\n",
      "Запуск обработки на 32 процессах...\n",
      "32\n",
      "Запуск обработки на 32 процессах...\n",
      "32\n",
      "Запуск обработки на 32 процессах...\n",
      "32\n",
      "Запуск обработки на 32 процессах...\n",
      "32\n",
      "Запуск обработки на 32 процессах...\n",
      "32\n",
      "Запуск обработки на 32 процессах...\n",
      "32\n",
      "Запуск обработки на 32 процессах...\n",
      "32\n",
      "Запуск обработки на 32 процессах...\n",
      "32\n",
      "Запуск обработки на 32 процессах...\n",
      "32\n",
      "Запуск обработки на 32 процессах...\n",
      "32\n",
      "Запуск обработки на 32 процессах...\n",
      "32\n",
      "Запуск обработки на 32 процессах...\n",
      "32\n",
      "Запуск обработки на 32 процессах...\n",
      "32\n",
      "Запуск обработки на 32 процессах...\n",
      "32\n",
      "Запуск обработки на 32 процессах...\n",
      "32\n",
      "Запуск обработки на 32 процессах...\n",
      "32\n",
      "Запуск обработки на 32 процессах...\n",
      "32\n",
      "Запуск обработки на 32 процессах...\n",
      "32\n",
      "Запуск обработки на 32 процессах...\n",
      "32\n",
      "Запуск обработки на 32 процессах...\n",
      "32\n",
      "Запуск обработки на 32 процессах...\n",
      "32\n",
      "Запуск обработки на 32 процессах...\n",
      "32\n",
      "Запуск обработки на 32 процессах...\n",
      "32\n",
      "Запуск обработки на 32 процессах...\n",
      "32\n",
      "Запуск обработки на 32 процессах...\n",
      "32\n",
      "Запуск обработки на 32 процессах...\n",
      "32\n",
      "Запуск обработки на 32 процессах...\n",
      "32\n",
      "Запуск обработки на 32 процессах...\n",
      "32\n",
      "Запуск обработки на 32 процессах...\n",
      "32\n",
      "Запуск обработки на 32 процессах...\n",
      "32\n",
      "Запуск обработки на 32 процессах...\n",
      "32\n",
      "Запуск обработки на 32 процессах...\n",
      "32\n",
      "Запуск обработки на 32 процессах...\n",
      "32\n",
      "Запуск обработки на 32 процессах...\n",
      "32\n",
      "Запуск обработки на 32 процессах...\n",
      "32\n",
      "Запуск обработки на 32 процессах...\n",
      "32\n",
      "Запуск обработки на 32 процессах...\n",
      "32\n",
      "Запуск обработки на 32 процессах...\n",
      "32\n",
      "Запуск обработки на 32 процессах...\n",
      "32\n",
      "Запуск обработки на 32 процессах...\n",
      "32\n",
      "Запуск обработки на 32 процессах...\n",
      "32\n",
      "Запуск обработки на 32 процессах...\n",
      "32\n",
      "Запуск обработки на 32 процессах...\n",
      "32\n",
      "Запуск обработки на 32 процессах...\n",
      "32\n",
      "Запуск обработки на 32 процессах...\n",
      "32\n",
      "Запуск обработки на 32 процессах...\n",
      "32\n",
      "Запуск обработки на 32 процессах...\n",
      "32\n",
      "Запуск обработки на 32 процессах...\n",
      "32\n",
      "Запуск обработки на 32 процессах...\n",
      "32\n",
      "Запуск обработки на 32 процессах...\n",
      "32\n",
      "Запуск обработки на 32 процессах...\n",
      "32\n",
      "Запуск обработки на 32 процессах...\n",
      "32\n",
      "Запуск обработки на 32 процессах...\n",
      "32\n",
      "Запуск обработки на 32 процессах...\n",
      "32\n",
      "Запуск обработки на 32 процессах...\n",
      "32\n",
      "Запуск обработки на 32 процессах...\n",
      "32\n",
      "Запуск обработки на 32 процессах...\n",
      "32\n",
      "Запуск обработки на 32 процессах...\n",
      "32\n",
      "Запуск обработки на 32 процессах...\n",
      "32\n",
      "Запуск обработки на 32 процессах...\n",
      "32\n",
      "Запуск обработки на 32 процессах...\n",
      "32\n",
      "Запуск обработки на 32 процессах...\n",
      "32\n",
      "Запуск обработки на 32 процессах...\n",
      "32\n",
      "Запуск обработки на 32 процессах...\n",
      "32\n",
      "Запуск обработки на 32 процессах...\n",
      "32\n",
      "Запуск обработки на 32 процессах...\n",
      "32\n",
      "Запуск обработки на 32 процессах...\n",
      "32\n",
      "Запуск обработки на 32 процессах...\n",
      "32\n",
      "Запуск обработки на 32 процессах...\n",
      "32\n",
      "Запуск обработки на 32 процессах...\n",
      "32\n",
      "Запуск обработки на 32 процессах...\n",
      "32\n",
      "Запуск обработки на 32 процессах...\n",
      "32\n",
      "Запуск обработки на 32 процессах...\n",
      "32\n",
      "Запуск обработки на 32 процессах...\n",
      "32\n",
      "Запуск обработки на 32 процессах...\n",
      "32\n",
      "Запуск обработки на 32 процессах...\n",
      "32\n",
      "Запуск обработки на 32 процессах...\n",
      "32\n",
      "Запуск обработки на 32 процессах...\n",
      "32\n",
      "Запуск обработки на 32 процессах...\n",
      "32\n",
      "Запуск обработки на 32 процессах...\n",
      "32\n",
      "Запуск обработки на 32 процессах...\n",
      "32\n",
      "Запуск обработки на 32 процессах...\n",
      "32\n",
      "Запуск обработки на 32 процессах...\n",
      "32\n",
      "Запуск обработки на 32 процессах...\n",
      "32\n",
      "Запуск обработки на 32 процессах...\n",
      "32\n",
      "Запуск обработки на 32 процессах...\n",
      "32\n",
      "Запуск обработки на 32 процессах...\n",
      "32\n",
      "Запуск обработки на 32 процессах...\n",
      "32\n",
      "Запуск обработки на 32 процессах...\n",
      "32\n",
      "Запуск обработки на 32 процессах...\n",
      "32\n",
      "Запуск обработки на 32 процессах...\n",
      "32\n",
      "Запуск обработки на 32 процессах...\n",
      "32\n",
      "Запуск обработки на 32 процессах...\n",
      "32\n",
      "Запуск обработки на 32 процессах...\n",
      "32\n",
      "Запуск обработки на 32 процессах...\n",
      "32\n",
      "Запуск обработки на 32 процессах...\n",
      "2\n"
     ]
    }
   ],
   "execution_count": 35
  },
  {
   "metadata": {
    "ExecuteTime": {
     "end_time": "2025-05-19T17:51:26.857946Z",
     "start_time": "2025-05-19T17:51:26.843392Z"
    }
   },
   "cell_type": "code",
   "source": [
    "import os\n",
    "\n",
    "def collect_numbers_from_filenames(folder):\n",
    "    filenames = os.listdir(folder)\n",
    "    numbers = []\n",
    "    for filename in filenames:\n",
    "        if filename.endswith(\".png\"):\n",
    "            try:\n",
    "                number = int(filename[:-4])\n",
    "                numbers.append(number)\n",
    "            except ValueError:\n",
    "                pass\n",
    "    return sorted(numbers)\n",
    "numbers_list = collect_numbers_from_filenames(output_folder)\n",
    "\n",
    "from collections import Counter\n",
    "counts = Counter(numbers_list)\n",
    "duplicates = [number for number, count in counts.items() if count > 1]\n",
    "print(len(numbers_list))\n",
    "print(\"Повторяющиеся числа:\", duplicates)\n",
    "assert len(numbers_list) == len(eval_dataset)\n",
    "assert len(duplicates) ==0\n",
    "max(numbers_list)"
   ],
   "id": "f7c23ae5022e6712",
   "outputs": [
    {
     "name": "stdout",
     "output_type": "stream",
     "text": [
      "11170\n",
      "Повторяющиеся числа: []\n"
     ]
    },
    {
     "data": {
      "text/plain": [
       "11169"
      ]
     },
     "execution_count": 36,
     "metadata": {},
     "output_type": "execute_result"
    }
   ],
   "execution_count": 36
  },
  {
   "metadata": {
    "ExecuteTime": {
     "end_time": "2025-05-19T17:51:26.892618Z",
     "start_time": "2025-05-19T17:51:26.889212Z"
    }
   },
   "cell_type": "code",
   "source": [
    "for_path_columns = for_path_columns[:len(eval_dataset)]\n",
    "for_path_columns[-3:], len(eval_dataset)"
   ],
   "id": "5599beb8260ffcdc",
   "outputs": [
    {
     "data": {
      "text/plain": [
       "(['./data/eval_models_png/11167.png',\n",
       "  './data/eval_models_png/11168.png',\n",
       "  './data/eval_models_png/11169.png'],\n",
       " 11170)"
      ]
     },
     "execution_count": 37,
     "metadata": {},
     "output_type": "execute_result"
    }
   ],
   "execution_count": 37
  },
  {
   "metadata": {},
   "cell_type": "markdown",
   "source": "#### Сохраним в PNG ",
   "id": "92c49fd9b0fe2b05"
  },
  {
   "metadata": {
    "ExecuteTime": {
     "end_time": "2025-05-19T17:51:27.256971Z",
     "start_time": "2025-05-19T17:51:26.958988Z"
    }
   },
   "cell_type": "code",
   "source": [
    "eval_dataset[\"path_to_png\"] = for_path_columns\n",
    "eval_dataset.to_csv(\"./data/svg_eval_dataset.csv\")\n",
    "eval_dataset.head(5)"
   ],
   "id": "1f6b9fcc4d2468fd",
   "outputs": [
    {
     "data": {
      "text/plain": [
       "                                            sentence  best_image_score  \\\n",
       "0  An indigo hexagon bloom glistens with morning ...            0.9801   \n",
       "1  Sharp mountain silhouettes stand amidst a grad...            0.9849   \n",
       "2  A tree composed of interlocking hexagons stand...            0.9965   \n",
       "3  Lavender desert stretching endlessly under moo...            0.9975   \n",
       "4  A gradient amber, peach, and cobalt sky over e...            0.9997   \n",
       "\n",
       "                                            svg_code  \\\n",
       "0  <svg xmlns=\"http://www.w3.org/2000/svg\" clip-r...   \n",
       "1  <svg xmlns=\"http://www.w3.org/2000/svg\" clip-r...   \n",
       "2  <svg xmlns=\"http://www.w3.org/2000/svg\" clip-r...   \n",
       "3  <svg xmlns=\"http://www.w3.org/2000/svg\" clip-r...   \n",
       "4  <svg xmlns=\"http://www.w3.org/2000/svg\" clip-r...   \n",
       "\n",
       "                    path_to_png  \n",
       "0  ./data/eval_models_png/0.png  \n",
       "1  ./data/eval_models_png/1.png  \n",
       "2  ./data/eval_models_png/2.png  \n",
       "3  ./data/eval_models_png/3.png  \n",
       "4  ./data/eval_models_png/4.png  "
      ],
      "text/html": [
       "<div>\n",
       "<style scoped>\n",
       "    .dataframe tbody tr th:only-of-type {\n",
       "        vertical-align: middle;\n",
       "    }\n",
       "\n",
       "    .dataframe tbody tr th {\n",
       "        vertical-align: top;\n",
       "    }\n",
       "\n",
       "    .dataframe thead th {\n",
       "        text-align: right;\n",
       "    }\n",
       "</style>\n",
       "<table border=\"1\" class=\"dataframe\">\n",
       "  <thead>\n",
       "    <tr style=\"text-align: right;\">\n",
       "      <th></th>\n",
       "      <th>sentence</th>\n",
       "      <th>best_image_score</th>\n",
       "      <th>svg_code</th>\n",
       "      <th>path_to_png</th>\n",
       "    </tr>\n",
       "  </thead>\n",
       "  <tbody>\n",
       "    <tr>\n",
       "      <th>0</th>\n",
       "      <td>An indigo hexagon bloom glistens with morning ...</td>\n",
       "      <td>0.9801</td>\n",
       "      <td>&lt;svg xmlns=\"http://www.w3.org/2000/svg\" clip-r...</td>\n",
       "      <td>./data/eval_models_png/0.png</td>\n",
       "    </tr>\n",
       "    <tr>\n",
       "      <th>1</th>\n",
       "      <td>Sharp mountain silhouettes stand amidst a grad...</td>\n",
       "      <td>0.9849</td>\n",
       "      <td>&lt;svg xmlns=\"http://www.w3.org/2000/svg\" clip-r...</td>\n",
       "      <td>./data/eval_models_png/1.png</td>\n",
       "    </tr>\n",
       "    <tr>\n",
       "      <th>2</th>\n",
       "      <td>A tree composed of interlocking hexagons stand...</td>\n",
       "      <td>0.9965</td>\n",
       "      <td>&lt;svg xmlns=\"http://www.w3.org/2000/svg\" clip-r...</td>\n",
       "      <td>./data/eval_models_png/2.png</td>\n",
       "    </tr>\n",
       "    <tr>\n",
       "      <th>3</th>\n",
       "      <td>Lavender desert stretching endlessly under moo...</td>\n",
       "      <td>0.9975</td>\n",
       "      <td>&lt;svg xmlns=\"http://www.w3.org/2000/svg\" clip-r...</td>\n",
       "      <td>./data/eval_models_png/3.png</td>\n",
       "    </tr>\n",
       "    <tr>\n",
       "      <th>4</th>\n",
       "      <td>A gradient amber, peach, and cobalt sky over e...</td>\n",
       "      <td>0.9997</td>\n",
       "      <td>&lt;svg xmlns=\"http://www.w3.org/2000/svg\" clip-r...</td>\n",
       "      <td>./data/eval_models_png/4.png</td>\n",
       "    </tr>\n",
       "  </tbody>\n",
       "</table>\n",
       "</div>"
      ]
     },
     "execution_count": 38,
     "metadata": {},
     "output_type": "execute_result"
    }
   ],
   "execution_count": 38
  },
  {
   "metadata": {
    "ExecuteTime": {
     "end_time": "2025-05-19T17:51:27.502830Z",
     "start_time": "2025-05-19T17:51:27.301881Z"
    }
   },
   "cell_type": "code",
   "source": "eval_dataset = pd.read_csv(\"./data/svg_eval_dataset.csv\")",
   "id": "7800daae9c0021f4",
   "outputs": [],
   "execution_count": 39
  },
  {
   "metadata": {},
   "cell_type": "markdown",
   "source": "",
   "id": "f68fc35cdbac9f45"
  },
  {
   "metadata": {},
   "cell_type": "markdown",
   "source": "### Посмотрим, какие скоры эстетичности выдаёт предиктор на датасете",
   "id": "b54e4dc0d7e0982f"
  },
  {
   "metadata": {
    "ExecuteTime": {
     "end_time": "2025-05-19T17:51:27.854105Z",
     "start_time": "2025-05-19T17:51:27.528128Z"
    }
   },
   "cell_type": "code",
   "source": [
    "for_path_columns = []\n",
    "num_processes = 5\n",
    "for i in range(0,5,num_processes):\n",
    "    start_i = i\n",
    "    end_i = i+ num_processes\n",
    "    batch = eval_dataset[\"path_to_png\"][start_i:end_i].to_dict()\n",
    "    images = load_images_parallel(batch, num_processes)\n",
    "\n",
    "    for key, img in images.items():\n",
    "        print(f\"Ключ: {key}\")\n",
    "        display(img)\n",
    "    "
   ],
   "id": "cd6eb9eaf159d718",
   "outputs": [
    {
     "name": "stdout",
     "output_type": "stream",
     "text": [
      "Ключ: 0\n"
     ]
    },
    {
     "data": {
      "text/plain": [
       "<PIL.Image.Image image mode=RGB size=96x96>"
      ],
      "image/png": "[encoded data removed]",
      "image/jpeg": "[encoded data removed]"
     },
     "metadata": {},
     "output_type": "display_data"
    },
    {
     "name": "stdout",
     "output_type": "stream",
     "text": [
      "Ключ: 1\n"
     ]
    },
    {
     "data": {
      "text/plain": [
       "<PIL.Image.Image image mode=RGB size=96x96>"
      ],
      "image/png": "[encoded data removed]",
      "image/jpeg": "[encoded data removed]"
     },
     "metadata": {},
     "output_type": "display_data"
    },
    {
     "name": "stdout",
     "output_type": "stream",
     "text": [
      "Ключ: 2\n"
     ]
    },
    {
     "data": {
      "text/plain": [
       "<PIL.Image.Image image mode=RGB size=96x96>"
      ],
      "image/png": "[encoded data removed]",
      "image/jpeg": "[encoded data removed]"
     },
     "metadata": {},
     "output_type": "display_data"
    },
    {
     "name": "stdout",
     "output_type": "stream",
     "text": [
      "Ключ: 3\n"
     ]
    },
    {
     "data": {
      "text/plain": [
       "<PIL.Image.Image image mode=RGB size=96x96>"
      ],
      "image/png": "[encoded data removed]",
      "image/jpeg": "[encoded data removed]"
     },
     "metadata": {},
     "output_type": "display_data"
    },
    {
     "name": "stdout",
     "output_type": "stream",
     "text": [
      "Ключ: 4\n"
     ]
    },
    {
     "data": {
      "text/plain": [
       "<PIL.Image.Image image mode=RGB size=96x96>"
      ],
      "image/png": "[encoded data removed]",
      "image/jpeg": "[encoded data removed]"
     },
     "metadata": {},
     "output_type": "display_data"
    }
   ],
   "execution_count": 40
  },
  {
   "metadata": {
    "ExecuteTime": {
     "end_time": "2025-05-19T17:51:34.392405Z",
     "start_time": "2025-05-19T17:51:28.014504Z"
    }
   },
   "cell_type": "code",
   "source": [
    "MLP_name = \"AScore/sac+logos+ava1-l14-linearMSE.pth\"\n",
    "full_path= os.path.join(cur_path, MLP_name)\n",
    "score_predictor = asp.AScorePredictor(full_path)\n",
    "batch  = list(images.values())\n",
    "res  = score_predictor.get_score(batch)\n",
    "res"
   ],
   "id": "4ac4b7ca0432d8da",
   "outputs": [
    {
     "data": {
      "text/plain": [
       "tensor([[3.8287],\n",
       "        [4.9325],\n",
       "        [3.5909],\n",
       "        [4.8256],\n",
       "        [4.6752]], device='cuda:0')"
      ]
     },
     "execution_count": 41,
     "metadata": {},
     "output_type": "execute_result"
    }
   ],
   "execution_count": 41
  },
  {
   "metadata": {},
   "cell_type": "markdown",
   "source": "#### Посчитаем скор на всём датасете",
   "id": "2e4a00a51c04637b"
  },
  {
   "metadata": {
    "ExecuteTime": {
     "end_time": "2025-05-19T18:02:30.865093Z",
     "start_time": "2025-05-19T17:51:35.073248Z"
    }
   },
   "cell_type": "code",
   "source": [
    "for_original_score_column = []\n",
    "num_processes = 32\n",
    "for i in tqdm(range(0, len(eval_dataset), num_processes), \n",
    "              total=len(range(0, len(eval_dataset), num_processes)), \n",
    "              desc=\"Processing batches\"):\n",
    "    start_i = i\n",
    "    end_i = i+ num_processes\n",
    "    batch = eval_dataset[\"path_to_png\"][start_i:end_i].to_dict()\n",
    "    images = load_images_parallel(batch, num_processes)\n",
    "    batch_scores = score_predictor.get_score(list(images.values())).detach().cpu().numpy()\n",
    "    for_original_score_column.append(batch_scores)\n",
    "    "
   ],
   "id": "8c05b1b929d1c436",
   "outputs": [
    {
     "data": {
      "text/plain": [
       "Processing batches:   0%|          | 0/350 [00:00<?, ?it/s]"
      ],
      "application/vnd.jupyter.widget-view+json": {
       "version_major": 2,
       "version_minor": 0,
       "model_id": "8db629f2f2c843708a570fcae639bf99"
      }
     },
     "metadata": {},
     "output_type": "display_data"
    }
   ],
   "execution_count": 42
  },
  {
   "metadata": {
    "ExecuteTime": {
     "end_time": "2025-05-19T18:02:31.194417Z",
     "start_time": "2025-05-19T18:02:30.873859Z"
    }
   },
   "cell_type": "code",
   "source": [
    "len(for_original_score_column)\n",
    "res = np.vstack(for_original_score_column)\n",
    "len(res)\n",
    "eval_dataset[\"original_AScore\"] = res\n",
    "eval_dataset.to_csv(\"./data/svg_eval_dataset.csv\", index=False)\n",
    "eval_dataset.head(5)"
   ],
   "id": "d7ac029580c33257",
   "outputs": [
    {
     "data": {
      "text/plain": [
       "   Unnamed: 0  \\\n",
       "0           0   \n",
       "1           1   \n",
       "2           2   \n",
       "3           3   \n",
       "4           4   \n",
       "\n",
       "                                                                  sentence  \\\n",
       "0                       An indigo hexagon bloom glistens with morning dew.   \n",
       "1  Sharp mountain silhouettes stand amidst a gradient violet to amber sky.   \n",
       "2    A tree composed of interlocking hexagons stands amidst drifting mist.   \n",
       "3                    Lavender desert stretching endlessly under moonlight.   \n",
       "4            A gradient amber, peach, and cobalt sky over ebony mountains.   \n",
       "\n",
       "   best_image_score  \\\n",
       "0            0.9801   \n",
       "1            0.9849   \n",
       "2            0.9965   \n",
       "3            0.9975   \n",
       "4            0.9997   \n",
       "\n",
       "                                                                                                                                                                                                                                                                                                                                                                                                                                                                                                                                                                                                                                                                                                                                                                                                                                                                                                                                                                                                                                                                                                                                                                                                                                                                                                                                                                                                                                                                                                                                                                                                                                                                                                                                                                                                                                                                                                                                                                                                                                                                                                                                                                                                                                                                                                                                                                                                                                                                                                                                                                                                                                                                                                                                                                                                                                                                                                                                                                                                                                                                                                                                                 svg_code  \\\n",
       "0                                                                                                                                                                                                                                                                                                                                                                                                                                                                                                                                                                                                                                                                                                                                                                                                                                                                                                                                                                                                                                                                                                                                                                                                                                                                                                                                                                                                                                                                                                                                                                                                                                                                                                                                                                                                                                                                                                                                                                                                                                                                                                                                                                                                                                                                                                                                                                                                                                                                                                                                                                                                                                                                                                                     <svg xmlns=\"http://www.w3.org/2000/svg\" clip-rule=\"evenodd\" image-rendering=\"optimizeQuality\" shape-rendering=\"geometricPrecision\" text-rendering=\"geometricPrecision\" viewBox=\"0 0 96 96\"><path fill=\"#fcfcfe\" d=\"M0 0h96v96H0z\"/><path fill=\"#26396d\" d=\"m47 23 19 13 4 18q-9 6-15 14h-4l-4 3q-6-3-8-8h-3q-6-5-9-11 0-9 3-17z\"/><path fill=\"#949db5\" d=\"M48 43q2 0 1 2z\"/><path fill=\"#d7dde6\" d=\"M49 60q2 0 1 3-2-1-1-3\"/></svg>   \n",
       "1  <svg xmlns=\"http://www.w3.org/2000/svg\" clip-rule=\"evenodd\" image-rendering=\"optimizeQuality\" shape-rendering=\"geometricPrecision\" text-rendering=\"geometricPrecision\" viewBox=\"0 0 96 96\"><path fill=\"#531266\" d=\"M0 0h96v6l-3 1q-3-2-6 1-4-3-6 1-7-3-14 0-4-3-8-1-3-5-3 1-10-3-21 0l-7-2-3 2-6-3-6 3H0z\"/><path fill=\"#5a1564\" d=\"m93 7-6 3q-2-2-2 0l1 1h-9l-6 3-9-3H28q-11 0-21 3l-1-2-6 1V9h13l6-3 6 3 3-2 7 2q11-3 21 0 0-6 3-1 4-2 8 1 7-3 14 0 2-4 6-1 3-3 6-1\"/><path fill=\"#601661\" d=\"M96 6v7q-3 0-3 3-3-2-6 1L0 16v-3l6-1 1 2q10-3 21-3h34l9 3 6-3h9l-1-1q0-2 2 0l6-3z\"/><path fill=\"#67195e\" d=\"M96 13v8H73l-3-2-20 2-2-2-25 2-11-3q-6 0-11 3H0v-5q2 1 3-1 6 1 11-1l4 3 9-3 2 2 27-1 5 1h32q0-3 3-3\"/><path fill=\"#6d1c5b\" d=\"M96 21v3H84q-2-3-5-2-27-1-52 1-7 0-13-3-7 3-13 1 5-3 11-3l11 3 25-2 2 2 20-2 3 2z\"/><path fill=\"#772156\" d=\"M96 24v6l-2 1q-7-3-14-3l-7 1-3-2q-18-1-36 2L6 26q-3-1-6 1v-6h1q6 2 13-1 6 3 13 3z\"/><path fill=\"#802652\" d=\"M96 30v3l-47-4H0v-2q3-2 6-1l28 3q18-3 36-2l3 2 7-1q7 0 14 3z\"/><path fill=\"#872950\" d=\"M0 29h49l47 4v4q-22-5-44-5l-12 2q-19-3-39-2l-1 3z\"/><path fill=\"#902f4d\" d=\"M96 37v4q-4-3-9-4H43L8 35l-8 2v-2l1-3q20-1 39 2l12-2q22 0 44 5\"/><path fill=\"#99354a\" d=\"M96 41v2l-18-3H51l-13 1-3-2H0v-2l8-2z\"/><path fill=\"#a23b48\" d=\"M0 39h35l3 2 13-1h27l18 3v3l-14-4-14 2-20-2H0z\"/><path fill=\"#ac4348\" d=\"M0 42h82l14 4v8q-25-7-50-9-2 0-3 2l-2-1q-4 2-6 5-2-3-5-3L0 51z\"/><path fill=\"#bb4e4a\" d=\"M96 54v3l-10-2-2 1-14-3-6-3-7 5-11-4-3-4q1-2 3-2 25 2 50 9\"/><path fill=\"#be4f4b\" d=\"M35 51q-6-2-6 4-3 0-5 2l-4-3q-3 0-3 3l-2 3v-3q-9 0-15 2v-8l30-3q3 0 5 3\"/><path fill=\"#5c2362\" d=\"m29 55-7 5q-2-4-5-3 0-3 3-3l4 3q2-2 5-2\"/><path fill=\"#3d1353\" d=\"m43 47 3 4h-3l-4 6h6q0 6 1 1h3q-6 3 0 6l-1 2 4 1 8 4 2-3-2-2v-1l12 7 1-1q3 4 9 3l-1-1 2-2 4 2q-3 1-1 3l6 1q-3-1 0-2-6-3-10-8h1l13 3v12l-4-2q-3 8-11 11l-10-3q-4 1-4 4l-3 1 1 1-10 1v-2q2-2 6-1-1-4-4-3l-2-5-6 3q0-6-5-6l-5-8-3-7-12 3v-8l-6 3-7-2 4-2 2-3q3-1 5 3l7-5q0-6 6-4z\"/><path fill=\"#391456\" d=\"m70 53 3 7h3l2 3q-3 0-1 3l6 5-2 2 1 1q-6 1-9-3l-11-7q-2-2 1-2l4 4h4l1 3 3-1-3-6q-1-3-4-1l-1-5q0-2 2-1l-4-3-1 5q-5 2-4 8v1l-3-2v3h-5l-4-1 1-2q-6-3 0-6h-3q-1 5-1-1h-6l4-6h3l11 4 7-5z\"/><path fill=\"#cc5b47\" d=\"M96 57v13l-13-3q-2-4-5-4l-2-3h-3l-3-7 2-1 14 3z\"/><path fill=\"#cc5946\" d=\"m15 60-4 2q-4 0-6 3l-5 1v-7q6-2 15-2z\"/><path fill=\"#742c69\" d=\"m73 71-1 1-12-7q-1-6 4-8l1-5 4 3q-2-1-2 1l1 5q3-2 4 1l3 6-3 1-1-3h-4l-4-4q-3 0-1 2z\"/><path fill=\"#401353\" d=\"m49 87-4-1-7 3-5-3q1-3-1-4v3q-3-1-4 1v-4q4-1 4-6l-4-1q1-2-1-2l-1 2q-4-1-5 3l-3-4-3-7q0-4 3-3l6-3v8l12-3 3 7 5 8q5 0 5 6\"/><path fill=\"#3c1252\" d=\"m11 62 7 2q-3-1-3 3l3 7-5-2-8 4 1 4-2 1q2 3 5 1l2 7 6 4-10 3H0V66l5-1q2-3 6-3\"/><path fill=\"#662461\" d=\"m60 66 2 2-2 3-8-4h5v-3z\"/><path fill=\"#6d2c60\" d=\"M78 63q3 0 5 4h-1q4 5 10 8-3 1 0 2l-6-1q-2-2 1-3l-4-2-6-5q-2-3 1-3\"/><path fill=\"#3f1350\" d=\"m18 74 3 4q1-4 5-3l1-2q2 0 1 2l4 1q0 5-4 6v4q1-2 4-1v-3q2 1 1 4l5 3 7-3 4 1 6-3 2 5q3-1 4 3-4-1-6 1H17l-6-4-2-7q-3 2-5-1l2-1-1-4 8-4z\"/><path fill=\"#401253\" d=\"M96 82v14H7l10-3h38v2l10-1-1-1 3-1q0-3 4-4l10 3q8-3 11-11z\"/></svg>   \n",
       "2                                                                                                                                                                                                                                                                                                                                                                                                                                                                                                                                                                                                                                                                                                                                                                                                                                                                                                                                                                                                                                                                                                                                                                                                            <svg xmlns=\"http://www.w3.org/2000/svg\" clip-rule=\"evenodd\" image-rendering=\"optimizeQuality\" shape-rendering=\"geometricPrecision\" text-rendering=\"geometricPrecision\" viewBox=\"0 0 96 96\"><path fill=\"#fcfdfd\" d=\"M0 0h96v96H22l9-10 4-1 3 3 12 3 3-3q4 4 11 1l2-6-2-1q5-2 7-7l1 2q7-6 9-14h5l-1-3q-4 3-10 1l-3 3-1-2q-2 6-7 3 4-3-1-5l15-10v-3l3 1 1 3q3-3 0-6-6-2-11 1l-5-4h-2q8-6-1-2l-1-4-2 1v-1q2-5-2-2l-5-9q-2 3-5 0l-6 4q-5-5-2 2v1q-5 1-7 6h-3v7q3 3-1 5-3-2-5-1 0-6-5-5l-2 9q-2-6-5-1v2q-3-4-7-6l2-1q-3-1-5 2l-2-2z\"/><path fill=\"#e3eced\" d=\"M60 36q-5-3-4 3zl2-1 1 4q-4 2-4 6l-3-1q-1 2 2 3v1h-3v-6q1-6-4-4v4h3l-3 3q-3-8-7-1-1-3 2-4-3-3-6-2-1 3 2 6-4 2-3 6l-1-1-1-4q1-3-2-2v-3q3 3 3-2 0-2 2-2 4 1 2-2l8 3 1-3q3 2 5-3-1-2-3-2-3 1-3 4h-4q-1-6-6-3-3-7 2-2l6-4q3 3 5 0l5 9q4-3 2 2\"/><path fill=\"#a0d0d9\" d=\"M50 38v-4q0-3 3-4 2 0 3 2-2 5-5 3z\"/><path fill=\"#698a8c\" d=\"M50 34v4l-8-3q-3-1-2-3v-1q5-3 6 3z\"/><path fill=\"#749396\" d=\"m60 36-4 2q-1-6 4-3\"/><path fill=\"#f7fafa\" d=\"M40 32q-1 2 2 3 2 3-2 2-2 0-2 2-3-1-3 2v3q3-1 2 2l-2-1q-2 2-1 5h4l1 1-1 7h4l1 5q-4 4-9 4l-1 5-3 1q6 5 11 0l2 1q3-3 2-7 4-1 7-6l8 1v-4q6-4 2-9l-6 1 2-1v-1l1-2q0-4 4-6 9-4 1 2h2l5 4q5-3 11-1 3 3 0 6l-1-3-3-1v3L63 60q5 2 1 5 5 3 7-3l1 2 3-3q6 2 10-1l1 3h-5q-2 8-9 14l-1-2q-2 5-7 7l2 1-2 6q-7 3-11-1l-3 3-12-3-3-3-4 1-9 10H0V47l2 2q2-3 5-2l-2 1q4 2 7 6v-2q3-5 5 1l2-9q5-1 5 5 2-1 5 1 4-2 1-5v-7h3q2-5 7-6\"/><path fill=\"#709195\" d=\"M38 39q0 5-3 2 0-3 3-2\"/><path fill=\"#81b4be\" d=\"M55 43h-4v-4q5-2 4 4\"/><path fill=\"#627d81\" d=\"m51 46-3 2-2 4-1-3-3-4q-3-3-2-6 3-1 6 2-3 1-2 4 4-7 7 1\"/><path fill=\"#81a4a8\" d=\"m59 46-1 2q-3-1-2-3z\"/><path fill=\"#7ca1aa\" d=\"m37 46 1 4h-4q-1-3 1-5z\"/><path fill=\"#eff6f7\" d=\"M54 43v6h3l-2 1 6-1q4 5-2 9v4l-8-1q-3 5-7 6 1 4-2 7l-2-1q-5 5-11 0l3-1 1-5q5 0 9-4l-1-5h-4l1-7q-1-4 3-6l3 4q1 9 7 1l-1-1q-3 3-3-1l3-2z\"/><path fill=\"#acc3c7\" d=\"M48 48q0 4 3 1l1 1q-6 8-7-1l1 3z\"/></svg>   \n",
       "3                                                                                                                                                                                                                                                                                                                                                                                                                                                                                                                                                                                                                                         <svg xmlns=\"http://www.w3.org/2000/svg\" clip-rule=\"evenodd\" image-rendering=\"optimizeQuality\" shape-rendering=\"geometricPrecision\" text-rendering=\"geometricPrecision\" viewBox=\"0 0 96 96\"><path fill=\"#e3cac5\" d=\"M0 0h24l-4 2q6 3 2 9l2 3-4 6v11l2 5 9 2H12q-6-3-12-2z\"/><path fill=\"#e6cfca\" d=\"M24 0h18l16 3 9-1 3 2-1 2q6 7-2 5 0 2 3 2-5 2-5 6v6q3 4 0 7v4l6 2-14 1-35-3-2-5V20l4-6-2-3q4-6-2-9z\"/><path fill=\"#e5ccc7\" d=\"M42 0h54v38H71l-6-2v-4q3-3 0-7v-6q0-4 5-6-3 0-3-2 8 2 2-5l1-2-3-2-9 1z\"/><path fill=\"#f2efeb\" d=\"M47 18q5-1 3 4-6 0-3-4\"/><path fill=\"#d18475\" d=\"M12 39v-1h19l26 1v2H34q-10-2-19-1-1-2-3-1\"/><path fill=\"#cd9490\" d=\"M71 38h25v2l-8-1v3l-22-2-9 1v-2z\"/><path fill=\"#ca9fa1\" d=\"M96 53v16l-9 9q-2 0-1 3l-10 1 1 1q-3 2-3 5l-6-1-2 1v3q-3-3-7-3-2 0-1 3l-7-5-1 1q-1-3 1-5l-1-1q-2 0-2 3l-1-4q-5 5-12 6l-3 3h-3q-4 1 0 4-5-1-8 1l2 2H0V63q2 0 3 2l1-2q4 2 4 7 3 3 0 4 3 5 4-1l7 3 5-3 2 2 15-5 3 6 1-3 1 4q2-1 3 2 4-4 11-6-1 2 1 3l4-2 6 1q8-4 18-6l-4-2q5-2-1-2 3-9 12-12\"/><path fill=\"#c7999a\" d=\"M0 36q6-1 12 2v1H6l-2 5q0 2 2 3-2 1-2 4l1 9 11-2q8-1 15 2 3-2 8-1l1 2 4-4h3q3 2-1 3l2 5q0-3 2-3h1l-3 4 18-1q2-3 6-2-6-1-1-4l9-2-6-2h5q5-2 11-1l-2-6h4l-1-6h-3v-3l8 1v13q-9 3-12 12 6 0 1 2l4 2q-10 2-18 6l-6-1-4 2q-2-1-1-3-7 2-11 6-1-3-3-2l-1-4-1 3-3-6-15 5-2-2-5 3-7-3q-1 6-4 1 3-1 0-4 0-5-4-7l-1 2q-1-2-3-2z\"/><path fill=\"#6f5175\" d=\"m79 51 1 2q-2 0-1 2h-5l-1-2v-3l4-1z\"/><path fill=\"#342459\" d=\"M79 51q-2 4-5 1 2-2 5-1\"/><path fill=\"#c29192\" d=\"M66 50q4-1 7 3l1 2 6 2-9 2q-5 3 1 4-4-1-6 2l-18 1 3-4h-1q-2 0-2 3l-2-5q4-1 1-3h-3l-4 4-1-2q-5-1-8 1-7-3-15-2-1-3 1-5a257 257 0 0052-2z\"/><path fill=\"#cd9387\" d=\"M47 48h9l1 1 9 1 3 1-14 2z\"/><path fill=\"#be8c96\" d=\"M88 42h3l1 6h-4l2 6q-6-1-11 1-1-2 1-2l1-5q-9-3-16-1-6-3-9-1-10-4-21-3l-1-2h23l9-1z\"/><path fill=\"#684a6c\" d=\"M56 47q2-1 3 1l-2 1z\"/><path fill=\"#ae7d92\" d=\"m80 53-1-2-2-2-4 1v3q-3-4-7-3l-9-1 2-1q-1-2-3-1v-1q3-2 9 1 7-2 16 1z\"/><path fill=\"#d89a84\" d=\"M35 43q11-1 21 3v2h-9l-12-3q-9-2 0-2\"/><path fill=\"#bc8e98\" d=\"M12 39q2-1 3 1-4-1-1 2l8 3q-4 2 0 3 3-2 8 1l1-2q2 3 6 1-2-1-2-3l12 3 8 5H17q-2 2-1 5L5 60l-1-9q0-3 2-4-2-1-2-3l2-5z\"/><path fill=\"#b4879a\" d=\"M15 40q9-1 19 1l1 2q-9 0 0 2 0 2 2 3-4 2-6-1l-1 2q-5-3-8-1-4-1 0-3l-8-3q-3-3 1-2\"/><path fill=\"#7e5e86\" d=\"M26 44q2-1 3 1-3 1-3-1\"/><path fill=\"#cda4a3\" d=\"M96 69v27H23l-2-2q3-2 8-1-4-3 0-4h3l3-3q7-1 12-6l1 4q0-3 2-3l1 1q-2 2-1 5l1-1 7 5q-1-3 1-3 4 0 7 3v-3l2-1 6 1q0-3 3-5l-1-1 10-1q-1-3 1-3z\"/></svg>   \n",
       "4                                                                                                                                                                                                                                                                                                                                                                                                                                                                                                                                                                                                                                                                                                                                                                                                                                                                                                                                                                                                                                                                                                                                                                                                                                                                                                                                                                                                                                                                                                                                                                                                                                                                                                                                                                                                                                                                                                                                                                                                                                                                                                                                                                                                                                                                                                                                                                                                                                                                                                                                                                                                                                                                <svg xmlns=\"http://www.w3.org/2000/svg\" clip-rule=\"evenodd\" image-rendering=\"optimizeQuality\" shape-rendering=\"geometricPrecision\" text-rendering=\"geometricPrecision\" viewBox=\"0 0 96 96\"><path fill=\"#f99865\" d=\"M0 0h96v62l-25-9-23 7q-6-4-12 0l-14-6-13 5q-6-2-9 1z\"/><path fill=\"#151a35\" d=\"m36 60 20 6q5-2 9-1 16 8 31 18v13H0V64l9-5 13-5z\"/><path fill=\"#f18553\" d=\"M96 62v21Q81 73 65 65q-4-1-9 1l-20-6q6-4 12 0l23-7z\"/><path fill=\"#f37849\" d=\"m9 59-9 5v-4q3-3 9-1\"/></svg>   \n",
       "\n",
       "                    path_to_png  original_AScore  \n",
       "0  ./data/eval_models_png/0.png         3.827508  \n",
       "1  ./data/eval_models_png/1.png         4.932559  \n",
       "2  ./data/eval_models_png/2.png         3.590762  \n",
       "3  ./data/eval_models_png/3.png         4.827085  \n",
       "4  ./data/eval_models_png/4.png         4.674364  "
      ],
      "text/html": [
       "<div>\n",
       "<style scoped>\n",
       "    .dataframe tbody tr th:only-of-type {\n",
       "        vertical-align: middle;\n",
       "    }\n",
       "\n",
       "    .dataframe tbody tr th {\n",
       "        vertical-align: top;\n",
       "    }\n",
       "\n",
       "    .dataframe thead th {\n",
       "        text-align: right;\n",
       "    }\n",
       "</style>\n",
       "<table border=\"1\" class=\"dataframe\">\n",
       "  <thead>\n",
       "    <tr style=\"text-align: right;\">\n",
       "      <th></th>\n",
       "      <th>Unnamed: 0</th>\n",
       "      <th>sentence</th>\n",
       "      <th>best_image_score</th>\n",
       "      <th>svg_code</th>\n",
       "      <th>path_to_png</th>\n",
       "      <th>original_AScore</th>\n",
       "    </tr>\n",
       "  </thead>\n",
       "  <tbody>\n",
       "    <tr>\n",
       "      <th>0</th>\n",
       "      <td>0</td>\n",
       "      <td>An indigo hexagon bloom glistens with morning dew.</td>\n",
       "      <td>0.9801</td>\n",
       "      <td>&lt;svg xmlns=\"http://www.w3.org/2000/svg\" clip-rule=\"evenodd\" image-rendering=\"optimizeQuality\" shape-rendering=\"geometricPrecision\" text-rendering=\"geometricPrecision\" viewBox=\"0 0 96 96\"&gt;&lt;path fill=\"#fcfcfe\" d=\"M0 0h96v96H0z\"/&gt;&lt;path fill=\"#26396d\" d=\"m47 23 19 13 4 18q-9 6-15 14h-4l-4 3q-6-3-8-8h-3q-6-5-9-11 0-9 3-17z\"/&gt;&lt;path fill=\"#949db5\" d=\"M48 43q2 0 1 2z\"/&gt;&lt;path fill=\"#d7dde6\" d=\"M49 60q2 0 1 3-2-1-1-3\"/&gt;&lt;/svg&gt;</td>\n",
       "      <td>./data/eval_models_png/0.png</td>\n",
       "      <td>3.827508</td>\n",
       "    </tr>\n",
       "    <tr>\n",
       "      <th>1</th>\n",
       "      <td>1</td>\n",
       "      <td>Sharp mountain silhouettes stand amidst a gradient violet to amber sky.</td>\n",
       "      <td>0.9849</td>\n",
       "      <td>&lt;svg xmlns=\"http://www.w3.org/2000/svg\" clip-rule=\"evenodd\" image-rendering=\"optimizeQuality\" shape-rendering=\"geometricPrecision\" text-rendering=\"geometricPrecision\" viewBox=\"0 0 96 96\"&gt;&lt;path fill=\"#531266\" d=\"M0 0h96v6l-3 1q-3-2-6 1-4-3-6 1-7-3-14 0-4-3-8-1-3-5-3 1-10-3-21 0l-7-2-3 2-6-3-6 3H0z\"/&gt;&lt;path fill=\"#5a1564\" d=\"m93 7-6 3q-2-2-2 0l1 1h-9l-6 3-9-3H28q-11 0-21 3l-1-2-6 1V9h13l6-3 6 3 3-2 7 2q11-3 21 0 0-6 3-1 4-2 8 1 7-3 14 0 2-4 6-1 3-3 6-1\"/&gt;&lt;path fill=\"#601661\" d=\"M96 6v7q-3 0-3 3-3-2-6 1L0 16v-3l6-1 1 2q10-3 21-3h34l9 3 6-3h9l-1-1q0-2 2 0l6-3z\"/&gt;&lt;path fill=\"#67195e\" d=\"M96 13v8H73l-3-2-20 2-2-2-25 2-11-3q-6 0-11 3H0v-5q2 1 3-1 6 1 11-1l4 3 9-3 2 2 27-1 5 1h32q0-3 3-3\"/&gt;&lt;path fill=\"#6d1c5b\" d=\"M96 21v3H84q-2-3-5-2-27-1-52 1-7 0-13-3-7 3-13 1 5-3 11-3l11 3 25-2 2 2 20-2 3 2z\"/&gt;&lt;path fill=\"#772156\" d=\"M96 24v6l-2 1q-7-3-14-3l-7 1-3-2q-18-1-36 2L6 26q-3-1-6 1v-6h1q6 2 13-1 6 3 13 3z\"/&gt;&lt;path fill=\"#802652\" d=\"M96 30v3l-47-4H0v-2q3-2 6-1l28 3q18-3 36-2l3 2 7-1q7 0 14 3z\"/&gt;&lt;path fill=\"#872950\" d=\"M0 29h49l47 4v4q-22-5-44-5l-12 2q-19-3-39-2l-1 3z\"/&gt;&lt;path fill=\"#902f4d\" d=\"M96 37v4q-4-3-9-4H43L8 35l-8 2v-2l1-3q20-1 39 2l12-2q22 0 44 5\"/&gt;&lt;path fill=\"#99354a\" d=\"M96 41v2l-18-3H51l-13 1-3-2H0v-2l8-2z\"/&gt;&lt;path fill=\"#a23b48\" d=\"M0 39h35l3 2 13-1h27l18 3v3l-14-4-14 2-20-2H0z\"/&gt;&lt;path fill=\"#ac4348\" d=\"M0 42h82l14 4v8q-25-7-50-9-2 0-3 2l-2-1q-4 2-6 5-2-3-5-3L0 51z\"/&gt;&lt;path fill=\"#bb4e4a\" d=\"M96 54v3l-10-2-2 1-14-3-6-3-7 5-11-4-3-4q1-2 3-2 25 2 50 9\"/&gt;&lt;path fill=\"#be4f4b\" d=\"M35 51q-6-2-6 4-3 0-5 2l-4-3q-3 0-3 3l-2 3v-3q-9 0-15 2v-8l30-3q3 0 5 3\"/&gt;&lt;path fill=\"#5c2362\" d=\"m29 55-7 5q-2-4-5-3 0-3 3-3l4 3q2-2 5-2\"/&gt;&lt;path fill=\"#3d1353\" d=\"m43 47 3 4h-3l-4 6h6q0 6 1 1h3q-6 3 0 6l-1 2 4 1 8 4 2-3-2-2v-1l12 7 1-1q3 4 9 3l-1-1 2-2 4 2q-3 1-1 3l6 1q-3-1 0-2-6-3-10-8h1l13 3v12l-4-2q-3 8-11 11l-10-3q-4 1-4 4l-3 1 1 1-10 1v-2q2-2 6-1-1-4-4-3l-2-5-6 3q0-6-5-6l-5-8-3-7-12 3v-8l-6 3-7-2 4-2 2-3q3-1 5 3l7-5q0-6 6-4z\"/&gt;&lt;path fill=\"#391456\" d=\"m70 53 3 7h3l2 3q-3 0-1 3l6 5-2 2 1 1q-6 1-9-3l-11-7q-2-2 1-2l4 4h4l1 3 3-1-3-6q-1-3-4-1l-1-5q0-2 2-1l-4-3-1 5q-5 2-4 8v1l-3-2v3h-5l-4-1 1-2q-6-3 0-6h-3q-1 5-1-1h-6l4-6h3l11 4 7-5z\"/&gt;&lt;path fill=\"#cc5b47\" d=\"M96 57v13l-13-3q-2-4-5-4l-2-3h-3l-3-7 2-1 14 3z\"/&gt;&lt;path fill=\"#cc5946\" d=\"m15 60-4 2q-4 0-6 3l-5 1v-7q6-2 15-2z\"/&gt;&lt;path fill=\"#742c69\" d=\"m73 71-1 1-12-7q-1-6 4-8l1-5 4 3q-2-1-2 1l1 5q3-2 4 1l3 6-3 1-1-3h-4l-4-4q-3 0-1 2z\"/&gt;&lt;path fill=\"#401353\" d=\"m49 87-4-1-7 3-5-3q1-3-1-4v3q-3-1-4 1v-4q4-1 4-6l-4-1q1-2-1-2l-1 2q-4-1-5 3l-3-4-3-7q0-4 3-3l6-3v8l12-3 3 7 5 8q5 0 5 6\"/&gt;&lt;path fill=\"#3c1252\" d=\"m11 62 7 2q-3-1-3 3l3 7-5-2-8 4 1 4-2 1q2 3 5 1l2 7 6 4-10 3H0V66l5-1q2-3 6-3\"/&gt;&lt;path fill=\"#662461\" d=\"m60 66 2 2-2 3-8-4h5v-3z\"/&gt;&lt;path fill=\"#6d2c60\" d=\"M78 63q3 0 5 4h-1q4 5 10 8-3 1 0 2l-6-1q-2-2 1-3l-4-2-6-5q-2-3 1-3\"/&gt;&lt;path fill=\"#3f1350\" d=\"m18 74 3 4q1-4 5-3l1-2q2 0 1 2l4 1q0 5-4 6v4q1-2 4-1v-3q2 1 1 4l5 3 7-3 4 1 6-3 2 5q3-1 4 3-4-1-6 1H17l-6-4-2-7q-3 2-5-1l2-1-1-4 8-4z\"/&gt;&lt;path fill=\"#401253\" d=\"M96 82v14H7l10-3h38v2l10-1-1-1 3-1q0-3 4-4l10 3q8-3 11-11z\"/&gt;&lt;/svg&gt;</td>\n",
       "      <td>./data/eval_models_png/1.png</td>\n",
       "      <td>4.932559</td>\n",
       "    </tr>\n",
       "    <tr>\n",
       "      <th>2</th>\n",
       "      <td>2</td>\n",
       "      <td>A tree composed of interlocking hexagons stands amidst drifting mist.</td>\n",
       "      <td>0.9965</td>\n",
       "      <td>&lt;svg xmlns=\"http://www.w3.org/2000/svg\" clip-rule=\"evenodd\" image-rendering=\"optimizeQuality\" shape-rendering=\"geometricPrecision\" text-rendering=\"geometricPrecision\" viewBox=\"0 0 96 96\"&gt;&lt;path fill=\"#fcfdfd\" d=\"M0 0h96v96H22l9-10 4-1 3 3 12 3 3-3q4 4 11 1l2-6-2-1q5-2 7-7l1 2q7-6 9-14h5l-1-3q-4 3-10 1l-3 3-1-2q-2 6-7 3 4-3-1-5l15-10v-3l3 1 1 3q3-3 0-6-6-2-11 1l-5-4h-2q8-6-1-2l-1-4-2 1v-1q2-5-2-2l-5-9q-2 3-5 0l-6 4q-5-5-2 2v1q-5 1-7 6h-3v7q3 3-1 5-3-2-5-1 0-6-5-5l-2 9q-2-6-5-1v2q-3-4-7-6l2-1q-3-1-5 2l-2-2z\"/&gt;&lt;path fill=\"#e3eced\" d=\"M60 36q-5-3-4 3zl2-1 1 4q-4 2-4 6l-3-1q-1 2 2 3v1h-3v-6q1-6-4-4v4h3l-3 3q-3-8-7-1-1-3 2-4-3-3-6-2-1 3 2 6-4 2-3 6l-1-1-1-4q1-3-2-2v-3q3 3 3-2 0-2 2-2 4 1 2-2l8 3 1-3q3 2 5-3-1-2-3-2-3 1-3 4h-4q-1-6-6-3-3-7 2-2l6-4q3 3 5 0l5 9q4-3 2 2\"/&gt;&lt;path fill=\"#a0d0d9\" d=\"M50 38v-4q0-3 3-4 2 0 3 2-2 5-5 3z\"/&gt;&lt;path fill=\"#698a8c\" d=\"M50 34v4l-8-3q-3-1-2-3v-1q5-3 6 3z\"/&gt;&lt;path fill=\"#749396\" d=\"m60 36-4 2q-1-6 4-3\"/&gt;&lt;path fill=\"#f7fafa\" d=\"M40 32q-1 2 2 3 2 3-2 2-2 0-2 2-3-1-3 2v3q3-1 2 2l-2-1q-2 2-1 5h4l1 1-1 7h4l1 5q-4 4-9 4l-1 5-3 1q6 5 11 0l2 1q3-3 2-7 4-1 7-6l8 1v-4q6-4 2-9l-6 1 2-1v-1l1-2q0-4 4-6 9-4 1 2h2l5 4q5-3 11-1 3 3 0 6l-1-3-3-1v3L63 60q5 2 1 5 5 3 7-3l1 2 3-3q6 2 10-1l1 3h-5q-2 8-9 14l-1-2q-2 5-7 7l2 1-2 6q-7 3-11-1l-3 3-12-3-3-3-4 1-9 10H0V47l2 2q2-3 5-2l-2 1q4 2 7 6v-2q3-5 5 1l2-9q5-1 5 5 2-1 5 1 4-2 1-5v-7h3q2-5 7-6\"/&gt;&lt;path fill=\"#709195\" d=\"M38 39q0 5-3 2 0-3 3-2\"/&gt;&lt;path fill=\"#81b4be\" d=\"M55 43h-4v-4q5-2 4 4\"/&gt;&lt;path fill=\"#627d81\" d=\"m51 46-3 2-2 4-1-3-3-4q-3-3-2-6 3-1 6 2-3 1-2 4 4-7 7 1\"/&gt;&lt;path fill=\"#81a4a8\" d=\"m59 46-1 2q-3-1-2-3z\"/&gt;&lt;path fill=\"#7ca1aa\" d=\"m37 46 1 4h-4q-1-3 1-5z\"/&gt;&lt;path fill=\"#eff6f7\" d=\"M54 43v6h3l-2 1 6-1q4 5-2 9v4l-8-1q-3 5-7 6 1 4-2 7l-2-1q-5 5-11 0l3-1 1-5q5 0 9-4l-1-5h-4l1-7q-1-4 3-6l3 4q1 9 7 1l-1-1q-3 3-3-1l3-2z\"/&gt;&lt;path fill=\"#acc3c7\" d=\"M48 48q0 4 3 1l1 1q-6 8-7-1l1 3z\"/&gt;&lt;/svg&gt;</td>\n",
       "      <td>./data/eval_models_png/2.png</td>\n",
       "      <td>3.590762</td>\n",
       "    </tr>\n",
       "    <tr>\n",
       "      <th>3</th>\n",
       "      <td>3</td>\n",
       "      <td>Lavender desert stretching endlessly under moonlight.</td>\n",
       "      <td>0.9975</td>\n",
       "      <td>&lt;svg xmlns=\"http://www.w3.org/2000/svg\" clip-rule=\"evenodd\" image-rendering=\"optimizeQuality\" shape-rendering=\"geometricPrecision\" text-rendering=\"geometricPrecision\" viewBox=\"0 0 96 96\"&gt;&lt;path fill=\"#e3cac5\" d=\"M0 0h24l-4 2q6 3 2 9l2 3-4 6v11l2 5 9 2H12q-6-3-12-2z\"/&gt;&lt;path fill=\"#e6cfca\" d=\"M24 0h18l16 3 9-1 3 2-1 2q6 7-2 5 0 2 3 2-5 2-5 6v6q3 4 0 7v4l6 2-14 1-35-3-2-5V20l4-6-2-3q4-6-2-9z\"/&gt;&lt;path fill=\"#e5ccc7\" d=\"M42 0h54v38H71l-6-2v-4q3-3 0-7v-6q0-4 5-6-3 0-3-2 8 2 2-5l1-2-3-2-9 1z\"/&gt;&lt;path fill=\"#f2efeb\" d=\"M47 18q5-1 3 4-6 0-3-4\"/&gt;&lt;path fill=\"#d18475\" d=\"M12 39v-1h19l26 1v2H34q-10-2-19-1-1-2-3-1\"/&gt;&lt;path fill=\"#cd9490\" d=\"M71 38h25v2l-8-1v3l-22-2-9 1v-2z\"/&gt;&lt;path fill=\"#ca9fa1\" d=\"M96 53v16l-9 9q-2 0-1 3l-10 1 1 1q-3 2-3 5l-6-1-2 1v3q-3-3-7-3-2 0-1 3l-7-5-1 1q-1-3 1-5l-1-1q-2 0-2 3l-1-4q-5 5-12 6l-3 3h-3q-4 1 0 4-5-1-8 1l2 2H0V63q2 0 3 2l1-2q4 2 4 7 3 3 0 4 3 5 4-1l7 3 5-3 2 2 15-5 3 6 1-3 1 4q2-1 3 2 4-4 11-6-1 2 1 3l4-2 6 1q8-4 18-6l-4-2q5-2-1-2 3-9 12-12\"/&gt;&lt;path fill=\"#c7999a\" d=\"M0 36q6-1 12 2v1H6l-2 5q0 2 2 3-2 1-2 4l1 9 11-2q8-1 15 2 3-2 8-1l1 2 4-4h3q3 2-1 3l2 5q0-3 2-3h1l-3 4 18-1q2-3 6-2-6-1-1-4l9-2-6-2h5q5-2 11-1l-2-6h4l-1-6h-3v-3l8 1v13q-9 3-12 12 6 0 1 2l4 2q-10 2-18 6l-6-1-4 2q-2-1-1-3-7 2-11 6-1-3-3-2l-1-4-1 3-3-6-15 5-2-2-5 3-7-3q-1 6-4 1 3-1 0-4 0-5-4-7l-1 2q-1-2-3-2z\"/&gt;&lt;path fill=\"#6f5175\" d=\"m79 51 1 2q-2 0-1 2h-5l-1-2v-3l4-1z\"/&gt;&lt;path fill=\"#342459\" d=\"M79 51q-2 4-5 1 2-2 5-1\"/&gt;&lt;path fill=\"#c29192\" d=\"M66 50q4-1 7 3l1 2 6 2-9 2q-5 3 1 4-4-1-6 2l-18 1 3-4h-1q-2 0-2 3l-2-5q4-1 1-3h-3l-4 4-1-2q-5-1-8 1-7-3-15-2-1-3 1-5a257 257 0 0052-2z\"/&gt;&lt;path fill=\"#cd9387\" d=\"M47 48h9l1 1 9 1 3 1-14 2z\"/&gt;&lt;path fill=\"#be8c96\" d=\"M88 42h3l1 6h-4l2 6q-6-1-11 1-1-2 1-2l1-5q-9-3-16-1-6-3-9-1-10-4-21-3l-1-2h23l9-1z\"/&gt;&lt;path fill=\"#684a6c\" d=\"M56 47q2-1 3 1l-2 1z\"/&gt;&lt;path fill=\"#ae7d92\" d=\"m80 53-1-2-2-2-4 1v3q-3-4-7-3l-9-1 2-1q-1-2-3-1v-1q3-2 9 1 7-2 16 1z\"/&gt;&lt;path fill=\"#d89a84\" d=\"M35 43q11-1 21 3v2h-9l-12-3q-9-2 0-2\"/&gt;&lt;path fill=\"#bc8e98\" d=\"M12 39q2-1 3 1-4-1-1 2l8 3q-4 2 0 3 3-2 8 1l1-2q2 3 6 1-2-1-2-3l12 3 8 5H17q-2 2-1 5L5 60l-1-9q0-3 2-4-2-1-2-3l2-5z\"/&gt;&lt;path fill=\"#b4879a\" d=\"M15 40q9-1 19 1l1 2q-9 0 0 2 0 2 2 3-4 2-6-1l-1 2q-5-3-8-1-4-1 0-3l-8-3q-3-3 1-2\"/&gt;&lt;path fill=\"#7e5e86\" d=\"M26 44q2-1 3 1-3 1-3-1\"/&gt;&lt;path fill=\"#cda4a3\" d=\"M96 69v27H23l-2-2q3-2 8-1-4-3 0-4h3l3-3q7-1 12-6l1 4q0-3 2-3l1 1q-2 2-1 5l1-1 7 5q-1-3 1-3 4 0 7 3v-3l2-1 6 1q0-3 3-5l-1-1 10-1q-1-3 1-3z\"/&gt;&lt;/svg&gt;</td>\n",
       "      <td>./data/eval_models_png/3.png</td>\n",
       "      <td>4.827085</td>\n",
       "    </tr>\n",
       "    <tr>\n",
       "      <th>4</th>\n",
       "      <td>4</td>\n",
       "      <td>A gradient amber, peach, and cobalt sky over ebony mountains.</td>\n",
       "      <td>0.9997</td>\n",
       "      <td>&lt;svg xmlns=\"http://www.w3.org/2000/svg\" clip-rule=\"evenodd\" image-rendering=\"optimizeQuality\" shape-rendering=\"geometricPrecision\" text-rendering=\"geometricPrecision\" viewBox=\"0 0 96 96\"&gt;&lt;path fill=\"#f99865\" d=\"M0 0h96v62l-25-9-23 7q-6-4-12 0l-14-6-13 5q-6-2-9 1z\"/&gt;&lt;path fill=\"#151a35\" d=\"m36 60 20 6q5-2 9-1 16 8 31 18v13H0V64l9-5 13-5z\"/&gt;&lt;path fill=\"#f18553\" d=\"M96 62v21Q81 73 65 65q-4-1-9 1l-20-6q6-4 12 0l23-7z\"/&gt;&lt;path fill=\"#f37849\" d=\"m9 59-9 5v-4q3-3 9-1\"/&gt;&lt;/svg&gt;</td>\n",
       "      <td>./data/eval_models_png/4.png</td>\n",
       "      <td>4.674364</td>\n",
       "    </tr>\n",
       "  </tbody>\n",
       "</table>\n",
       "</div>"
      ]
     },
     "execution_count": 43,
     "metadata": {},
     "output_type": "execute_result"
    }
   ],
   "execution_count": 43
  },
  {
   "metadata": {},
   "cell_type": "markdown",
   "source": "#### Генерируем SVG сами из датасета",
   "id": "cde70465bb94f0"
  },
  {
   "metadata": {
    "ExecuteTime": {
     "end_time": "2025-05-19T18:02:40.479789Z",
     "start_time": "2025-05-19T18:02:31.251434Z"
    }
   },
   "cell_type": "code",
   "source": [
    "model_name = \"Qwen/Qwen3-8B\"\n",
    "tokenizer = AutoTokenizer.from_pretrained(model_name)\n",
    "model = AutoModelForCausalLM.from_pretrained(\n",
    "    model_name,\n",
    "    torch_dtype=torch.bfloat16,\n",
    "    device_map=\"cuda\",\n",
    "    attn_implementation=\"flash_attention_2\" #поменять\n",
    ")\n",
    "model.bfloat16()"
   ],
   "id": "593897eb1313b9a3",
   "outputs": [
    {
     "data": {
      "text/plain": [
       "tokenizer_config.json:   0%|          | 0.00/9.73k [00:00<?, ?B/s]"
      ],
      "application/vnd.jupyter.widget-view+json": {
       "version_major": 2,
       "version_minor": 0,
       "model_id": "1067dea7df504edf8f23105140239090"
      }
     },
     "metadata": {},
     "output_type": "display_data"
    },
    {
     "data": {
      "text/plain": [
       "Fetching 5 files:   0%|          | 0/5 [00:00<?, ?it/s]"
      ],
      "application/vnd.jupyter.widget-view+json": {
       "version_major": 2,
       "version_minor": 0,
       "model_id": "5d7f930a5a9f49a9bc0d8a18fe9ac28f"
      }
     },
     "metadata": {},
     "output_type": "display_data"
    },
    {
     "data": {
      "text/plain": [
       "Loading checkpoint shards:   0%|          | 0/5 [00:00<?, ?it/s]"
      ],
      "application/vnd.jupyter.widget-view+json": {
       "version_major": 2,
       "version_minor": 0,
       "model_id": "8682ea2e30594d33816f673f7ee79e97"
      }
     },
     "metadata": {},
     "output_type": "display_data"
    },
    {
     "data": {
      "text/plain": [
       "Qwen3ForCausalLM(\n",
       "  (model): Qwen3Model(\n",
       "    (embed_tokens): Embedding(151936, 4096)\n",
       "    (layers): ModuleList(\n",
       "      (0-35): 36 x Qwen3DecoderLayer(\n",
       "        (self_attn): Qwen3Attention(\n",
       "          (q_proj): Linear(in_features=4096, out_features=4096, bias=False)\n",
       "          (k_proj): Linear(in_features=4096, out_features=1024, bias=False)\n",
       "          (v_proj): Linear(in_features=4096, out_features=1024, bias=False)\n",
       "          (o_proj): Linear(in_features=4096, out_features=4096, bias=False)\n",
       "          (q_norm): Qwen3RMSNorm((128,), eps=1e-06)\n",
       "          (k_norm): Qwen3RMSNorm((128,), eps=1e-06)\n",
       "        )\n",
       "        (mlp): Qwen3MLP(\n",
       "          (gate_proj): Linear(in_features=4096, out_features=12288, bias=False)\n",
       "          (up_proj): Linear(in_features=4096, out_features=12288, bias=False)\n",
       "          (down_proj): Linear(in_features=12288, out_features=4096, bias=False)\n",
       "          (act_fn): SiLU()\n",
       "        )\n",
       "        (input_layernorm): Qwen3RMSNorm((4096,), eps=1e-06)\n",
       "        (post_attention_layernorm): Qwen3RMSNorm((4096,), eps=1e-06)\n",
       "      )\n",
       "    )\n",
       "    (norm): Qwen3RMSNorm((4096,), eps=1e-06)\n",
       "    (rotary_emb): Qwen3RotaryEmbedding()\n",
       "  )\n",
       "  (lm_head): Linear(in_features=4096, out_features=151936, bias=False)\n",
       ")"
      ]
     },
     "execution_count": 44,
     "metadata": {},
     "output_type": "execute_result"
    }
   ],
   "execution_count": 44
  },
  {
   "metadata": {
    "ExecuteTime": {
     "end_time": "2025-05-19T18:02:40.508487Z",
     "start_time": "2025-05-19T18:02:40.506421Z"
    }
   },
   "cell_type": "code",
   "source": "tokenizer.padding_side  = 'left'",
   "id": "496b254811e2e959",
   "outputs": [],
   "execution_count": 45
  },
  {
   "metadata": {
    "ExecuteTime": {
     "end_time": "2025-05-19T18:02:40.552953Z",
     "start_time": "2025-05-19T18:02:40.550897Z"
    }
   },
   "cell_type": "code",
   "source": "optional_prompt = \"The SVG scene should be of the following dimensions 256*256. First, think about the scene, about the objects on the stage and their characteristics. Make sure that all tags are closed and the svg is correct! Answer is only SVG without comments!\"",
   "id": "48cbf541c0253bef",
   "outputs": [],
   "execution_count": 46
  },
  {
   "metadata": {
    "ExecuteTime": {
     "end_time": "2025-05-19T18:02:40.697306Z",
     "start_time": "2025-05-19T18:02:40.617210Z"
    }
   },
   "cell_type": "code",
   "source": [
    "def get_sample(row):\n",
    "    user_content_prompt = f\"Generate SVG image from description <{row.sentence[:-1]}>. {optional_prompt}\"\n",
    "    return [{\"role\": \"user\", \"content\": user_content_prompt}]\n",
    "\n",
    "\n",
    "eval_dataset[\"eval_data\"] = eval_dataset.apply(get_sample, axis=1)"
   ],
   "id": "8b8f8fe3106d6f13",
   "outputs": [],
   "execution_count": 47
  },
  {
   "metadata": {
    "ExecuteTime": {
     "end_time": "2025-05-19T18:02:40.729464Z",
     "start_time": "2025-05-19T18:02:40.725507Z"
    }
   },
   "cell_type": "code",
   "source": "eval_dataset.eval_data[1:3]",
   "id": "9e64a72b21cb9edf",
   "outputs": [
    {
     "data": {
      "text/plain": [
       "1    [{'role': 'user', 'content': 'Generate SVG image from description <Sharp mountain silhouettes stand amidst a gradient violet to amber sky>. The SVG scene should be of the following dimensions 256*256. First, think about the scene, about the objects on the stage and their characteristics. Make sure that all tags are closed and the svg is correct! Answer is only SVG without comments!'}]\n",
       "2      [{'role': 'user', 'content': 'Generate SVG image from description <A tree composed of interlocking hexagons stands amidst drifting mist>. The SVG scene should be of the following dimensions 256*256. First, think about the scene, about the objects on the stage and their characteristics. Make sure that all tags are closed and the svg is correct! Answer is only SVG without comments!'}]\n",
       "Name: eval_data, dtype: object"
      ]
     },
     "execution_count": 48,
     "metadata": {},
     "output_type": "execute_result"
    }
   ],
   "execution_count": 48
  },
  {
   "metadata": {
    "ExecuteTime": {
     "end_time": "2025-05-19T18:02:40.818364Z",
     "start_time": "2025-05-19T18:02:40.781972Z"
    }
   },
   "cell_type": "code",
   "source": "dataset = Dataset.from_dict({\"query\": list(eval_dataset[\"eval_data\"])})",
   "id": "f232bfe55b75dbe8",
   "outputs": [],
   "execution_count": 49
  },
  {
   "metadata": {
    "ExecuteTime": {
     "end_time": "2025-05-19T18:02:40.860924Z",
     "start_time": "2025-05-19T18:02:40.857739Z"
    }
   },
   "cell_type": "code",
   "source": "dataset[1]['query']",
   "id": "d1cb8a8343e29b3",
   "outputs": [
    {
     "data": {
      "text/plain": [
       "[{'content': 'Generate SVG image from description <Sharp mountain silhouettes stand amidst a gradient violet to amber sky>. The SVG scene should be of the following dimensions 256*256. First, think about the scene, about the objects on the stage and their characteristics. Make sure that all tags are closed and the svg is correct! Answer is only SVG without comments!',\n",
       "  'role': 'user'}]"
      ]
     },
     "execution_count": 50,
     "metadata": {},
     "output_type": "execute_result"
    }
   ],
   "execution_count": 50
  },
  {
   "metadata": {
    "ExecuteTime": {
     "end_time": "2025-05-19T18:02:42.348970Z",
     "start_time": "2025-05-19T18:02:40.966276Z"
    }
   },
   "cell_type": "code",
   "source": "dataset = dataset.map(lambda x: {\"formatted_query\": tokenizer.apply_chat_template(x[\"query\"], tokenize=False, add_generation_prompt=True, enable_thinking=False)}, remove_columns=[\"query\"])",
   "id": "f4ae0791fb172d53",
   "outputs": [
    {
     "data": {
      "text/plain": [
       "Map:   0%|          | 0/11170 [00:00<?, ? examples/s]"
      ],
      "application/vnd.jupyter.widget-view+json": {
       "version_major": 2,
       "version_minor": 0,
       "model_id": "83a5b7cc98c3431f8d693fba49933ab8"
      }
     },
     "metadata": {},
     "output_type": "display_data"
    }
   ],
   "execution_count": 51
  },
  {
   "metadata": {
    "ExecuteTime": {
     "end_time": "2025-05-19T18:02:42.385718Z",
     "start_time": "2025-05-19T18:02:42.371054Z"
    }
   },
   "cell_type": "code",
   "source": "print(dataset['formatted_query'][0])",
   "id": "88b6ebe736bd8f7e",
   "outputs": [
    {
     "name": "stdout",
     "output_type": "stream",
     "text": [
      "<|im_start|>user\n",
      "Generate SVG image from description <An indigo hexagon bloom glistens with morning dew>. The SVG scene should be of the following dimensions 256*256. First, think about the scene, about the objects on the stage and their characteristics. Make sure that all tags are closed and the svg is correct! Answer is only SVG without comments!<|im_end|>\n",
      "<|im_start|>assistant\n",
      "<think>\n",
      "\n",
      "</think>\n",
      "\n",
      "\n"
     ]
    }
   ],
   "execution_count": 52
  },
  {
   "metadata": {
    "ExecuteTime": {
     "end_time": "2025-05-19T18:02:43.658507Z",
     "start_time": "2025-05-19T18:02:42.441900Z"
    }
   },
   "cell_type": "code",
   "source": [
    "def preprocess_function(examples):\n",
    "    return tokenizer(examples[\"formatted_query\"], padding=False, truncation=False)\n",
    "tokenized_dataset = dataset.map(\n",
    "    preprocess_function,\n",
    "    batched=True,\n",
    "    num_proc=4,\n",
    "    remove_columns=[\"formatted_query\"]\n",
    ")"
   ],
   "id": "2c699e1a4cc364cf",
   "outputs": [
    {
     "data": {
      "text/plain": [
       "Map (num_proc=4):   0%|          | 0/11170 [00:00<?, ? examples/s]"
      ],
      "application/vnd.jupyter.widget-view+json": {
       "version_major": 2,
       "version_minor": 0,
       "model_id": "dab206a8dbf145cba513620e70ac23a7"
      }
     },
     "metadata": {},
     "output_type": "display_data"
    }
   ],
   "execution_count": 53
  },
  {
   "metadata": {
    "ExecuteTime": {
     "end_time": "2025-05-19T18:02:43.694Z",
     "start_time": "2025-05-19T18:02:43.690153Z"
    }
   },
   "cell_type": "code",
   "source": "len(tokenized_dataset[0]['input_ids']), len(tokenized_dataset[1]['input_ids'])",
   "id": "b745ef46cc977ea4",
   "outputs": [
    {
     "data": {
      "text/plain": [
       "(86, 87)"
      ]
     },
     "execution_count": 54,
     "metadata": {},
     "output_type": "execute_result"
    }
   ],
   "execution_count": 54
  },
  {
   "metadata": {
    "ExecuteTime": {
     "end_time": "2025-05-19T18:02:43.744225Z",
     "start_time": "2025-05-19T18:02:43.741030Z"
    }
   },
   "cell_type": "code",
   "source": "print(tokenizer.batch_decode(tokenized_dataset[0]['input_ids'], skip_special_tokens=True))",
   "id": "5e8c1459bbb5bace",
   "outputs": [
    {
     "name": "stdout",
     "output_type": "stream",
     "text": [
      "['', 'user', '\\n', 'Generate', ' SVG', ' image', ' from', ' description', ' <', 'An', ' ind', 'igo', ' hex', 'agon', ' bloom', ' g', 'list', 'ens', ' with', ' morning', ' dew', '>.', ' The', ' SVG', ' scene', ' should', ' be', ' of', ' the', ' following', ' dimensions', ' ', '2', '5', '6', '*', '2', '5', '6', '.', ' First', ',', ' think', ' about', ' the', ' scene', ',', ' about', ' the', ' objects', ' on', ' the', ' stage', ' and', ' their', ' characteristics', '.', ' Make', ' sure', ' that', ' all', ' tags', ' are', ' closed', ' and', ' the', ' svg', ' is', ' correct', '!', ' Answer', ' is', ' only', ' SVG', ' without', ' comments', '!', '', '\\n', '', 'assistant', '\\n', '<think>', '\\n\\n', '</think>', '\\n\\n']\n"
     ]
    }
   ],
   "execution_count": 55
  },
  {
   "metadata": {
    "ExecuteTime": {
     "end_time": "2025-05-19T18:02:43.812221Z",
     "start_time": "2025-05-19T18:02:43.809507Z"
    }
   },
   "cell_type": "code",
   "source": [
    "from transformers import DataCollatorWithPadding\n",
    "data_collator = DataCollatorWithPadding(tokenizer=tokenizer)\n",
    "\n",
    "# Создаем DataLoader\n",
    "dataloader = DataLoader(\n",
    "    tokenized_dataset,\n",
    "    batch_size=32,\n",
    "    shuffle=False,\n",
    "    collate_fn=data_collator,\n",
    ")"
   ],
   "id": "9444e060b48b3f6c",
   "outputs": [],
   "execution_count": 56
  },
  {
   "metadata": {
    "ExecuteTime": {
     "end_time": "2025-05-19T18:02:43.861037Z",
     "start_time": "2025-05-19T18:02:43.854860Z"
    }
   },
   "cell_type": "code",
   "source": "model.eval()",
   "id": "cf469938ba4c2964",
   "outputs": [
    {
     "data": {
      "text/plain": [
       "Qwen3ForCausalLM(\n",
       "  (model): Qwen3Model(\n",
       "    (embed_tokens): Embedding(151936, 4096)\n",
       "    (layers): ModuleList(\n",
       "      (0-35): 36 x Qwen3DecoderLayer(\n",
       "        (self_attn): Qwen3Attention(\n",
       "          (q_proj): Linear(in_features=4096, out_features=4096, bias=False)\n",
       "          (k_proj): Linear(in_features=4096, out_features=1024, bias=False)\n",
       "          (v_proj): Linear(in_features=4096, out_features=1024, bias=False)\n",
       "          (o_proj): Linear(in_features=4096, out_features=4096, bias=False)\n",
       "          (q_norm): Qwen3RMSNorm((128,), eps=1e-06)\n",
       "          (k_norm): Qwen3RMSNorm((128,), eps=1e-06)\n",
       "        )\n",
       "        (mlp): Qwen3MLP(\n",
       "          (gate_proj): Linear(in_features=4096, out_features=12288, bias=False)\n",
       "          (up_proj): Linear(in_features=4096, out_features=12288, bias=False)\n",
       "          (down_proj): Linear(in_features=12288, out_features=4096, bias=False)\n",
       "          (act_fn): SiLU()\n",
       "        )\n",
       "        (input_layernorm): Qwen3RMSNorm((4096,), eps=1e-06)\n",
       "        (post_attention_layernorm): Qwen3RMSNorm((4096,), eps=1e-06)\n",
       "      )\n",
       "    )\n",
       "    (norm): Qwen3RMSNorm((4096,), eps=1e-06)\n",
       "    (rotary_emb): Qwen3RotaryEmbedding()\n",
       "  )\n",
       "  (lm_head): Linear(in_features=4096, out_features=151936, bias=False)\n",
       ")"
      ]
     },
     "execution_count": 57,
     "metadata": {},
     "output_type": "execute_result"
    }
   ],
   "execution_count": 57
  },
  {
   "metadata": {
    "jupyter": {
     "is_executing": true
    },
    "ExecuteTime": {
     "start_time": "2025-05-19T18:02:43.882398Z"
    }
   },
   "cell_type": "code",
   "source": [
    "once_checked= False\n",
    "svg_answers = []\n",
    "for batch in tqdm(dataloader, desc=\"Генерация SVG\"):\n",
    "    batch = {k: v.to(\"cuda\") for k, v in batch.items()}\n",
    "    with torch.no_grad():\n",
    "        print()\n",
    "        outputs = model.generate(\n",
    "            input_ids=batch[\"input_ids\"],\n",
    "            attention_mask=batch[\"attention_mask\"],\n",
    "            max_new_tokens=1000\n",
    "        )\n",
    "        input_ids = batch[\"input_ids\"].cpu()\n",
    "        outputs =  outputs.cpu()\n",
    "        batch_output_ids = [\n",
    "            outputs[i][len(input_ids[i]):].tolist()\n",
    "            for i in range(input_ids.size(0))\n",
    "        ]\n",
    "    decoded_responses= tokenizer.batch_decode(batch_output_ids, skip_special_tokens=True)\n",
    "    if once_checked == False:\n",
    "        once_checked = True\n",
    "        print(\"simple check\")\n",
    "        print(decoded_responses)\n",
    "    svg_answers+=decoded_responses"
   ],
   "id": "bb90dc19ac01ce67",
   "outputs": [
    {
     "data": {
      "text/plain": [
       "Генерация SVG:   0%|          | 0/350 [00:00<?, ?it/s]"
      ],
      "application/vnd.jupyter.widget-view+json": {
       "version_major": 2,
       "version_minor": 0,
       "model_id": "cdb914d6869a46948f5cdc74ef9eb80b"
      }
     },
     "metadata": {},
     "output_type": "display_data"
    },
    {
     "name": "stdout",
     "output_type": "stream",
     "text": [
      "\n",
      "simple check\n",
      "['<svg width=\"256\" height=\"256\" viewBox=\"0 0 256 256\" xmlns=\"http://www.w3.org/2000/svg\">\\n  <defs>\\n    <linearGradient id=\"grad1\" x1=\"0\" y1=\"0\" x2=\"1\" y2=\"1\">\\n      <stop offset=\"0%\" style=\"stop-color:#4b0082;stop-opacity:1\" />\\n      <stop offset=\"100%\" style=\"stop-color:#000080;stop-opacity:1\" />\\n    </linearGradient>\\n    <radialGradient id=\"dew\" cx=\"50%\" cy=\"50%\" r=\"50%\" fx=\"50%\" fy=\"50%\">\\n      <stop offset=\"0%\" style=\"stop-color:#ffffff;stop-opacity:0.8\" />\\n      <stop offset=\"100%\" style=\"stop-color:#000000;stop-opacity:0\" />\\n    </radialGradient>\\n  </defs>\\n  <polygon points=\"128,20 176,68 224,68 176,116 128,116 80,68 32,68 80,116 128,164 176,116 224,116 176,164 128,204 80,164 32,164 80,116\" fill=\"url(#grad1)\" />\\n  <circle cx=\"128\" cy=\"128\" r=\"4\" fill=\"url(#dew)\" />\\n  <circle cx=\"136\" cy=\"128\" r=\"4\" fill=\"url(#dew)\" />\\n  <circle cx=\"144\" cy=\"128\" r=\"4\" fill=\"url(#dew)\" />\\n  <circle cx=\"112\" cy=\"128\" r=\"4\" fill=\"url(#dew)\" />\\n  <circle cx=\"104\" cy=\"128\" r=\"4\" fill=\"url(#dew)\" />\\n  <circle cx=\"96\" cy=\"128\" r=\"4\" fill=\"url(#dew)\" />\\n</svg>', '<svg width=\"256\" height=\"256\" xmlns=\"http://www.w3.org/2000/svg\">\\n  <defs>\\n    <linearGradient id=\"skyGradient\" x1=\"0\" y1=\"0\" x2=\"0\" y2=\"1\">\\n      <stop offset=\"0%\" stop-color=\"violet\" />\\n      <stop offset=\"100%\" stop-color=\"amber\" />\\n    </linearGradient>\\n  </defs>\\n  <rect width=\"256\" height=\"256\" fill=\"url(#skyGradient)\" />\\n  <path d=\"M 20 20 L 100 50 L 180 20 L 256 100 L 180 180 L 100 200 L 20 180 Z\" fill=\"black\" />\\n  <path d=\"M 50 30 L 120 60 L 170 30 L 230 100 L 170 170 L 120 200 L 50 170 Z\" fill=\"black\" />\\n  <path d=\"M 80 50 L 140 80 L 190 50 L 240 120 L 190 190 L 140 220 L 80 190 Z\" fill=\"black\" />\\n</svg>', '<svg width=\"256\" height=\"256\" viewBox=\"0 0 256 256\" xmlns=\"http://www.w3.org/2000/svg\">\\n  <defs>\\n    <style>\\n      .hex { fill: #8B4513; }\\n      .mist { fill: #AAAAAA; }\\n    </style>\\n  </defs>\\n  <g transform=\"translate(128,128)\">\\n    <polygon class=\"hex\" points=\"0,-60 26,-30 26,30 0,60 -26,30 -26,-30\"/>\\n    <polygon class=\"hex\" points=\"26,-30 52,-60 52,0 26,30 0,0 -26,30\"/>\\n    <polygon class=\"hex\" points=\"26,30 52,0 52,60 26,90 0,60 -26,30\"/>\\n    <polygon class=\"hex\" points=\"-26,-30 -52,-60 -52,0 -26,30 0,0 26,-30\"/>\\n    <polygon class=\"hex\" points=\"-26,30 -52,0 -52,60 -26,90 0,60 26,30\"/>\\n    <polygon class=\"hex\" points=\"0,60 26,90 -26,90 -52,60 -52,0 -26,30\"/>\\n    <polygon class=\"hex\" points=\"0,-60 26,-30 -26,-30 -52,0 -52,60 -26,90\"/>\\n  </g>\\n  <g>\\n    <ellipse class=\"mist\" cx=\"128\" cy=\"128\" rx=\"120\" ry=\"100\" opacity=\"0.6\"/>\\n    <ellipse class=\"mist\" cx=\"128\" cy=\"128\" rx=\"100\" ry=\"80\" opacity=\"0.4\"/>\\n    <ellipse class=\"mist\" cx=\"128\" cy=\"128\" rx=\"80\" ry=\"60\" opacity=\"0.2\"/>\\n  </g>\\n</svg>', '<svg width=\"256\" height=\"256\" xmlns=\"http://www.w3.org/2000/svg\">\\n  <rect width=\"256\" height=\"256\" fill=\"#e6e6fa\"/>\\n  <rect x=\"0\" y=\"100\" width=\"256\" height=\"156\" fill=\"#f8f0ff\"/>\\n  <circle cx=\"128\" cy=\"100\" r=\"80\" fill=\"#c8a2c8\"/>\\n  <circle cx=\"128\" cy=\"100\" r=\"60\" fill=\"#d8b8d8\"/>\\n  <circle cx=\"128\" cy=\"100\" r=\"40\" fill=\"#e6e6fa\"/>\\n  <circle cx=\"128\" cy=\"100\" r=\"20\" fill=\"#f8f0ff\"/>\\n  <circle cx=\"128\" cy=\"100\" r=\"10\" fill=\"#fff\"/>\\n  <ellipse cx=\"128\" cy=\"150\" rx=\"100\" ry=\"50\" fill=\"#e6e6fa\"/>\\n  <ellipse cx=\"128\" cy=\"150\" rx=\"80\" ry=\"40\" fill=\"#f8f0ff\"/>\\n  <ellipse cx=\"128\" cy=\"150\" rx=\"60\" ry=\"30\" fill=\"#d8b8d8\"/>\\n  <ellipse cx=\"128\" cy=\"150\" rx=\"40\" ry=\"20\" fill=\"#c8a2c8\"/>\\n  <ellipse cx=\"128\" cy=\"150\" rx=\"20\" ry=\"10\" fill=\"#b080b0\"/>\\n  <circle cx=\"128\" cy=\"200\" r=\"50\" fill=\"#d8b8d8\"/>\\n  <circle cx=\"128\" cy=\"200\" r=\"30\" fill=\"#e6e6fa\"/>\\n  <circle cx=\"128\" cy=\"200\" r=\"10\" fill=\"#fff\"/>\\n  <rect x=\"50\" y=\"180\" width=\"156\" height=\"20\" fill=\"#c8a2c8\"/>\\n  <rect x=\"70\" y=\"190\" width=\"116\" height=\"10\" fill=\"#d8b8d8\"/>\\n  <rect x=\"90\" y=\"200\" width=\"76\" height=\"6\" fill=\"#e6e6fa\"/>\\n  <rect x=\"110\" y=\"206\" width=\"36\" height=\"4\" fill=\"#fff\"/>\\n  <circle cx=\"128\" cy=\"240\" r=\"10\" fill=\"#fff\"/>\\n</svg>', '<svg width=\"256\" height=\"256\" xmlns=\"http://www.w3.org/2000/svg\">\\n  <defs>\\n    <linearGradient id=\"skyGradient\" x1=\"0\" y1=\"0\" x2=\"0\" y2=\"1\">\\n      <stop offset=\"0%\" stop-color=\"amber\" />\\n      <stop offset=\"50%\" stop-color=\"peachpuff\" />\\n      <stop offset=\"100%\" stop-color=\"cornflowerblue\" />\\n    </linearGradient>\\n  </defs>\\n  <rect width=\"256\" height=\"256\" fill=\"url(#skyGradient)\" />\\n  <polygon points=\"0,256 256,256 256,150 0,150\" fill=\"black\" />\\n</svg>', '<svg width=\"256\" height=\"256\" xmlns=\"http://www.w3.org/2000/svg\">\\n  <defs>\\n    <linearGradient id=\"skyGradient\" x1=\"0\" y1=\"0\" x2=\"0\" y2=\"1\">\\n      <stop offset=\"0%\" stop-color=\"#87CEEB\"/>\\n      <stop offset=\"100%\" stop-color=\"#00008B\"/>\\n    </linearGradient>\\n  </defs>\\n  <rect width=\"256\" height=\"256\" fill=\"url(#skyGradient)\"/>\\n  <polygon points=\"0,256 256,256 256,150 0,150\" fill=\"#D2691E\"/>\\n  <polygon points=\"0,150 256,150 256,100 0,100\" fill=\"#FFB612\"/>\\n  <polygon points=\"0,100 256,100 256,50 0,50\" fill=\"#FF8C00\"/>\\n  <polygon points=\"0,50 256,50 256,0 0,0\" fill=\"#FF4500\"/>\\n  <path d=\"M10,250 Q50,200 100,250 T200,250 Q150,200 100,250 T10,250\" fill=\"black\"/>\\n</svg>', '<svg width=\"256\" height=\"256\" xmlns=\"http://www.w3.org/2000/svg\">\\n  <rect width=\"256\" height=\"256\" fill=\"#87CEEB\"/>\\n  <path d=\"M 20 20 C 50 50 100 50 130 20 C 160 50 210 50 240 20\" fill=\"none\" stroke=\"#6B8E23\" stroke-width=\"4\"/>\\n  <circle cx=\"40\" cy=\"40\" r=\"8\" fill=\"#50C878\"/>\\n  <circle cx=\"60\" cy=\"60\" r=\"8\" fill=\"#50C878\"/>\\n  <circle cx=\"80\" cy=\"80\" r=\"8\" fill=\"#50C878\"/>\\n  <circle cx=\"100\" cy=\"100\" r=\"8\" fill=\"#50C878\"/>\\n  <circle cx=\"120\" cy=\"120\" r=\"8\" fill=\"#50C878\"/>\\n  <circle cx=\"140\" cy=\"140\" r=\"8\" fill=\"#50C878\"/>\\n  <circle cx=\"160\" cy=\"160\" r=\"8\" fill=\"#50C878\"/>\\n  <circle cx=\"180\" cy=\"180\" r=\"8\" fill=\"#50C878\"/>\\n  <circle cx=\"200\" cy=\"200\" r=\"8\" fill=\"#50C878\"/>\\n</svg>', '<svg width=\"256\" height=\"256\" viewBox=\"0 0 256 256\" xmlns=\"http://www.w3.org/2000/svg\">\\n  <circle cx=\"128\" cy=\"128\" r=\"128\" fill=\"black\" />\\n  <circle cx=\"128\" cy=\"128\" r=\"112\" fill=\"white\" />\\n  <circle cx=\"128\" cy=\"128\" r=\"96\" fill=\"black\" />\\n  <circle cx=\"128\" cy=\"128\" r=\"80\" fill=\"white\" />\\n  <circle cx=\"128\" cy=\"128\" r=\"64\" fill=\"black\" />\\n  <circle cx=\"128\" cy=\"128\" r=\"48\" fill=\"white\" />\\n  <circle cx=\"128\" cy=\"128\" r=\"32\" fill=\"black\" />\\n  <circle cx=\"128\" cy=\"128\" r=\"16\" fill=\"white\" />\\n  <circle cx=\"128\" cy=\"128\" r=\"8\" fill=\"black\" />\\n  <circle cx=\"128\" cy=\"128\" r=\"4\" fill=\"white\" />\\n  <circle cx=\"128\" cy=\"128\" r=\"2\" fill=\"black\" />\\n  <circle cx=\"128\" cy=\"128\" r=\"1\" fill=\"white\" />\\n  <circle cx=\"128\" cy=\"128\" r=\"0.5\" fill=\"black\" />\\n  <circle cx=\"128\" cy=\"128\" r=\"0.25\" fill=\"white\" />\\n  <circle cx=\"128\" cy=\"128\" r=\"0.125\" fill=\"black\" />\\n  <circle cx=\"128\" cy=\"128\" r=\"0.0625\" fill=\"white\" />\\n  <circle cx=\"128\" cy=\"128\" r=\"0.03125\" fill=\"black\" />\\n  <circle cx=\"128\" cy=\"128\" r=\"0.015625\" fill=\"white\" />\\n  <circle cx=\"128\" cy=\"128\" r=\"0.0078125\" fill=\"black\" />\\n  <circle cx=\"128\" cy=\"128\" r=\"0.00390625\" fill=\"white\" />\\n  <circle cx=\"128\" cy=\"128\" r=\"0.001953125\" fill=\"black\" />\\n  <circle cx=\"128\" cy=\"128\" r=\"0.0009765625\" fill=\"white\" />\\n  <circle cx=\"128\" cy=\"128\" r=\"0.00048828125\" fill=\"black\" />\\n  <circle cx=\"128\" cy=\"128\" r=\"0.000244140625\" fill=\"white\" />\\n  <circle cx=\"128\" cy=\"128\" r=\"0.0001220703125\" fill=\"black\" />\\n  <circle cx=\"128\" cy=\"128\" r=\"0.00006103515625\" fill=\"white\" />\\n  <circle cx=\"128\" cy=\"128\" r=\"0.000030517578125\" fill=\"black\" />\\n  <circle cx=\"128\" cy=\"128\" r=\"0.0000152587890625\" fill=\"white\" />\\n  <circle cx=\"128\" cy=\"128\" r=\"0.00000762939453125\" fill=\"black\" />\\n  <circle cx=\"128\" cy=\"128\" r=\"0.000003814697265625\" fill=\"white\" />\\n  <circle cx=\"128\" cy=\"128\" r=\"0.0000019073486328125', '<svg width=\"256\" height=\"256\" viewBox=\"0 0 256 256\" xmlns=\"http://www.w3.org/2000/svg\">\\n  <defs>\\n    <radialGradient id=\"glow\" cx=\"50%\" cy=\"50%\" r=\"50%\" fx=\"50%\" fy=\"50%\">\\n      <stop offset=\"0%\" stop-color=\"white\" stop-opacity=\"0.2\"/>\\n      <stop offset=\"100%\" stop-color=\"white\" stop-opacity=\"0\"/>\\n    </radialGradient>\\n    <pattern id=\"shards\" patternUnits=\"userSpaceOnUse\" width=\"16\" height=\"16\">\\n      <polygon points=\"0,0 8,0 8,8 0,8\" fill=\"#a0c4ff\"/>\\n      <polygon points=\"8,0 16,0 16,8 8,8\" fill=\"#c4d8ff\"/>\\n      <polygon points=\"0,8 8,8 8,16 0,16\" fill=\"#d8e8ff\"/>\\n      <polygon points=\"8,8 16,8 16,16 8,16\" fill=\"#e8f4ff\"/>\\n    </pattern>\\n  </defs>\\n  <rect width=\"256\" height=\"256\" fill=\"black\"/>\\n  <circle cx=\"128\" cy=\"128\" r=\"120\" fill=\"none\" stroke=\"white\" stroke-width=\"2\" stroke-dasharray=\"4,2\"/>\\n  <circle cx=\"128\" cy=\"128\" r=\"110\" fill=\"none\" stroke=\"white\" stroke-width=\"2\" stroke-dasharray=\"4,2\" stroke-opacity=\"0.8\"/>\\n  <circle cx=\"128\" cy=\"128\" r=\"100\" fill=\"none\" stroke=\"white\" stroke-width=\"2\" stroke-dasharray=\"4,2\" stroke-opacity=\"0.6\"/>\\n  <circle cx=\"128\" cy=\"128\" r=\"90\" fill=\"none\" stroke=\"white\" stroke-width=\"2\" stroke-dasharray=\"4,2\" stroke-opacity=\"0.4\"/>\\n  <circle cx=\"128\" cy=\"128\" r=\"80\" fill=\"none\" stroke=\"white\" stroke-width=\"2\" stroke-dasharray=\"4,2\" stroke-opacity=\"0.2\"/>\\n  <circle cx=\"128\" cy=\"128\" r=\"70\" fill=\"none\" stroke=\"white\" stroke-width=\"2\" stroke-dasharray=\"4,2\" stroke-opacity=\"0.1\"/>\\n  <circle cx=\"128\" cy=\"128\" r=\"60\" fill=\"none\" stroke=\"white\" stroke-width=\"2\" stroke-dasharray=\"4,2\" stroke-opacity=\"0.05\"/>\\n  <circle cx=\"128\" cy=\"128\" r=\"50\" fill=\"none\" stroke=\"white\" stroke-width=\"2\" stroke-dasharray=\"4,2\" stroke-opacity=\"0.02\"/>\\n  <circle cx=\"128\" cy=\"128\" r=\"40\" fill=\"none\" stroke=\"white\" stroke-width=\"2\" stroke-dasharray=\"4,2\" stroke-opacity=\"0.01\"/>\\n  <circle cx=\"128\" cy=\"128\" r=\"30\" fill=\"none\" stroke=\"white\" stroke-width=\"2\" stroke-dasharray=\"4,2\" stroke-opacity=\"0.005\"/>\\n  <circle cx=\"128\" cy=\"128\" r=\"20\" fill=\"none\" stroke=\"white\" stroke-width=\"2\" stroke-dasharray=\"4,2\" stroke-opacity=\"0.002\"/>\\n  <circle cx=\"128\" cy=\"128\" r=\"10\" fill=\"none\" stroke=\"white\" stroke-width=\"2\" stroke-dasharray=\"4,2\" stroke-opacity=\"0.001\"/>\\n  <circle cx=\"128\" cy=\"128\" r=\"5\" fill=\"none\" stroke=\"white\" stroke-width=\"2\" stroke-dasharray=\"4,2\" stroke-opacity=\"0.0005\"/>\\n  <circle cx=\"128\" cy=\"128\" r=\"2.5\" fill=\"none\" stroke=\"white\" stroke-width=\"2\" stroke-dasharray=\"4,2\" stroke-opacity=\"0.0002\"/>\\n', '<svg width=\"256\" height=\"256\" xmlns=\"http://www.w3.org/2000/svg\">\\n  <defs>\\n    <pattern id=\"hexagons\" patternUnits=\"userSpaceOnUse\" width=\"40\" height=\"34.64\">\\n      <polygon points=\"0,0 20,0 30,17.32 20,34.64 0,34.64 -10,17.32\" fill=\"#c9a081\"/>\\n    </pattern>\\n    <pattern id=\"cracks\" patternUnits=\"userSpaceOnUse\" width=\"10\" height=\"10\">\\n      <path d=\"M0,0 L10,5\" stroke=\"#d2b48c\" stroke-width=\"2\" fill=\"none\"/>\\n    </pattern>\\n  </defs>\\n  <rect width=\"256\" height=\"256\" fill=\"url(#cracks)\"/>\\n  <rect width=\"256\" height=\"256\" fill=\"url(#hexagons)\"/>\\n</svg>', '<svg width=\"256\" height=\"256\" xmlns=\"http://www.w3.org/2000/svg\">\\n  <rect width=\"256\" height=\"256\" fill=\"#1a1a2e\"/>\\n  <polygon points=\"0,256 256,256 256,150 0,150\" fill=\"#8a3314\"/>\\n  <ellipse cx=\"128\" cy=\"128\" rx=\"120\" ry=\"80\" fill=\"#4a235a\"/>\\n  <ellipse cx=\"128\" cy=\"128\" rx=\"100\" ry=\"60\" fill=\"#7f4f6c\"/>\\n  <ellipse cx=\"128\" cy=\"128\" rx=\"80\" ry=\"40\" fill=\"#b38f9e\"/>\\n  <polygon points=\"256,256 256,150 200,180 200,220\" fill=\"#f4c263\"/>\\n  <polygon points=\"256,256 200,220 120,220 120,180\" fill=\"#f4c263\"/>\\n  <polygon points=\"120,180 200,180 200,220 120,220\" fill=\"#f4c263\"/>\\n  <polygon points=\"0,256 0,150 60,180 60,220\" fill=\"#f4c263\"/>\\n  <polygon points=\"0,256 60,220 120,220 120,180\" fill=\"#f4c263\"/>\\n  <polygon points=\"0,256 0,150 60,180 60,220\" fill=\"#f4c263\"/>\\n  <polygon points=\"0,256 0,150 60,180 60,220\" fill=\"#f4c263\"/>\\n  <polygon points=\"256,256 256,150 200,180 200,220\" fill=\"#f4c263\"/>\\n  <polygon points=\"256,256 200,220 120,220 120,180\" fill=\"#f4c263\"/>\\n  <polygon points=\"120,180 200,180 200,220 120,220\" fill=\"#f4c263\"/>\\n  <polygon points=\"0,256 0,150 60,180 60,220\" fill=\"#f4c263\"/>\\n  <polygon points=\"0,256 60,220 120,220 120,180\" fill=\"#f4c263\"/>\\n  <polygon points=\"0,256 0,150 60,180 60,220\" fill=\"#f4c263\"/>\\n  <polygon points=\"0,256 0,150 60,180 60,220\" fill=\"#f4c263\"/>\\n  <polygon points=\"256,256 256,150 200,180 200,220\" fill=\"#f4c263\"/>\\n  <polygon points=\"256,256 200,220 120,220 120,180\" fill=\"#f4c263\"/>\\n  <polygon points=\"120,180 200,180 200,220 120,220\" fill=\"#f4c263\"/>\\n  <polygon points=\"0,256 0,150 60,180 60,220\" fill=\"#f4c263\"/>\\n  <polygon points=\"0,256 60,220 120', '<svg width=\"256\" height=\"256\" xmlns=\"http://www.w3.org/2000/svg\">\\n  <defs>\\n    <linearGradient id=\"sunlight\" x1=\"0\" y1=\"0\" x2=\"1\" y2=\"1\">\\n      <stop offset=\"0%\" stop-color=\"white\" stop-opacity=\"0.8\"/>\\n      <stop offset=\"100%\" stop-color=\"yellow\" stop-opacity=\"0.6\"/>\\n    </linearGradient>\\n  </defs>\\n  <rect width=\"256\" height=\"256\" fill=\"darkslategray\"/>\\n  <rect x=\"64\" y=\"64\" width=\"128\" height=\"128\" fill=\"#8B4513\"/>\\n  <rect x=\"80\" y=\"80\" width=\"96\" height=\"96\" fill=\"#654321\"/>\\n  <rect x=\"96\" y=\"96\" width=\"64\" height=\"64\" fill=\"#4B3621\"/>\\n  <rect x=\"112\" y=\"112\" width=\"32\" height=\"32\" fill=\"#3A2A21\"/>\\n  <rect x=\"128\" y=\"128\" width=\"16\" height=\"16\" fill=\"#2E1E14\"/>\\n  <rect x=\"144\" y=\"144\" width=\"8\" height=\"8\" fill=\"#22120A\"/>\\n  <rect x=\"160\" y=\"160\" width=\"4\" height=\"4\" fill=\"#1A0A04\"/>\\n  <rect x=\"176\" y=\"176\" width=\"2\" height=\"2\" fill=\"#120602\"/>\\n  <rect x=\"192\" y=\"192\" width=\"1\" height=\"1\" fill=\"#0A0301\"/>\\n  <polygon points=\"64,64 128,64 128,128 64,128\" fill=\"white\" opacity=\"0.3\"/>\\n  <polygon points=\"80,80 112,80 112,112 80,112\" fill=\"white\" opacity=\"0.2\"/>\\n  <polygon points=\"96,96 112,96 112,112 96,112\" fill=\"white\" opacity=\"0.1\"/>\\n  <polygon points=\"112,112 112,128 128,128 128,112\" fill=\"white\" opacity=\"0.05\"/>\\n  <polygon points=\"128,128 128,144 144,144 144,128\" fill=\"white\" opacity=\"0.03\"/>\\n  <polygon points=\"144,144 144,160 160,160 160,144\" fill=\"white\" opacity=\"0.02\"/>\\n  <polygon points=\"160,160 160,176 176,176 176,160\" fill=\"white\" opacity=\"0.01\"/>\\n  <polygon points=\"176,176 176,192 192,192 192,176\" fill=\"white\" opacity=\"0.005\"/>\\n  <polygon points=\"192,192 192,208 208,208 208,192\" fill=\"white\" opacity=\"0.002\"/>\\n  <rect x=\"10\" y=\"10\" width=\"236\" height=\"236\" fill=\"none\" stroke=\"white\" stroke-width=\"2\"/>\\n  <rect x=\"12\" y=\"12\" width=\"232\" height=\"232\" fill=\"none\" stroke=\"white\" stroke-width=\"1\"/>\\n  <rect x=\"14\" y=\"14\" width=\"228\" height=\"228\" fill=\"none\" stroke=\"white\" stroke-width=\"0.5\"/>\\n  <rect x=\"16\" y=\"16\" width=\"224\" height=\"224\" fill=\"none\" stroke=\"white\" stroke-width=\"0.', '<svg width=\"256\" height=\"256\" xmlns=\"http://www.w3.org/2000/svg\">\\n  <circle cx=\"128\" cy=\"128\" r=\"120\" fill=\"none\" stroke=\"#333\" stroke-width=\"2\"/>\\n  <circle cx=\"128\" cy=\"128\" r=\"100\" fill=\"none\" stroke=\"#666\" stroke-width=\"2\"/>\\n  <circle cx=\"128\" cy=\"128\" r=\"80\" fill=\"none\" stroke=\"#999\" stroke-width=\"2\"/>\\n  <circle cx=\"128\" cy=\"128\" r=\"60\" fill=\"none\" stroke=\"#ccc\" stroke-width=\"2\"/>\\n  <circle cx=\"128\" cy=\"128\" r=\"40\" fill=\"none\" stroke=\"#eee\" stroke-width=\"2\"/>\\n  <circle cx=\"128\" cy=\"128\" r=\"20\" fill=\"none\" stroke=\"#fff\" stroke-width=\"2\"/>\\n  <path d=\"M128,128 L120,100 L110,110 L100,100 L90,110 L80,100 L70,110 L60,100 L50,110 L40,100 L30,110 L20,100 L10,110 L0,100 L0,120 L10,130 L20,120 L30,130 L40,120 L50,130 L60,120 L70,130 L80,120 L90,130 L100,120 L110,130 L120,120 L128,128 Z\" fill=\"#00f\" opacity=\"0.2\"/>\\n  <path d=\"M128,128 L120,140 L110,130 L100,140 L90,130 L80,140 L70,130 L60,140 L50,130 L40,140 L30,130 L20,140 L10,130 L0,140 L0,120 L10,100 L20,120 L30,100 L40,120 L50,100 L60,120 L70,100 L80,120 L90,100 L100,120 L110,100 L120,120 L128,128 Z\" fill=\"#0ff\" opacity=\"0.2\"/>\\n  <path d=\"M128,128 L120,140 L110,130 L100,140 L90,130 L80,140 L70,130 L60,140 L50,130 L40,140 L30,130 L20,140 L10,130 L0,140 L0,120 L10,100 L20,120 L30,100 L40,120 L50,100 L60,120 L70,100 L80,120 L90,100 L100,120 L110,100 L120,120 L128,128 Z\" fill=\"#0ff\" opacity=\"0.2\"/>\\n  <path d=\"M128,128 L120,100 L110,110 L100,100 L90,110 L80,100 L70,110 L60,100 L50,110 L40,100 L30,110 L20,100 L10,110 L0,1', '<svg width=\"256\" height=\"256\" viewBox=\"0 0 256 256\" xmlns=\"http://www.w3.org/2000/svg\">\\n  <defs>\\n    <pattern id=\"grid\" patternUnits=\"userSpaceOnUse\" width=\"32\" height=\"32\">\\n      <path d=\"M0 0 L32 0 L32 32 L0 32 Z\" fill=\"none\" stroke=\"#888\" stroke-width=\"1\"/>\\n    </pattern>\\n    <pattern id=\"cracks\" patternUnits=\"userSpaceOnUse\" width=\"64\" height=\"64\">\\n      <path d=\"M0 0 L64 0 L64 64 L0 64 Z\" fill=\"none\" stroke=\"#444\" stroke-width=\"2\"/>\\n    </pattern>\\n  </defs>\\n  <rect width=\"256\" height=\"256\" fill=\"url(#grid)\"/>\\n  <rect width=\"256\" height=\"256\" fill=\"url(#cracks)\"/>\\n</svg>', '<svg width=\"256\" height=\"256\" xmlns=\"http://www.w3.org/2000/svg\">\\n  <defs>\\n    <radialGradient id=\"lightGradient\" cx=\"50%\" cy=\"50%\" r=\"70%\" fx=\"50%\" fy=\"50%\">\\n      <stop offset=\"0%\" stop-color=\"#fff\" stop-opacity=\"0.8\"/>\\n      <stop offset=\"100%\" stop-color=\"#fff\" stop-opacity=\"0\"/>\\n    </radialGradient>\\n    <pattern id=\"windowFolds\" patternUnits=\"userSpaceOnUse\" width=\"10\" height=\"10\">\\n      <path d=\"M0 0 L5 5 L10 0 Z\" fill=\"#8B4513\"/>\\n      <path d=\"M0 10 L5 5 L10 10 Z\" fill=\"#8B4513\"/>\\n    </pattern>\\n  </defs>\\n  <rect width=\"256\" height=\"256\" fill=\"url(#lightGradient)\" />\\n  <rect x=\"40\" y=\"40\" width=\"176\" height=\"176\" fill=\"url(#windowFolds)\" />\\n  <rect x=\"40\" y=\"40\" width=\"176\" height=\"176\" fill=\"url(#lightGradient)\" />\\n</svg>', '<svg width=\"256\" height=\"256\" xmlns=\"http://www.w3.org/2000/svg\">\\n  <defs>\\n    <style>\\n      .sapphire { fill: #4b9cd3; }\\n      .golden { fill: #ffd700; }\\n    </style>\\n  </defs>\\n  <circle cx=\"128\" cy=\"128\" r=\"100\" class=\"golden\" />\\n  <g transform=\"translate(128,128)\">\\n    <g transform=\"rotate(0)\">\\n      <polygon points=\"60,-20 50,-60 10,-60 10,-20 50,-20 60,-60\" class=\"sapphire\" />\\n    </g>\\n    <g transform=\"rotate(30)\">\\n      <polygon points=\"60,-20 50,-60 10,-60 10,-20 50,-20 60,-60\" class=\"sapphire\" />\\n    </g>\\n    <g transform=\"rotate(60)\">\\n      <polygon points=\"60,-20 50,-60 10,-60 10,-20 50,-20 60,-60\" class=\"sapphire\" />\\n    </g>\\n    <g transform=\"rotate(90)\">\\n      <polygon points=\"60,-20 50,-60 10,-60 10,-20 50,-20 60,-60\" class=\"sapphire\" />\\n    </g>\\n    <g transform=\"rotate(120)\">\\n      <polygon points=\"60,-20 50,-60 10,-60 10,-20 50,-20 60,-60\" class=\"sapphire\" />\\n    </g>\\n    <g transform=\"rotate(150)\">\\n      <polygon points=\"60,-20 50,-60 10,-60 10,-20 50,-20 60,-60\" class=\"sapphire\" />\\n    </g>\\n  </g>\\n</svg>', '<svg width=\"256\" height=\"256\" xmlns=\"http://www.w3.org/2000/svg\">\\n  <rect width=\"256\" height=\"256\" fill=\"#8B4513\"/>\\n  <rect x=\"0\" y=\"0\" width=\"128\" height=\"128\" fill=\"#D2691E\"/>\\n  <rect x=\"128\" y=\"0\" width=\"128\" height=\"128\" fill=\"#A0522D\"/>\\n  <rect x=\"0\" y=\"128\" width=\"128\" height=\"128\" fill=\"#CD853F\"/>\\n  <rect x=\"128\" y=\"128\" width=\"128\" height=\"128\" fill=\"#DEB887\"/>\\n</svg>', '<svg width=\"256\" height=\"256\" viewBox=\"0 0 256 256\" xmlns=\"http://www.w3.org/2000/svg\">\\n  <defs>\\n    <radialGradient id=\"silverShimmer\" cx=\"50%\" cy=\"50%\" r=\"50%\">\\n      <stop offset=\"0%\" stop-color=\"#c0c0c0\" stop-opacity=\"0.8\"/>\\n      <stop offset=\"50%\" stop-color=\"#dcdcdc\" stop-opacity=\"0.6\"/>\\n      <stop offset=\"100%\" stop-color=\"#e0e0e0\" stop-opacity=\"0.4\"/>\\n    </radialGradient>\\n    <radialGradient id=\"sapphire\" cx=\"50%\" cy=\"50%\" r=\"50%\">\\n      <stop offset=\"0%\" stop-color=\"#4b9cd3\" stop-opacity=\"1\"/>\\n      <stop offset=\"100%\" stop-color=\"#0066cc\" stop-opacity=\"0.8\"/>\\n    </radialGradient>\\n  </defs>\\n  <rect width=\"256\" height=\"256\" fill=\"url(#silverShimmer)\"/>\\n  <polygon points=\"128,20 168,80 208,60 184,120 144,140 104,120 80,60 112,80\" fill=\"url(#sapphire)\" transform=\"translate(128,128) scale(0.8)\" />\\n</svg>', '<svg width=\"256\" height=\"256\" xmlns=\"http://www.w3.org/2000/svg\">\\n  <rect width=\"256\" height=\"256\" fill=\"#87CEEB\"/>\\n  <ellipse cx=\"128\" cy=\"128\" rx=\"120\" ry=\"100\" fill=\"none\" stroke=\"#4682B4\" stroke-width=\"4\"/>\\n  <path d=\"M 128 128 m -100 0 a 100 100 0 1 1 200 0 a 100 100 0 1 1 -200 0\" fill=\"none\" stroke=\"#8B4513\" stroke-width=\"2\"/>\\n  <circle cx=\"100\" cy=\"130\" r=\"5\" fill=\"#8B4513\"/>\\n  <circle cx=\"140\" cy=\"125\" r=\"5\" fill=\"#8B4513\"/>\\n  <circle cx=\"110\" cy=\"145\" r=\"5\" fill=\"#8B4513\"/>\\n  <circle cx=\"135\" cy=\"140\" r=\"5\" fill=\"#8B4513\"/>\\n  <circle cx=\"120\" cy=\"135\" r=\"5\" fill=\"#8B4513\"/>\\n</svg>', '<svg width=\"256\" height=\"256\" xmlns=\"http://www.w3.org/2000/svg\">\\n  <rect width=\"256\" height=\"256\" fill=\"#2e2e2e\"/>\\n  <g stroke=\"#8b4513\" stroke-width=\"2\">\\n    <line x1=\"0\" y1=\"0\" x2=\"256\" y2=\"256\"/>\\n    <line x1=\"0\" y1=\"256\" x2=\"256\" y2=\"0\"/>\\n  </g>\\n  <g fill=\"#4b0082\">\\n    <rect x=\"0\" y=\"0\" width=\"64\" height=\"64\"/>\\n    <rect x=\"128\" y=\"128\" width=\"64\" height=\"64\"/>\\n    <rect x=\"192\" y=\"192\" width=\"64\" height=\"64\"/>\\n  </g>\\n</svg>', '<svg width=\"256\" height=\"256\" xmlns=\"http://www.w3.org/2000/svg\">\\n  <rect width=\"256\" height=\"256\" fill=\"#111111\"/>\\n  <polygon points=\"128,20 176,68 224,68 176,116 128,116 80,68 128,20\" fill=\"#ffffff\" stroke=\"#cccccc\" stroke-width=\"2\"/>\\n  <circle cx=\"128\" cy=\"128\" r=\"20\" fill=\"#ffaa00\" stroke=\"#ffaa00\" stroke-width=\"2\"/>\\n</svg>', '<svg width=\"256\" height=\"256\" xmlns=\"http://www.w3.org/2000/svg\">\\n  <circle cx=\"128\" cy=\"128\" r=\"120\" fill=\"none\" stroke=\"#4B0082\" stroke-width=\"4\"/>\\n  <path d=\"M128,128 L128,48 A80,80 0 0,1 208,128 L128,128 Z\" fill=\"#0000FF\"/>\\n  <path d=\"M128,128 L128,208 A80,80 0 0,1 208,128 L128,128 Z\" fill=\"#0000FF\"/>\\n  <path d=\"M128,128 L48,128 A80,80 0 0,1 48,128 L128,128 Z\" fill=\"#0000FF\"/>\\n  <path d=\"M128,128 L128,48 A80,80 0 0,1 48,128 L128,128 Z\" fill=\"#0000FF\"/>\\n  <circle cx=\"128\" cy=\"128\" r=\"10\" fill=\"#00F0FF\"/>\\n  <circle cx=\"108\" cy=\"108\" r=\"8\" fill=\"#00F0FF\"/>\\n  <circle cx=\"148\" cy=\"108\" r=\"8\" fill=\"#00F0FF\"/>\\n  <circle cx=\"108\" cy=\"148\" r=\"8\" fill=\"#00F0FF\"/>\\n  <circle cx=\"148\" cy=\"148\" r=\"8\" fill=\"#00F0FF\"/>\\n  <circle cx=\"128\" cy=\"128\" r=\"6\" fill=\"#00F0FF\"/>\\n  <circle cx=\"118\" cy=\"118\" r=\"4\" fill=\"#00F0FF\"/>\\n  <circle cx=\"138\" cy=\"118\" r=\"4\" fill=\"#00F0FF\"/>\\n  <circle cx=\"118\" cy=\"138\" r=\"4\" fill=\"#00F0FF\"/>\\n  <circle cx=\"138\" cy=\"138\" r=\"4\" fill=\"#00F0FF\"/>\\n</svg>', '<svg width=\"256\" height=\"256\" viewBox=\"0 0 256 256\" xmlns=\"http://www.w3.org/2000/svg\">\\n  <rect width=\"256\" height=\"256\" fill=\"#87ceeb\"/>\\n  <path d=\"M128 200 C100 150 70 150 40 200 C10 250 10 290 40 340 C70 390 100 390 128 340 C166 290 196 250 224 200 C254 150 254 110 224 60 C196 10 166 -30 128 0 C70 -30 40 10 40 60 C10 110 10 150 40 200 Z\" fill=\"#8fbc8f\"/>\\n  <path d=\"M40 200 C10 250 10 290 40 340 C70 390 100 390 128 340 C166 290 196 250 224 200 C254 150 254 110 224 60 C196 10 166 -30 128 0 C70 -30 40 10 40 60 C10 110 10 150 40 200 Z\" fill=\"#c19a6b\"/>\\n  <path d=\"M128 200 C100 150 70 150 40 200 C10 250 10 290 40 340 C70 390 100 390 128 340 C166 290 196 250 224 200 C254 150 254 110 224 60 C196 10 166 -30 128 0 C70 -30 40 10 40 60 C10 110 10 150 40 200 Z\" fill=\"#ffffff\"/>\\n  <path d=\"M128 120 C100 80 70 80 40 120 C10 160 10 200 40 240 C70 280 100 280 128 240 C166 200 196 160 224 120 C254 80 254 40 224 0 C196 -40 166 -80 128 -80 C70 -80 40 -40 40 0 C10 -40 10 40 40 80 C70 120 100 120 128 80 Z\" fill=\"#d2b48c\"/>\\n  <path d=\"M128 120 C100 80 70 80 40 120 C10 160 10 200 40 240 C70 280 100 280 128 240 C166 200 196 160 224 120 C254 80 254 40 224 0 C196 -40 166 -80 128 -80 C70 -80 40 -40 40 0 C10 -40 ', '<svg width=\"256\" height=\"256\" xmlns=\"http://www.w3.org/2000/svg\">\\n  <defs>\\n    <style>\\n      .hex {\\n        fill: #87CEEB;\\n        stroke: #4682B4;\\n        stroke-width: 1;\\n      }\\n    </style>\\n  </defs>\\n  <rect width=\"256\" height=\"256\" fill=\"#87CEEB\"/>\\n  <g transform=\"translate(128,128)\">\\n    <polygon class=\"hex\" points=\"60,-60 90,-30 90,30 60,60 -30,60 -30,30\"/>\\n    <polygon class=\"hex\" points=\"60,-60 90,-30 90,30 60,60 -30,60 -30,30\" transform=\"rotate(60)\"/>\\n    <polygon class=\"hex\" points=\"60,-60 90,-30 90,30 60,60 -30,60 -30,30\" transform=\"rotate(120)\"/>\\n    <polygon class=\"hex\" points=\"60,-60 90,-30 90,30 60,60 -30,60 -30,30\" transform=\"rotate(180)\"/>\\n    <polygon class=\"hex\" points=\"60,-60 90,-30 90,30 60,60 -30,60 -30,30\" transform=\"rotate(240)\"/>\\n    <polygon class=\"hex\" points=\"60,-60 90,-30 90,30 60,60 -30,60 -30,30\" transform=\"rotate(300)\"/>\\n  </g>\\n</svg>', '<svg width=\"256\" height=\"256\" xmlns=\"http://www.w3.org/2000/svg\">\\n  <rect width=\"256\" height=\"256\" fill=\"#87CEEB\"/>\\n  <path d=\"M 0 256 Q 128 100 256 256\" fill=\"none\" stroke=\"#4682B4\" stroke-width=\"4\"/>\\n  <rect x=\"50\" y=\"180\" width=\"156\" height=\"30\" fill=\"#000000\"/>\\n  <rect x=\"70\" y=\"195\" width=\"116\" height=\"15\" fill=\"#000000\"/>\\n  <rect x=\"90\" y=\"210\" width=\"76\" height=\"10\" fill=\"#000000\"/>\\n</svg>', '<svg width=\"256\" height=\"256\" xmlns=\"http://www.w3.org/2000/svg\">\\n  <defs>\\n    <linearGradient id=\"waterGradient\" x1=\"0\" y1=\"0\" x2=\"0\" y2=\"1\">\\n      <stop offset=\"0%\" stop-color=\"#a0d8f1\"/>\\n      <stop offset=\"100%\" stop-color=\"#4099c3\"/>\\n    </linearGradient>\\n    <filter id=\"waterEffect\" x=\"-50%\" y=\"-50%\" width=\"200%\" height=\"200%\">\\n      <feTurbulence type=\"turbulence\" baseFrequency=\"0.02\" numOctaves=\"2\" result=\"turbulence\"/>\\n      <feDisplacementMap in=\"SourceGraphic\" in2=\"turbulence\" scale=\"3\" xChannelSelector=\"R\" yChannelSelector=\"G\"/>\\n    </filter>\\n  </defs>\\n  <polygon points=\"0,256 256,0 256,256\" fill=\"#87CEEB\"/>\\n  <polygon points=\"0,256 256,0 256,256\" fill=\"#87CEEB\" filter=\"url(#waterEffect)\"/>\\n  <polygon points=\"0,256 128,0 256,256\" fill=\"#87CEEB\"/>\\n  <polygon points=\"0,256 128,0 256,256\" fill=\"#87CEEB\" filter=\"url(#waterEffect)\"/>\\n  <polygon points=\"0,256 64,0 256,256\" fill=\"#87CEEB\"/>\\n  <polygon points=\"0,256 64,0 256,256\" fill=\"#87CEEB\" filter=\"url(#waterEffect)\"/>\\n  <polygon points=\"0,256 32,0 256,256\" fill=\"#87CEEB\"/>\\n  <polygon points=\"0,256 32,0 256,256\" fill=\"#87CEEB\" filter=\"url(#waterEffect)\"/>\\n  <polygon points=\"0,256 16,0 256,256\" fill=\"#87CEEB\"/>\\n  <polygon points=\"0,256 16,0 256,256\" fill=\"#87CEEB\" filter=\"url(#waterEffect)\"/>\\n  <polygon points=\"0,256 8,0 256,256\" fill=\"#87CEEB\"/>\\n  <polygon points=\"0,256 8,0 256,256\" fill=\"#87CEEB\" filter=\"url(#waterEffect)\"/>\\n  <polygon points=\"0,256 4,0 256,256\" fill=\"#87CEEB\"/>\\n  <polygon points=\"0,256 4,0 256,256\" fill=\"#87CEEB\" filter=\"url(#waterEffect)\"/>\\n  <polygon points=\"0,256 2,0 256,256\" fill=\"#87CEEB\"/>\\n  <polygon points=\"0,256 2,0 256,256\" fill=\"#87CEEB\" filter=\"url(#waterEffect)\"/>\\n  <polygon points=\"0,256 1,0 256,256\" fill=\"#87CEEB\"/>\\n  <polygon points=\"0,256 1,0 256,256\" fill=\"#87CEEB\" filter=\"url(#waterEffect)\"/>\\n  <polygon points=\"0,256 0.5,0 256,256\" fill=\"#87CEEB\"/>\\n  <polygon points=\"0,256 0.5,0 256,256\" fill=\"#87CEEB\" filter=\"url(#waterEffect)\"/>\\n  <polygon points=\"0,256 0,0 256,256\" fill=\"#87CEEB\"/>\\n  <polygon points=\"0,256 0,0 256,256\" fill=\"#87CEEB\" filter=\"url(#waterEffect)\"/>\\n  <polygon points=\"0,256 0,0 256,256\" fill=\"url(#', '<svg width=\"256\" height=\"256\" viewBox=\"0 0 256 256\" xmlns=\"http://www.w3.org/2000/svg\">\\n  <defs>\\n    <linearGradient id=\"sunlight\" x1=\"0\" y1=\"0\" x2=\"1\" y2=\"1\">\\n      <stop offset=\"0%\" stop-color=\"#FFD700\"/>\\n      <stop offset=\"100%\" stop-color=\"#FFA500\"/>\\n    </linearGradient>\\n  </defs>\\n  <rect width=\"256\" height=\"256\" fill=\"#8B4513\"/>\\n  <circle cx=\"128\" cy=\"128\" r=\"80\" fill=\"#6B4423\"/>\\n  <polygon points=\"128,80 140,100 120,120 100,100\" fill=\"#FFD700\"/>\\n  <polygon points=\"128,80 140,100 120,120 100,100\" fill=\"url(#sunlight)\" opacity=\"0.5\"/>\\n  <polygon points=\"128,120 140,140 120,160 100,140\" fill=\"#FFD700\"/>\\n  <polygon points=\"128,120 140,140 120,160 100,140\" fill=\"url(#sunlight)\" opacity=\"0.5\"/>\\n  <polygon points=\"128,160 140,180 120,200 100,180\" fill=\"#FFD700\"/>\\n  <polygon points=\"128,160 140,180 120,200 100,180\" fill=\"url(#sunlight)\" opacity=\"0.5\"/>\\n</svg>', '<svg width=\"256\" height=\"256\" xmlns=\"http://www.w3.org/2000/svg\">\\n  <defs>\\n    <pattern id=\"grid\" patternUnits=\"userSpaceOnUse\" width=\"32\" height=\"32\">\\n      <path d=\"M 0 0 L 32 0 L 32 32 L 0 32 Z\" fill=\"none\" stroke=\"black\" stroke-width=\"1\"/>\\n    </pattern>\\n  </defs>\\n  <rect width=\"256\" height=\"256\" fill=\"url(#grid)\" />\\n  <circle cx=\"128\" cy=\"128\" r=\"100\" fill=\"orange\" />\\n</svg>', '<svg width=\"256\" height=\"256\" xmlns=\"http://www.w3.org/2000/svg\">\\n  <rect width=\"256\" height=\"256\" fill=\"white\"/>\\n  <circle cx=\"128\" cy=\"128\" r=\"120\" fill=\"none\" stroke=\"blue\" stroke-width=\"4\"/>\\n  <path d=\"M128,128 L128,48 A80,80 0 0,1 128,208 A80,80 0 0,1 128,128\" fill=\"none\" stroke=\"gold\" stroke-width=\"2\"/>\\n  <path d=\"M128,128 L128,208 A80,80 0 0,1 128,48 A80,80 0 0,1 128,128\" fill=\"none\" stroke=\"gold\" stroke-width=\"2\"/>\\n  <circle cx=\"128\" cy=\"128\" r=\"80\" fill=\"none\" stroke=\"orange\" stroke-width=\"2\"/>\\n  <circle cx=\"128\" cy=\"128\" r=\"40\" fill=\"none\" stroke=\"yellow\" stroke-width=\"2\"/>\\n  <circle cx=\"128\" cy=\"128\" r=\"20\" fill=\"none\" stroke=\"white\" stroke-width=\"2\"/>\\n</svg>', '<svg width=\"256\" height=\"256\" xmlns=\"http://www.w3.org/2000/svg\">\\n  <defs>\\n    <linearGradient id=\"skyGradient\" x1=\"0\" y1=\"0\" x2=\"0\" y2=\"1\">\\n      <stop offset=\"0%\" stop-color=\"#ff69b4\" />\\n      <stop offset=\"100%\" stop-color=\"#d16ba5\" />\\n    </linearGradient>\\n  </defs>\\n  <rect width=\"256\" height=\"256\" fill=\"url(#skyGradient)\" />\\n  <path d=\"M 0 256 Q 128 50 256 256 T 256 256\" fill=\"none\" stroke=\"#2e4053\" stroke-width=\"4\"/>\\n  <path d=\"M 0 256 Q 128 100 256 256 T 256 256\" fill=\"none\" stroke=\"#2e4053\" stroke-width=\"4\"/>\\n  <path d=\"M 0 256 Q 128 150 256 256 T 256 256\" fill=\"none\" stroke=\"#2e4053\" stroke-width=\"4\"/>\\n</svg>', '<svg width=\"256\" height=\"256\" xmlns=\"http://www.w3.org/2000/svg\">\\n  <defs>\\n    <linearGradient id=\"skyGradient\" x1=\"0\" y1=\"0\" x2=\"0\" y2=\"1\">\\n      <stop offset=\"0%\" stop-color=\"#ff9999\"/>\\n      <stop offset=\"100%\" stop-color=\"#ff66cc\"/>\\n    </linearGradient>\\n  </defs>\\n  <rect width=\"256\" height=\"256\" fill=\"url(#skyGradient)\"/>\\n  <path d=\"M 50 200 L 100 100 L 150 200 Z\" fill=\"#003300\"/>\\n  <path d=\"M 100 200 L 150 100 L 200 200 Z\" fill=\"#003300\"/>\\n  <path d=\"M 150 200 L 200 100 L 250 200 Z\" fill=\"#003300\"/>\\n</svg>', '<svg width=\"256\" height=\"256\" xmlns=\"http://www.w3.org/2000/svg\">\\n  <defs>\\n    <linearGradient id=\"sunrise\" x1=\"0\" y1=\"0\" x2=\"1\" y2=\"1\">\\n      <stop offset=\"0%\" stop-color=\"gold\"/>\\n      <stop offset=\"100%\" stop-color=\"orange\"/>\\n    </linearGradient>\\n  </defs>\\n  <rect width=\"256\" height=\"256\" fill=\"skyblue\"/>\\n  <polygon points=\"128,20 180,120 200,200 120,200 40,120\" fill=\"white\"/>\\n  <polygon points=\"128,20 180,120 200,200 120,200 40,120\" fill=\"url(#sunrise)\"/>\\n  <circle cx=\"128\" cy=\"20\" r=\"10\" fill=\"gold\"/>\\n  <circle cx=\"128\" cy=\"20\" r=\"8\" fill=\"white\"/>\\n  <circle cx=\"128\" cy=\"20\" r=\"6\" fill=\"gold\"/>\\n  <circle cx=\"128\" cy=\"20\" r=\"4\" fill=\"white\"/>\\n</svg>']\n",
      "\n",
      "\n",
      "\n",
      "\n",
      "\n",
      "\n",
      "\n",
      "\n",
      "\n",
      "\n",
      "\n",
      "\n"
     ]
    }
   ],
   "execution_count": null
  },
  {
   "metadata": {
    "ExecuteTime": {
     "end_time": "2025-05-19T17:33:34.175857Z",
     "start_time": "2025-05-19T17:33:34.172285Z"
    }
   },
   "cell_type": "code",
   "source": [
    "dir_path_for_res = os.path.join(cur_path, model_name)\n",
    "print(dir_path_for_res)\n",
    "file_path = os.path.join(dir_path_for_res, \"outputs_model.csv\")\n",
    "os.makedirs(os.path.dirname(file_path), exist_ok=True)\n",
    "temp = pd.DataFrame(svg_answers)\n",
    "temp.to_csv(file_path,index = False)"
   ],
   "id": "a8db5bef3232dc4c",
   "outputs": [
    {
     "data": {
      "text/plain": [
       "'/home/student/kuzin/python_project/TextToSvg_MLCUP/Qwen/Qwen3-8B'"
      ]
     },
     "execution_count": 24,
     "metadata": {},
     "output_type": "execute_result"
    }
   ],
   "execution_count": 24
  },
  {
   "metadata": {
    "ExecuteTime": {
     "end_time": "2025-05-19T16:42:14.060424Z",
     "start_time": "2025-05-19T16:42:14.045117Z"
    }
   },
   "cell_type": "code",
   "source": [
    "temp = pd.read_csv(file_path)\n",
    "temp.head(2)"
   ],
   "id": "7af850cf6f092e4c",
   "outputs": [
    {
     "data": {
      "text/plain": [
       "                                                   0\n",
       "0  <svg width=\"256\" height=\"256\" xmlns=\"http://ww...\n",
       "1  <svg width=\"256\" height=\"256\" viewBox=\"0 0 256..."
      ],
      "text/html": [
       "<div>\n",
       "<style scoped>\n",
       "    .dataframe tbody tr th:only-of-type {\n",
       "        vertical-align: middle;\n",
       "    }\n",
       "\n",
       "    .dataframe tbody tr th {\n",
       "        vertical-align: top;\n",
       "    }\n",
       "\n",
       "    .dataframe thead th {\n",
       "        text-align: right;\n",
       "    }\n",
       "</style>\n",
       "<table border=\"1\" class=\"dataframe\">\n",
       "  <thead>\n",
       "    <tr style=\"text-align: right;\">\n",
       "      <th></th>\n",
       "      <th>0</th>\n",
       "    </tr>\n",
       "  </thead>\n",
       "  <tbody>\n",
       "    <tr>\n",
       "      <th>0</th>\n",
       "      <td>&lt;svg width=\"256\" height=\"256\" xmlns=\"http://ww...</td>\n",
       "    </tr>\n",
       "    <tr>\n",
       "      <th>1</th>\n",
       "      <td>&lt;svg width=\"256\" height=\"256\" viewBox=\"0 0 256...</td>\n",
       "    </tr>\n",
       "  </tbody>\n",
       "</table>\n",
       "</div>"
      ]
     },
     "execution_count": 3,
     "metadata": {},
     "output_type": "execute_result"
    }
   ],
   "execution_count": 3
  },
  {
   "metadata": {},
   "cell_type": "markdown",
   "source": "### Визуальная оценка, красный круг означает, что SVG-код, выданный моделью, не валиден, поэтому отрисовывается заглушка",
   "id": "cd13be962e9573d5"
  },
  {
   "metadata": {},
   "cell_type": "markdown",
   "source": "#### P.S проблема чаще всего в том, что не хватило токенов, чтобы догенерить изображение. ",
   "id": "2cbc6ae3b3a09b32"
  },
  {
   "metadata": {
    "ExecuteTime": {
     "end_time": "2025-05-19T16:42:14.770473Z",
     "start_time": "2025-05-19T16:42:14.768092Z"
    }
   },
   "cell_type": "code",
   "source": [
    "from multiproc_converter_to_png import convert_svgs_to_pngs_parallel_in_memory\n",
    "def plug():\n",
    "    pass"
   ],
   "id": "a6f0ccd8b0963ff",
   "outputs": [],
   "execution_count": 4
  },
  {
   "metadata": {},
   "cell_type": "code",
   "source": [
    "for_path_columns = []\n",
    "num_processes = 32\n",
    "for i in range(0,32,num_processes):\n",
    "    start_i = i\n",
    "    end_i = i+ num_processes\n",
    "    batch_gereric = temp[\"0\"][start_i:end_i].to_dict()\n",
    "    generated_images_and_flags = convert_svgs_to_pngs_parallel_in_memory(list(batch_gereric.values(),), num_processes)\n",
    "    batch = eval_dataset[\"path_to_png\"][start_i:end_i].to_dict()\n",
    "    original_images = load_images_parallel(batch, num_processes)\n",
    "    for i in range(len(batch)):\n",
    "        print(eval_dataset.loc[start_i +i, ['sentence']])\n",
    "        orig_image = original_images[i]\n",
    "        generated_image, flag = generated_images_and_flags[i]\n",
    "        fig, axes = plt.subplots(1, 2, figsize=(12, 6))\n",
    "        axes[0].imshow(orig_image)\n",
    "        axes[0].set_title(\"Orginal\")\n",
    "        axes[0].axis(\"off\")\n",
    "        \n",
    "        axes[1].imshow(generated_image)\n",
    "        axes[1].set_title(\"Generated\")\n",
    "        axes[1].axis(\"off\")\n",
    "        \n",
    "        plt.tight_layout()\n",
    "        plt.show()"
   ],
   "id": "44c109b2ffd273a1",
   "outputs": [],
   "execution_count": null
  },
  {
   "metadata": {},
   "cell_type": "markdown",
   "source": "### Оценка эстетичности в метриках",
   "id": "215ff905ba5085ef"
  },
  {
   "metadata": {
    "ExecuteTime": {
     "end_time": "2025-05-19T17:16:08.783851Z",
     "start_time": "2025-05-19T17:15:26.525228Z"
    }
   },
   "cell_type": "code",
   "source": [
    "MLP_name = \"AScore/sac+logos+ava1-l14-linearMSE.pth\"\n",
    "full_path = os.path.join(cur_path, MLP_name)\n",
    "score_predictor = asp.AScorePredictor(full_path)\n",
    "for_generated_score_column = []\n",
    "for_cancel_flag=column = []\n",
    "num_processes = 32\n",
    "for i in tqdm(range(0, len(temp), num_processes),\n",
    "              total=len(range(0, len(temp), num_processes)),\n",
    "              desc=\"Processing batches\"):\n",
    "    start_i = i\n",
    "    end_i = i + num_processes\n",
    "    batch_gereric = temp[\"0\"][start_i:end_i].to_dict()\n",
    "    generated_images_and_flags = convert_svgs_to_pngs_parallel_in_memory(list(batch_gereric.values()), num_processes)\n",
    "    images = list(map(lambda t: t[0], generated_images_and_flags))\n",
    "    flags = list(map(lambda t: t[1], generated_images_and_flags))\n",
    "    batch_scores = score_predictor.get_score(images).detach().cpu().numpy()\n",
    "    for_generated_score_column.append(batch_scores)\n",
    "    for_cancel_flag+=flags\n"
   ],
   "id": "589cddbd0ad77023",
   "outputs": [
    {
     "data": {
      "text/plain": [
       "Processing batches:   0%|          | 0/19 [00:00<?, ?it/s]"
      ],
      "application/vnd.jupyter.widget-view+json": {
       "version_major": 2,
       "version_minor": 0,
       "model_id": "28aa51dfd86a4931abb5dfbd0fcedb3a"
      }
     },
     "metadata": {},
     "output_type": "display_data"
    },
    {
     "name": "stdout",
     "output_type": "stream",
     "text": [
      "Запуск обработки на 32 процессах...\n",
      "Запуск обработки на 32 процессах...\n",
      "Запуск обработки на 32 процессах...\n",
      "Запуск обработки на 32 процессах...\n",
      "Запуск обработки на 32 процессах...\n",
      "Запуск обработки на 32 процессах...\n",
      "Запуск обработки на 32 процессах...\n",
      "Запуск обработки на 32 процессах...\n",
      "Запуск обработки на 32 процессах...\n",
      "Запуск обработки на 32 процессах...\n",
      "Запуск обработки на 32 процессах...\n",
      "Запуск обработки на 32 процессах...\n",
      "Запуск обработки на 32 процессах...\n",
      "Запуск обработки на 32 процессах...\n",
      "Запуск обработки на 32 процессах...\n",
      "Запуск обработки на 32 процессах...\n",
      "Запуск обработки на 32 процессах...\n",
      "Запуск обработки на 32 процессах...\n",
      "Запуск обработки на 32 процессах...\n"
     ]
    }
   ],
   "execution_count": 21
  },
  {
   "metadata": {},
   "cell_type": "code",
   "outputs": [],
   "execution_count": null,
   "source": [
    "len(for_generated_score_column)\n",
    "res = np.vstack(for_generated_score_column)\n",
    "len(res)\n",
    "eval_dataset[\"generic_AScore\"] = res\n",
    "eval_dataset[\"cancel_flag\"] = for_cancel_flag\n",
    "eval_dataset.to_csv(os.path.join(dir_path_for_res,\"eval_results.csv\"), index=False)\n",
    "eval_dataset.head(5)"
   ],
   "id": "af9db0cb6d134705"
  }
 ],
 "metadata": {
  "kernelspec": {
   "display_name": "Python 3",
   "language": "python",
   "name": "python3"
  },
  "language_info": {
   "codemirror_mode": {
    "name": "ipython",
    "version": 2
   },
   "file_extension": ".py",
   "mimetype": "text/x-python",
   "name": "python",
   "nbconvert_exporter": "python",
   "pygments_lexer": "ipython2",
   "version": "2.7.6"
  }
 },
 "nbformat": 4,
 "nbformat_minor": 5
}
